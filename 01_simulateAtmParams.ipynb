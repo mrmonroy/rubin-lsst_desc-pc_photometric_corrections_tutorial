{
 "cells": [
  {
   "cell_type": "code",
   "execution_count": null,
   "id": "1c4cc48d",
   "metadata": {},
   "outputs": [],
   "source": []
  },
  {
   "cell_type": "markdown",
   "id": "a000b3a9",
   "metadata": {},
   "source": [
    "# Notebook to create simulated atmospheric transparencies \n",
    "\n",
    "Here we are going to create simulated atmospheric transparencies for different values of atmospheric parameters, such as precipitable water vapor (PWV), aerosols or different airmasses \n",
    "\n",
    "This notebook requires [libRadtran](http://www.libradtran.org/doku.php) "
   ]
  },
  {
   "cell_type": "markdown",
   "id": "74e08d48",
   "metadata": {},
   "source": [
    "# Load necessary packages "
   ]
  },
  {
   "cell_type": "code",
   "execution_count": 1,
   "id": "74b0427e",
   "metadata": {},
   "outputs": [],
   "source": [
    "import matplotlib.pyplot as plt\n",
    "import mpl_toolkits.mplot3d as plt3d\n",
    "import numpy as np\n",
    "import os, sys\n",
    "import matplotlib as mpl\n",
    "import pandas as pd\n",
    "import itertools\n",
    "from astropy.io import fits\n",
    "from scipy.stats import rayleigh,beta,gamma,uniform"
   ]
  },
  {
   "cell_type": "code",
   "execution_count": 2,
   "id": "e2d040c8",
   "metadata": {},
   "outputs": [],
   "source": [
    "output_dir = './simulated_transparencies/linear_distribution/discrete/'\n",
    "if os.path.exists(output_dir) == False:\n",
    "    os.mkdir(output_dir)"
   ]
  },
  {
   "cell_type": "markdown",
   "id": "c680084f",
   "metadata": {},
   "source": [
    "# Define function to generate simulated atm params according to their probability distributions "
   ]
  },
  {
   "cell_type": "code",
   "execution_count": 3,
   "id": "7f2fec04",
   "metadata": {},
   "outputs": [],
   "source": [
    "def simul_params(n,min,max):\n",
    "    \n",
    "    sim_param = np.random.uniform(low=min,high=max,size=n)\n",
    "        \n",
    "    return sim_param"
   ]
  },
  {
   "cell_type": "markdown",
   "id": "76e6816b",
   "metadata": {},
   "source": [
    "# Set parameters for simulation "
   ]
  },
  {
   "cell_type": "code",
   "execution_count": 4,
   "id": "bf7fc646",
   "metadata": {},
   "outputs": [],
   "source": [
    "#Number of simulated parameters of each type \n",
    "nsim = 10000 #Note this number is used only here \n",
    "atm_params = ['pwv','aerosol','ozone','cloud','airmass']\n",
    "################ airmass and clouds parameter values when fixing them \n",
    "fixed_cloud = 0.0\n",
    "fixed_airmass = 1.2\n",
    "################\n",
    "dist_params = {'pwv':{'min':1.,'max':9.,'fixed':3.0},\n",
    "               'aerosol':{'min':0.01,'max':0.09,'fixed':0.04},\n",
    "               'ozone':{'min':200.,'max':400.,'fixed':300},\n",
    "               'cloud':{'min':0.0,'max':1.0,'fixed':fixed_cloud},\n",
    "               'airmass':{'min':1.0,'max':2.0,'fixed':fixed_airmass},\n",
    "}\n",
    "\n",
    "index_params = {'pwv':0,'aerosol':1,'ozone':2,'cloud':3,'airmass':4}\n",
    "nparams = len(atm_params)"
   ]
  },
  {
   "cell_type": "markdown",
   "id": "308a8652",
   "metadata": {},
   "source": [
    "# Simulate some atmospheric parameters \n",
    "\n",
    "This is just a test for future simulations with random values following a given distribution. Note that the mean of the following uniform distributions is not necessarily the fixed value given in dist_params "
   ]
  },
  {
   "cell_type": "code",
   "execution_count": 5,
   "id": "1762f930",
   "metadata": {},
   "outputs": [],
   "source": [
    "sim_dict = {}\n",
    "for p in atm_params:\n",
    "    min_ = dist_params[p]['min']\n",
    "    max_ = dist_params[p]['max']\n",
    "    param = simul_params(nsim,min_,max_)\n",
    "    sim_dict[p] = param\n",
    "    "
   ]
  },
  {
   "cell_type": "code",
   "execution_count": 6,
   "id": "c233ddbb",
   "metadata": {},
   "outputs": [
    {
     "data": {
      "image/png": "[encoded data removed]",
      "text/plain": [
       "<Figure size 864x576 with 6 Axes>"
      ]
     },
     "metadata": {
      "needs_background": "light"
     },
     "output_type": "display_data"
    }
   ],
   "source": [
    "fig_rows = 3\n",
    "fig_cols = 2\n",
    "fig, axs = plt.subplots(fig_rows, fig_cols, figsize=(12,8))\n",
    "i = 0\n",
    "for row in range(fig_rows):\n",
    "    for col in range(fig_cols):\n",
    "        if i<len(atm_params):\n",
    "            atm_param_ = atm_params[i]\n",
    "            i += 1\n",
    "            \n",
    "            axs[row,col].hist(sim_dict[atm_param_],bins=50)\n",
    "            axs[row,col].set_xlabel('{0} value'.format(atm_param_))\n",
    "            axs[row,col].grid()\n",
    "        \n",
    "plt.tight_layout()"
   ]
  },
  {
   "cell_type": "markdown",
   "id": "28dff92c",
   "metadata": {},
   "source": [
    "# Test fixing the parameters "
   ]
  },
  {
   "cell_type": "code",
   "execution_count": 7,
   "id": "ff1424a3",
   "metadata": {},
   "outputs": [
    {
     "name": "stdout",
     "output_type": "stream",
     "text": [
      "Aerosols - PWV - Ozone - Clouds - Airmass - Pressure\n",
      "0.04 - 3.0 - 300 - 0.0 - 1.2 - 0.0\n"
     ]
    }
   ],
   "source": [
    "aer0 = dist_params['aerosol']['fixed']\n",
    "oz0 = dist_params['ozone']['fixed']\n",
    "pwv0 = dist_params['pwv']['fixed']\n",
    "am0 = dist_params['airmass']['fixed']\n",
    "cloud0 = dist_params['cloud']['fixed']\n",
    "pressure = 0.0\n",
    "\n",
    "print('Aerosols - PWV - Ozone - Clouds - Airmass - Pressure')\n",
    "print(aer0,'-',pwv0,'-',oz0,'-',cloud0,'-',am0,'-',pressure)"
   ]
  },
  {
   "cell_type": "markdown",
   "id": "6440f784",
   "metadata": {},
   "source": [
    "Simulate an atm transparency from the fixed values "
   ]
  },
  {
   "cell_type": "code",
   "execution_count": 8,
   "id": "9a081657",
   "metadata": {},
   "outputs": [
    {
     "name": "stdout",
     "output_type": "stream",
     "text": [
      "['/home/martin/auxtel_lsst/github/my_photomCorrectAuxtel/rubin-lsst_desc-pc_photometric_corrections_tutorial', '/home/martin/anaconda3/envs/python38/lib/python38.zip', '/home/martin/anaconda3/envs/python38/lib/python3.8', '/home/martin/anaconda3/envs/python38/lib/python3.8/lib-dynload', '', '/home/martin/anaconda3/envs/python38/lib/python3.8/site-packages', '__editable__.atmosphtransmemullsst-0.0.1.finder.__path_hook__', '/home/martin/anaconda3/envs/python38/lib/python3.8/site-packages/locket-0.2.1-py3.8.egg', 'libradtran']\n"
     ]
    }
   ],
   "source": [
    "sys.path.append('libradtran')\n",
    "print(sys.path)"
   ]
  },
  {
   "cell_type": "markdown",
   "id": "eb8e85d2",
   "metadata": {},
   "source": [
    "This code was created by Sylvie Dagoret-Campagne to use libRadtran functionalities within python. This dependency will be updated soon in order to make this more user-friendly and to better integrate it within DESC infrastructure. "
   ]
  },
  {
   "cell_type": "code",
   "execution_count": 9,
   "id": "44b16b8c",
   "metadata": {},
   "outputs": [
    {
     "name": "stdout",
     "output_type": "stream",
     "text": [
      "libradtranpath= /home/martin/auxtel_lsst/External/libRadtran/\n"
     ]
    }
   ],
   "source": [
    "import libsimulateVisible"
   ]
  },
  {
   "cell_type": "code",
   "execution_count": 10,
   "id": "1d9b9513",
   "metadata": {},
   "outputs": [],
   "source": [
    "#Example with one PWV value, to see that everything works \n",
    "path,thefile=libsimulateVisible.ProcessSimulationaer(am0,pwv0,oz0,aer0,pressure,prof_str='us',proc_str='as',cloudext=cloud0)"
   ]
  },
  {
   "cell_type": "code",
   "execution_count": 11,
   "id": "828913d0",
   "metadata": {},
   "outputs": [
    {
     "data": {
      "text/plain": [
       "Text(0.5, 1.0, 'PWV = 3.0, aerosol = 0.04, ozone = 300, airmass = 1.2, clouds = 0.0, pressure = 0.0')"
      ]
     },
     "execution_count": 11,
     "metadata": {},
     "output_type": "execute_result"
    },
    {
     "data": {
      "image/png": "[encoded data removed]",
      "text/plain": [
       "<Figure size 1152x360 with 1 Axes>"
      ]
     },
     "metadata": {
      "needs_background": "light"
     },
     "output_type": "display_data"
    }
   ],
   "source": [
    "plt.figure(figsize=(16,5))\n",
    "\n",
    "transp0 = np.loadtxt(os.path.join(path,thefile))\n",
    "l = transp0[:,0]\n",
    "t = transp0[:,1]\n",
    "\n",
    "plt.plot(l,t)\n",
    "plt.grid()\n",
    "plt.xlabel(r'$\\lambda \\, [angstrom]$',fontsize=16)\n",
    "plt.ylabel(r'$T_{atm}(\\lambda)$',fontsize=16)\n",
    "plt.title('PWV = {0}, aerosol = {1}, ozone = {2}, airmass = {3}, clouds = {4}, pressure = {5}'.format(pwv0,aer0,oz0,am0,cloud0,pressure),fontsize=18)"
   ]
  },
  {
   "cell_type": "code",
   "execution_count": 12,
   "id": "1dd52eea",
   "metadata": {},
   "outputs": [],
   "source": [
    "nwl = len(l)"
   ]
  },
  {
   "cell_type": "markdown",
   "id": "379171cf",
   "metadata": {},
   "source": [
    "# Check that the wavelenghts are the same "
   ]
  },
  {
   "cell_type": "code",
   "execution_count": 13,
   "id": "9e6dcb37",
   "metadata": {},
   "outputs": [
    {
     "name": "stdout",
     "output_type": "stream",
     "text": [
      "True\n"
     ]
    }
   ],
   "source": [
    "path2,thefile2=libsimulateVisible.ProcessSimulationaer(am0,pwv0,oz0,aer0,pressure,prof_str='us',proc_str='as',cloudext=0)\n",
    "transp02 = np.loadtxt(os.path.join(path2,thefile2))\n",
    "wl = transp02[:,0]\n",
    "print((wl==l).all())\n",
    "wl_ref = wl"
   ]
  },
  {
   "cell_type": "markdown",
   "id": "6eb79f3d",
   "metadata": {},
   "source": [
    "# Simulate atm transparencies for linearly spaced values of the selected parameter (we will vary only one parameter) "
   ]
  },
  {
   "cell_type": "markdown",
   "id": "57219635",
   "metadata": {},
   "source": [
    "Select variable atmospheric parameter and fix the others: "
   ]
  },
  {
   "cell_type": "code",
   "execution_count": 14,
   "id": "39777c13",
   "metadata": {},
   "outputs": [],
   "source": [
    "variable_param = 'pwv'"
   ]
  },
  {
   "cell_type": "code",
   "execution_count": 15,
   "id": "9dc5d504",
   "metadata": {},
   "outputs": [],
   "source": [
    "fixed_params = {}\n",
    "for param in atm_params:\n",
    "    if param!=variable_param:\n",
    "        fixed_params[param] = dist_params[param]['fixed']\n",
    "        "
   ]
  },
  {
   "cell_type": "code",
   "execution_count": 16,
   "id": "93adbe45",
   "metadata": {},
   "outputs": [
    {
     "data": {
      "text/plain": [
       "{'aerosol': 0.04, 'ozone': 300, 'cloud': 0.0, 'airmass': 1.2}"
      ]
     },
     "execution_count": 16,
     "metadata": {},
     "output_type": "execute_result"
    }
   ],
   "source": [
    "fixed_params"
   ]
  },
  {
   "cell_type": "code",
   "execution_count": 17,
   "id": "b7636e62",
   "metadata": {},
   "outputs": [
    {
     "name": "stdout",
     "output_type": "stream",
     "text": [
      "Number of simulations =  9\n"
     ]
    }
   ],
   "source": [
    "if variable_param=='pwv':\n",
    "    n_transp = 9\n",
    "elif variable_param=='aerosol':\n",
    "    n_transp = 9\n",
    "print('Number of simulations = ', n_transp)"
   ]
  },
  {
   "cell_type": "code",
   "execution_count": 18,
   "id": "f014509d",
   "metadata": {},
   "outputs": [],
   "source": [
    "var_param = np.linspace(dist_params[variable_param]['min'],dist_params[variable_param]['max'],n_transp)"
   ]
  },
  {
   "cell_type": "code",
   "execution_count": 19,
   "id": "b27005f7",
   "metadata": {},
   "outputs": [
    {
     "data": {
      "text/plain": [
       "array([1., 2., 3., 4., 5., 6., 7., 8., 9.])"
      ]
     },
     "execution_count": 19,
     "metadata": {},
     "output_type": "execute_result"
    }
   ],
   "source": [
    "var_param"
   ]
  },
  {
   "cell_type": "markdown",
   "id": "438cf1f5",
   "metadata": {},
   "source": [
    "Create the simulations with libRadtran: "
   ]
  },
  {
   "cell_type": "code",
   "execution_count": 20,
   "id": "b1d7bd52",
   "metadata": {},
   "outputs": [
    {
     "name": "stdout",
     "output_type": "stream",
     "text": [
      "1\n",
      "2\n",
      "3\n",
      "4\n",
      "5\n",
      "6\n",
      "7\n",
      "8\n",
      "9\n"
     ]
    }
   ],
   "source": [
    "dataout = np.zeros((n_transp+1,nwl+nparams))\n",
    "dataout[0,nparams:] = wl_ref\n",
    "for isim in range(1,n_transp+1):\n",
    "    print(isim)\n",
    "    for param in atm_params:\n",
    "        if param != variable_param:\n",
    "            dataout[isim,index_params[param]] = fixed_params[param]\n",
    "        else:\n",
    "            #dataout[isim,index_params[param]] = sim_dict[param][isim]\n",
    "            dataout[isim,index_params[param]] = var_param[isim-1]\n",
    "            \n",
    "    airmass_ = dataout[isim,index_params['airmass']]\n",
    "    pwv_ = dataout[isim,index_params['pwv']]\n",
    "    ozone_ = dataout[isim,index_params['ozone']]\n",
    "    aerosol_ = dataout[isim,index_params['aerosol']]\n",
    "    cloud_ = dataout[isim,index_params['cloud']]\n",
    "    #Run libradtran \n",
    "    path,thefile=libsimulateVisible.ProcessSimulationaer(airmass_,pwv_,ozone_,aerosol_,pressure,prof_str='us',proc_str='as',cloudext=cloud_)\n",
    "    transp_file = np.loadtxt(os.path.join(path,thefile))\n",
    "    \n",
    "    t = transp_file[:,1]\n",
    "    dataout[isim,nparams:] = t\n",
    "    \n",
    "# Reference atmosphere \n",
    "dataout_ref = np.zeros((2,nwl+nparams))\n",
    "dataout_ref[0,nparams:] = wl_ref\n",
    "for param in atm_params:\n",
    "    if param!=variable_param:\n",
    "        dataout_ref[1,index_params[param]] = fixed_params[param]\n",
    "    else:\n",
    "        if param=='airmass':\n",
    "            dataout_ref[1,index_params[param]] = am0\n",
    "        elif param=='cloud':\n",
    "            dataout_ref[1,index_params[param]] = cloud0\n",
    "        else:\n",
    "            dataout_ref[1,index_params[param]] = dist_params[param]['fixed']\n",
    "    \n",
    "airmass_ = dataout_ref[1,index_params['airmass']]\n",
    "pwv_ = dataout_ref[1,index_params['pwv']]\n",
    "ozone_ = dataout_ref[1,index_params['ozone']]\n",
    "aerosol_ = dataout_ref[1,index_params['aerosol']]\n",
    "cloud_ = dataout_ref[1,index_params['cloud']]\n",
    "\n",
    "path_ref,thefile_ref = libsimulateVisible.ProcessSimulationaer(airmass_,pwv_,ozone_,aerosol_,pressure,prof_str='us',proc_str='as',cloudext=cloud_)\n",
    "transp_file_ref = np.loadtxt(os.path.join(path_ref,thefile_ref))\n",
    "\n",
    "t_ref = transp_file_ref[:,1]\n",
    "dataout_ref[1,nparams:] = t_ref"
   ]
  },
  {
   "cell_type": "markdown",
   "id": "0d327706",
   "metadata": {},
   "source": [
    "Save the simulated atmospheric transparencies: "
   ]
  },
  {
   "cell_type": "code",
   "execution_count": 21,
   "id": "6c016a14",
   "metadata": {},
   "outputs": [],
   "source": [
    "hdr = fits.Header()\n",
    "hdr['NTRANSP']=n_transp\n",
    "#hdr['ID_NUM']=idx_out_num\n",
    "hdr['ID_AM']=index_params['airmass']\n",
    "hdr['ID_VAOD']=index_params['aerosol']\n",
    "hdr['ID_PWV']=index_params['pwv']\n",
    "hdr['ID_O3']=index_params['ozone']\n",
    "hdr['ID_CLD']=index_params['cloud']\n",
    "hdr['ID_RES']=nparams\n",
    "\n",
    "if variable_param=='airmass' or variable_param=='cloud':\n",
    "    output_file = 'simulated_transparencies_varying_{0}.fits'.format(variable_param)\n",
    "else:\n",
    "    output_file = 'simulated_transparencies_varying_{0}_airmass_{1}_cloud_{2}.fits'.format(variable_param,am0,cloud0)\n",
    "\n",
    "output_fullfilename = os.path.join(output_dir,output_file)\n",
    "\n",
    "hdu = fits.PrimaryHDU(dataout,header=hdr)\n",
    "hdu.writeto(output_fullfilename,overwrite=True)"
   ]
  },
  {
   "cell_type": "markdown",
   "id": "af3d9c91",
   "metadata": {},
   "source": [
    "Save the transparency of the reference / standard atmosphere: "
   ]
  },
  {
   "cell_type": "code",
   "execution_count": 22,
   "id": "28789eaa",
   "metadata": {},
   "outputs": [],
   "source": [
    "hdr = fits.Header()\n",
    "hdr['NTRANSP']=n_transp\n",
    "#hdr['ID_NUM']=idx_out_num\n",
    "hdr['ID_AM']=index_params['airmass']\n",
    "hdr['ID_VAOD']=index_params['aerosol']\n",
    "hdr['ID_PWV']=index_params['pwv']\n",
    "hdr['ID_O3']=index_params['ozone']\n",
    "hdr['ID_CLD']=index_params['cloud']\n",
    "hdr['ID_RES']=nparams\n",
    "\n",
    "if variable_param=='airmass' or variable_param=='cloud':\n",
    "    output_file = 'simulated_transparencies_varying_{0}_ref.fits'.format(variable_param)\n",
    "else:\n",
    "    output_file = 'simulated_transparencies_varying_{0}_airmass_{1}_cloud_{2}_ref.fits'.format(variable_param,am0,cloud0)\n",
    "\n",
    "output_fullfilename_ref = os.path.join(output_dir,output_file)\n",
    "\n",
    "hdu = fits.PrimaryHDU(dataout_ref,header=hdr)\n",
    "hdu.writeto(output_fullfilename_ref,overwrite=True)"
   ]
  },
  {
   "cell_type": "code",
   "execution_count": null,
   "id": "4d8c755e",
   "metadata": {},
   "outputs": [],
   "source": []
  },
  {
   "cell_type": "code",
   "execution_count": null,
   "id": "3f4c8229",
   "metadata": {},
   "outputs": [],
   "source": []
  },
  {
   "cell_type": "code",
   "execution_count": null,
   "id": "971425c2",
   "metadata": {},
   "outputs": [],
   "source": []
  }
 ],
 "metadata": {
  "kernelspec": {
   "display_name": "Python 3 (ipykernel)",
   "language": "python",
   "name": "python3"
  },
  "language_info": {
   "codemirror_mode": {
    "name": "ipython",
    "version": 3
   },
   "file_extension": ".py",
   "mimetype": "text/x-python",
   "name": "python",
   "nbconvert_exporter": "python",
   "pygments_lexer": "ipython3",
   "version": "3.8.12"
  }
 },
 "nbformat": 4,
 "nbformat_minor": 5
}
