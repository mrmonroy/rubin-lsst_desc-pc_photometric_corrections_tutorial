{
 "cells": [
  {
   "cell_type": "markdown",
   "id": "47f2844b",
   "metadata": {},
   "source": [
    "# Observing through LSST's passbands "
   ]
  },
  {
   "cell_type": "markdown",
   "id": "505bd86b",
   "metadata": {},
   "source": [
    "In this notebook we are going to take the reference spectra from the pysynphot's spectral atlases and make them pass through the LSST's throughput and the simulated atmospheres from the previous notebooks. \n",
    "\n",
    "* Dependencies: \n",
    "[pysynphot](https://pysynphot.readthedocs.io/en/latest/) \n",
    "\n",
    "For the moment, this notebook relies on some classes and methods from pysynphot (mostly to load the spectra provided by it and to compute the product of SEDs and passbands). This will be changed to avoid external dependencies and to make it compatible with [rubin-sim](https://github.com/lsst/rubin_sim) tools "
   ]
  },
  {
   "cell_type": "markdown",
   "id": "920fedca",
   "metadata": {},
   "source": [
    "# Load necessary packages "
   ]
  },
  {
   "cell_type": "code",
   "execution_count": 1,
   "id": "63eaae77",
   "metadata": {},
   "outputs": [],
   "source": [
    "import numpy as np\n",
    "import matplotlib.pyplot as plt\n",
    "import pandas as pd\n",
    "import os\n",
    "import pysynphot as S\n",
    "from scipy.interpolate import interp1d\n",
    "from scipy import integrate\n",
    "from astropy.io import fits\n",
    "#import quadpy\n",
    "\n",
    "# allow interactive plots\n",
    "#%matplotlib widget"
   ]
  },
  {
   "cell_type": "code",
   "execution_count": 2,
   "id": "a3466947",
   "metadata": {},
   "outputs": [
    {
     "name": "stdout",
     "output_type": "stream",
     "text": [
      "graphtable: /home/martin/auxtel_lsst/External/pysynphot_data/grp/redcat/trds/mtab/57g1733im_tmg.fits\n",
      " comptable: /home/martin/auxtel_lsst/External/pysynphot_data/grp/redcat/trds/mtab/5as18041m_tmc.fits\n",
      "thermtable: /home/martin/auxtel_lsst/External/pysynphot_data/grp/redcat/trds/mtab/3241637sm_tmt.fits\n",
      "      area: 45238.93416\n",
      "   waveset: Min: 500, Max: 26000, Num: 10000, Delta: None, Log: True\n"
     ]
    }
   ],
   "source": [
    "S.refs.showref()"
   ]
  },
  {
   "cell_type": "markdown",
   "id": "338cebe0",
   "metadata": {},
   "source": [
    "# Set LSST's parameters "
   ]
  },
  {
   "cell_type": "code",
   "execution_count": 3,
   "id": "89878553",
   "metadata": {},
   "outputs": [
    {
     "name": "stdout",
     "output_type": "stream",
     "text": [
      "324015.4546769212\n"
     ]
    }
   ],
   "source": [
    "WLMIN=3400. # Minimum wavelength : PySynPhot works with Angstrom\n",
    "WLMAX=10600. # Minimum wavelength : PySynPhot works with Angstrom\n",
    "\n",
    "NBINS=int(WLMAX-WLMIN) # Number of bins between WLMIN and WLMAX\n",
    "BinWidth=(WLMAX-WLMIN)/float(NBINS) # Bin width in Angstrom\n",
    "WL=np.linspace(WLMIN,WLMAX,NBINS)   # Array of wavelength in Angstrom\n",
    "# from key numbers\n",
    "Reff=642.3/2. # effective radius in cm\n",
    "Seff= np.pi*Reff**2  # in cm2\n",
    "print(Seff)\n",
    "exptime=30.0"
   ]
  },
  {
   "cell_type": "code",
   "execution_count": 4,
   "id": "519b1049",
   "metadata": {},
   "outputs": [
    {
     "name": "stdout",
     "output_type": "stream",
     "text": [
      "graphtable: /home/martin/auxtel_lsst/External/pysynphot_data/grp/redcat/trds/mtab/57g1733im_tmg.fits\n",
      " comptable: /home/martin/auxtel_lsst/External/pysynphot_data/grp/redcat/trds/mtab/5as18041m_tmc.fits\n",
      "thermtable: /home/martin/auxtel_lsst/External/pysynphot_data/grp/redcat/trds/mtab/3241637sm_tmt.fits\n",
      "      area: 324015.4546769212\n",
      "   waveset: Min: 3400.0, Max: 10600.0, Num: None, Delta: 1.0, Log: False\n"
     ]
    }
   ],
   "source": [
    "S.refs.setref(area=Seff, waveset=None) # set by default to 6.4230 m effective aperture \n",
    "S.refs.set_default_waveset(minwave=WLMIN, maxwave=WLMAX, num=NBINS, delta=BinWidth, log=False)\n",
    "S.refs.showref()"
   ]
  },
  {
   "cell_type": "markdown",
   "id": "ea4767be",
   "metadata": {},
   "source": [
    "# Define general paths "
   ]
  },
  {
   "cell_type": "code",
   "execution_count": 5,
   "id": "a088074e",
   "metadata": {},
   "outputs": [],
   "source": [
    "outdir_plots0 = 'output_plots/'\n",
    "if os.path.exists(outdir_plots0)==False:\n",
    "    os.mkdir(outdir_plots0)\n",
    "outdir_files = 'output_files/'\n",
    "if os.path.exists(outdir_files)==False:\n",
    "    os.mkdir(outdir_files)"
   ]
  },
  {
   "cell_type": "code",
   "execution_count": null,
   "id": "04070686",
   "metadata": {},
   "outputs": [],
   "source": []
  },
  {
   "cell_type": "markdown",
   "id": "56703680",
   "metadata": {},
   "source": [
    "# Define paths to spectral atlases "
   ]
  },
  {
   "cell_type": "code",
   "execution_count": 6,
   "id": "cd961344",
   "metadata": {},
   "outputs": [],
   "source": [
    "pysynphot_root_path=os.environ['PYSYN_CDBS']\n",
    "path_dict = {\n",
    "    'calspec':os.path.join(pysynphot_root_path,'calspec'),\n",
    "    'bpgs':os.path.join(pysynphot_root_path,'grid/bpgs'),\n",
    "    'jacoby':os.path.join(pysynphot_root_path,'grid/jacobi'),\n",
    "    'pickles':os.path.join(pysynphot_root_path,'grid/pickles/dat_uvk')\n",
    "}\n",
    "\n",
    "atlas_dir = 'spectral_atlases/'\n",
    "file_dict = {\n",
    "    'calspec':'',\n",
    "    'bpgs':os.path.join(atlas_dir,'atlas_bpgs.txt'),\n",
    "    'jacoby':os.path.join(atlas_dir,'atlas_jacoby.txt'),\n",
    "    'pickles':os.path.join(atlas_dir,'atlas_pickles.txt')\n",
    "}\n"
   ]
  },
  {
   "cell_type": "markdown",
   "id": "21a1f373",
   "metadata": {},
   "source": [
    "Define also the spectral types "
   ]
  },
  {
   "cell_type": "markdown",
   "id": "464b6bbd",
   "metadata": {},
   "source": [
    "<img align=\"center\" src = Stellar_Classification_Chart.png width=750 style=\"padding: 10px\"> \n",
    "\n",
    "https://upload.wikimedia.org/wikipedia/commons/3/37/Stellar_Classification_Chart.png"
   ]
  },
  {
   "cell_type": "code",
   "execution_count": 7,
   "id": "a7a83a09",
   "metadata": {},
   "outputs": [],
   "source": [
    "spectral_types = ['O','B','A','F','G','K','M']"
   ]
  },
  {
   "cell_type": "markdown",
   "id": "e570288c",
   "metadata": {},
   "source": [
    "# Select a spectral atlas \n",
    "\n",
    "Options: \n",
    "* calspec (HST calibration spectra): work in progress, need to separate stars from AGNs and other sources \n",
    "* bpgs (Bruzual-Persson-Gunn-Stryker): 175 spectra \n",
    "* jacobi (Jacoby-Hunter-Christian): 161 spectra \n",
    "* pickles (Pickles): 131 spectra "
   ]
  },
  {
   "cell_type": "code",
   "execution_count": 8,
   "id": "5f1d35fa",
   "metadata": {},
   "outputs": [],
   "source": [
    "atlas_name = 'pickles'\n",
    "\n",
    "atlas_path = path_dict[atlas_name]\n",
    "atlas_file = file_dict[atlas_name]"
   ]
  },
  {
   "cell_type": "markdown",
   "id": "7d9b1d8c",
   "metadata": {},
   "source": [
    "# Find the spectra files and information "
   ]
  },
  {
   "cell_type": "code",
   "execution_count": 9,
   "id": "91194fd6",
   "metadata": {},
   "outputs": [
    {
     "ename": "FileNotFoundError",
     "evalue": "[Errno 2] No such file or directory: 'spectral_atlases/atlas_pickles.txt'",
     "output_type": "error",
     "traceback": [
      "\u001b[0;31m---------------------------------------------------------------------------\u001b[0m",
      "\u001b[0;31mFileNotFoundError\u001b[0m                         Traceback (most recent call last)",
      "Input \u001b[0;32mIn [9]\u001b[0m, in \u001b[0;36m<module>\u001b[0;34m\u001b[0m\n\u001b[1;32m      1\u001b[0m \u001b[38;5;66;03m#path_sed_calspec=os.path.join(pysynphot_root_path,'calspec')\u001b[39;00m\n\u001b[0;32m----> 2\u001b[0m atlas_seds \u001b[38;5;241m=\u001b[39m \u001b[43mpd\u001b[49m\u001b[38;5;241;43m.\u001b[39;49m\u001b[43mread_csv\u001b[49m\u001b[43m(\u001b[49m\u001b[43matlas_file\u001b[49m\u001b[43m)\u001b[49m\n\u001b[1;32m      3\u001b[0m atlas_seds\n",
      "File \u001b[0;32m~/anaconda3/envs/python38/lib/python3.8/site-packages/pandas/util/_decorators.py:311\u001b[0m, in \u001b[0;36mdeprecate_nonkeyword_arguments.<locals>.decorate.<locals>.wrapper\u001b[0;34m(*args, **kwargs)\u001b[0m\n\u001b[1;32m    305\u001b[0m \u001b[38;5;28;01mif\u001b[39;00m \u001b[38;5;28mlen\u001b[39m(args) \u001b[38;5;241m>\u001b[39m num_allow_args:\n\u001b[1;32m    306\u001b[0m     warnings\u001b[38;5;241m.\u001b[39mwarn(\n\u001b[1;32m    307\u001b[0m         msg\u001b[38;5;241m.\u001b[39mformat(arguments\u001b[38;5;241m=\u001b[39marguments),\n\u001b[1;32m    308\u001b[0m         \u001b[38;5;167;01mFutureWarning\u001b[39;00m,\n\u001b[1;32m    309\u001b[0m         stacklevel\u001b[38;5;241m=\u001b[39mstacklevel,\n\u001b[1;32m    310\u001b[0m     )\n\u001b[0;32m--> 311\u001b[0m \u001b[38;5;28;01mreturn\u001b[39;00m \u001b[43mfunc\u001b[49m\u001b[43m(\u001b[49m\u001b[38;5;241;43m*\u001b[39;49m\u001b[43margs\u001b[49m\u001b[43m,\u001b[49m\u001b[43m \u001b[49m\u001b[38;5;241;43m*\u001b[39;49m\u001b[38;5;241;43m*\u001b[39;49m\u001b[43mkwargs\u001b[49m\u001b[43m)\u001b[49m\n",
      "File \u001b[0;32m~/anaconda3/envs/python38/lib/python3.8/site-packages/pandas/io/parsers/readers.py:586\u001b[0m, in \u001b[0;36mread_csv\u001b[0;34m(filepath_or_buffer, sep, delimiter, header, names, index_col, usecols, squeeze, prefix, mangle_dupe_cols, dtype, engine, converters, true_values, false_values, skipinitialspace, skiprows, skipfooter, nrows, na_values, keep_default_na, na_filter, verbose, skip_blank_lines, parse_dates, infer_datetime_format, keep_date_col, date_parser, dayfirst, cache_dates, iterator, chunksize, compression, thousands, decimal, lineterminator, quotechar, quoting, doublequote, escapechar, comment, encoding, encoding_errors, dialect, error_bad_lines, warn_bad_lines, on_bad_lines, delim_whitespace, low_memory, memory_map, float_precision, storage_options)\u001b[0m\n\u001b[1;32m    571\u001b[0m kwds_defaults \u001b[38;5;241m=\u001b[39m _refine_defaults_read(\n\u001b[1;32m    572\u001b[0m     dialect,\n\u001b[1;32m    573\u001b[0m     delimiter,\n\u001b[0;32m   (...)\u001b[0m\n\u001b[1;32m    582\u001b[0m     defaults\u001b[38;5;241m=\u001b[39m{\u001b[38;5;124m\"\u001b[39m\u001b[38;5;124mdelimiter\u001b[39m\u001b[38;5;124m\"\u001b[39m: \u001b[38;5;124m\"\u001b[39m\u001b[38;5;124m,\u001b[39m\u001b[38;5;124m\"\u001b[39m},\n\u001b[1;32m    583\u001b[0m )\n\u001b[1;32m    584\u001b[0m kwds\u001b[38;5;241m.\u001b[39mupdate(kwds_defaults)\n\u001b[0;32m--> 586\u001b[0m \u001b[38;5;28;01mreturn\u001b[39;00m \u001b[43m_read\u001b[49m\u001b[43m(\u001b[49m\u001b[43mfilepath_or_buffer\u001b[49m\u001b[43m,\u001b[49m\u001b[43m \u001b[49m\u001b[43mkwds\u001b[49m\u001b[43m)\u001b[49m\n",
      "File \u001b[0;32m~/anaconda3/envs/python38/lib/python3.8/site-packages/pandas/io/parsers/readers.py:482\u001b[0m, in \u001b[0;36m_read\u001b[0;34m(filepath_or_buffer, kwds)\u001b[0m\n\u001b[1;32m    479\u001b[0m _validate_names(kwds\u001b[38;5;241m.\u001b[39mget(\u001b[38;5;124m\"\u001b[39m\u001b[38;5;124mnames\u001b[39m\u001b[38;5;124m\"\u001b[39m, \u001b[38;5;28;01mNone\u001b[39;00m))\n\u001b[1;32m    481\u001b[0m \u001b[38;5;66;03m# Create the parser.\u001b[39;00m\n\u001b[0;32m--> 482\u001b[0m parser \u001b[38;5;241m=\u001b[39m \u001b[43mTextFileReader\u001b[49m\u001b[43m(\u001b[49m\u001b[43mfilepath_or_buffer\u001b[49m\u001b[43m,\u001b[49m\u001b[43m \u001b[49m\u001b[38;5;241;43m*\u001b[39;49m\u001b[38;5;241;43m*\u001b[39;49m\u001b[43mkwds\u001b[49m\u001b[43m)\u001b[49m\n\u001b[1;32m    484\u001b[0m \u001b[38;5;28;01mif\u001b[39;00m chunksize \u001b[38;5;129;01mor\u001b[39;00m iterator:\n\u001b[1;32m    485\u001b[0m     \u001b[38;5;28;01mreturn\u001b[39;00m parser\n",
      "File \u001b[0;32m~/anaconda3/envs/python38/lib/python3.8/site-packages/pandas/io/parsers/readers.py:811\u001b[0m, in \u001b[0;36mTextFileReader.__init__\u001b[0;34m(self, f, engine, **kwds)\u001b[0m\n\u001b[1;32m    808\u001b[0m \u001b[38;5;28;01mif\u001b[39;00m \u001b[38;5;124m\"\u001b[39m\u001b[38;5;124mhas_index_names\u001b[39m\u001b[38;5;124m\"\u001b[39m \u001b[38;5;129;01min\u001b[39;00m kwds:\n\u001b[1;32m    809\u001b[0m     \u001b[38;5;28mself\u001b[39m\u001b[38;5;241m.\u001b[39moptions[\u001b[38;5;124m\"\u001b[39m\u001b[38;5;124mhas_index_names\u001b[39m\u001b[38;5;124m\"\u001b[39m] \u001b[38;5;241m=\u001b[39m kwds[\u001b[38;5;124m\"\u001b[39m\u001b[38;5;124mhas_index_names\u001b[39m\u001b[38;5;124m\"\u001b[39m]\n\u001b[0;32m--> 811\u001b[0m \u001b[38;5;28mself\u001b[39m\u001b[38;5;241m.\u001b[39m_engine \u001b[38;5;241m=\u001b[39m \u001b[38;5;28;43mself\u001b[39;49m\u001b[38;5;241;43m.\u001b[39;49m\u001b[43m_make_engine\u001b[49m\u001b[43m(\u001b[49m\u001b[38;5;28;43mself\u001b[39;49m\u001b[38;5;241;43m.\u001b[39;49m\u001b[43mengine\u001b[49m\u001b[43m)\u001b[49m\n",
      "File \u001b[0;32m~/anaconda3/envs/python38/lib/python3.8/site-packages/pandas/io/parsers/readers.py:1040\u001b[0m, in \u001b[0;36mTextFileReader._make_engine\u001b[0;34m(self, engine)\u001b[0m\n\u001b[1;32m   1036\u001b[0m     \u001b[38;5;28;01mraise\u001b[39;00m \u001b[38;5;167;01mValueError\u001b[39;00m(\n\u001b[1;32m   1037\u001b[0m         \u001b[38;5;124mf\u001b[39m\u001b[38;5;124m\"\u001b[39m\u001b[38;5;124mUnknown engine: \u001b[39m\u001b[38;5;132;01m{\u001b[39;00mengine\u001b[38;5;132;01m}\u001b[39;00m\u001b[38;5;124m (valid options are \u001b[39m\u001b[38;5;132;01m{\u001b[39;00mmapping\u001b[38;5;241m.\u001b[39mkeys()\u001b[38;5;132;01m}\u001b[39;00m\u001b[38;5;124m)\u001b[39m\u001b[38;5;124m\"\u001b[39m\n\u001b[1;32m   1038\u001b[0m     )\n\u001b[1;32m   1039\u001b[0m \u001b[38;5;66;03m# error: Too many arguments for \"ParserBase\"\u001b[39;00m\n\u001b[0;32m-> 1040\u001b[0m \u001b[38;5;28;01mreturn\u001b[39;00m \u001b[43mmapping\u001b[49m\u001b[43m[\u001b[49m\u001b[43mengine\u001b[49m\u001b[43m]\u001b[49m\u001b[43m(\u001b[49m\u001b[38;5;28;43mself\u001b[39;49m\u001b[38;5;241;43m.\u001b[39;49m\u001b[43mf\u001b[49m\u001b[43m,\u001b[49m\u001b[43m \u001b[49m\u001b[38;5;241;43m*\u001b[39;49m\u001b[38;5;241;43m*\u001b[39;49m\u001b[38;5;28;43mself\u001b[39;49m\u001b[38;5;241;43m.\u001b[39;49m\u001b[43moptions\u001b[49m\u001b[43m)\u001b[49m\n",
      "File \u001b[0;32m~/anaconda3/envs/python38/lib/python3.8/site-packages/pandas/io/parsers/c_parser_wrapper.py:51\u001b[0m, in \u001b[0;36mCParserWrapper.__init__\u001b[0;34m(self, src, **kwds)\u001b[0m\n\u001b[1;32m     48\u001b[0m kwds[\u001b[38;5;124m\"\u001b[39m\u001b[38;5;124musecols\u001b[39m\u001b[38;5;124m\"\u001b[39m] \u001b[38;5;241m=\u001b[39m \u001b[38;5;28mself\u001b[39m\u001b[38;5;241m.\u001b[39musecols\n\u001b[1;32m     50\u001b[0m \u001b[38;5;66;03m# open handles\u001b[39;00m\n\u001b[0;32m---> 51\u001b[0m \u001b[38;5;28;43mself\u001b[39;49m\u001b[38;5;241;43m.\u001b[39;49m\u001b[43m_open_handles\u001b[49m\u001b[43m(\u001b[49m\u001b[43msrc\u001b[49m\u001b[43m,\u001b[49m\u001b[43m \u001b[49m\u001b[43mkwds\u001b[49m\u001b[43m)\u001b[49m\n\u001b[1;32m     52\u001b[0m \u001b[38;5;28;01massert\u001b[39;00m \u001b[38;5;28mself\u001b[39m\u001b[38;5;241m.\u001b[39mhandles \u001b[38;5;129;01mis\u001b[39;00m \u001b[38;5;129;01mnot\u001b[39;00m \u001b[38;5;28;01mNone\u001b[39;00m\n\u001b[1;32m     54\u001b[0m \u001b[38;5;66;03m# Have to pass int, would break tests using TextReader directly otherwise :(\u001b[39;00m\n",
      "File \u001b[0;32m~/anaconda3/envs/python38/lib/python3.8/site-packages/pandas/io/parsers/base_parser.py:222\u001b[0m, in \u001b[0;36mParserBase._open_handles\u001b[0;34m(self, src, kwds)\u001b[0m\n\u001b[1;32m    218\u001b[0m \u001b[38;5;28;01mdef\u001b[39;00m \u001b[38;5;21m_open_handles\u001b[39m(\u001b[38;5;28mself\u001b[39m, src: FilePathOrBuffer, kwds: \u001b[38;5;28mdict\u001b[39m[\u001b[38;5;28mstr\u001b[39m, Any]) \u001b[38;5;241m-\u001b[39m\u001b[38;5;241m>\u001b[39m \u001b[38;5;28;01mNone\u001b[39;00m:\n\u001b[1;32m    219\u001b[0m     \u001b[38;5;124;03m\"\"\"\u001b[39;00m\n\u001b[1;32m    220\u001b[0m \u001b[38;5;124;03m    Let the readers open IOHandles after they are done with their potential raises.\u001b[39;00m\n\u001b[1;32m    221\u001b[0m \u001b[38;5;124;03m    \"\"\"\u001b[39;00m\n\u001b[0;32m--> 222\u001b[0m     \u001b[38;5;28mself\u001b[39m\u001b[38;5;241m.\u001b[39mhandles \u001b[38;5;241m=\u001b[39m \u001b[43mget_handle\u001b[49m\u001b[43m(\u001b[49m\n\u001b[1;32m    223\u001b[0m \u001b[43m        \u001b[49m\u001b[43msrc\u001b[49m\u001b[43m,\u001b[49m\n\u001b[1;32m    224\u001b[0m \u001b[43m        \u001b[49m\u001b[38;5;124;43m\"\u001b[39;49m\u001b[38;5;124;43mr\u001b[39;49m\u001b[38;5;124;43m\"\u001b[39;49m\u001b[43m,\u001b[49m\n\u001b[1;32m    225\u001b[0m \u001b[43m        \u001b[49m\u001b[43mencoding\u001b[49m\u001b[38;5;241;43m=\u001b[39;49m\u001b[43mkwds\u001b[49m\u001b[38;5;241;43m.\u001b[39;49m\u001b[43mget\u001b[49m\u001b[43m(\u001b[49m\u001b[38;5;124;43m\"\u001b[39;49m\u001b[38;5;124;43mencoding\u001b[39;49m\u001b[38;5;124;43m\"\u001b[39;49m\u001b[43m,\u001b[49m\u001b[43m \u001b[49m\u001b[38;5;28;43;01mNone\u001b[39;49;00m\u001b[43m)\u001b[49m\u001b[43m,\u001b[49m\n\u001b[1;32m    226\u001b[0m \u001b[43m        \u001b[49m\u001b[43mcompression\u001b[49m\u001b[38;5;241;43m=\u001b[39;49m\u001b[43mkwds\u001b[49m\u001b[38;5;241;43m.\u001b[39;49m\u001b[43mget\u001b[49m\u001b[43m(\u001b[49m\u001b[38;5;124;43m\"\u001b[39;49m\u001b[38;5;124;43mcompression\u001b[39;49m\u001b[38;5;124;43m\"\u001b[39;49m\u001b[43m,\u001b[49m\u001b[43m \u001b[49m\u001b[38;5;28;43;01mNone\u001b[39;49;00m\u001b[43m)\u001b[49m\u001b[43m,\u001b[49m\n\u001b[1;32m    227\u001b[0m \u001b[43m        \u001b[49m\u001b[43mmemory_map\u001b[49m\u001b[38;5;241;43m=\u001b[39;49m\u001b[43mkwds\u001b[49m\u001b[38;5;241;43m.\u001b[39;49m\u001b[43mget\u001b[49m\u001b[43m(\u001b[49m\u001b[38;5;124;43m\"\u001b[39;49m\u001b[38;5;124;43mmemory_map\u001b[39;49m\u001b[38;5;124;43m\"\u001b[39;49m\u001b[43m,\u001b[49m\u001b[43m \u001b[49m\u001b[38;5;28;43;01mFalse\u001b[39;49;00m\u001b[43m)\u001b[49m\u001b[43m,\u001b[49m\n\u001b[1;32m    228\u001b[0m \u001b[43m        \u001b[49m\u001b[43mstorage_options\u001b[49m\u001b[38;5;241;43m=\u001b[39;49m\u001b[43mkwds\u001b[49m\u001b[38;5;241;43m.\u001b[39;49m\u001b[43mget\u001b[49m\u001b[43m(\u001b[49m\u001b[38;5;124;43m\"\u001b[39;49m\u001b[38;5;124;43mstorage_options\u001b[39;49m\u001b[38;5;124;43m\"\u001b[39;49m\u001b[43m,\u001b[49m\u001b[43m \u001b[49m\u001b[38;5;28;43;01mNone\u001b[39;49;00m\u001b[43m)\u001b[49m\u001b[43m,\u001b[49m\n\u001b[1;32m    229\u001b[0m \u001b[43m        \u001b[49m\u001b[43merrors\u001b[49m\u001b[38;5;241;43m=\u001b[39;49m\u001b[43mkwds\u001b[49m\u001b[38;5;241;43m.\u001b[39;49m\u001b[43mget\u001b[49m\u001b[43m(\u001b[49m\u001b[38;5;124;43m\"\u001b[39;49m\u001b[38;5;124;43mencoding_errors\u001b[39;49m\u001b[38;5;124;43m\"\u001b[39;49m\u001b[43m,\u001b[49m\u001b[43m \u001b[49m\u001b[38;5;124;43m\"\u001b[39;49m\u001b[38;5;124;43mstrict\u001b[39;49m\u001b[38;5;124;43m\"\u001b[39;49m\u001b[43m)\u001b[49m\u001b[43m,\u001b[49m\n\u001b[1;32m    230\u001b[0m \u001b[43m    \u001b[49m\u001b[43m)\u001b[49m\n",
      "File \u001b[0;32m~/anaconda3/envs/python38/lib/python3.8/site-packages/pandas/io/common.py:702\u001b[0m, in \u001b[0;36mget_handle\u001b[0;34m(path_or_buf, mode, encoding, compression, memory_map, is_text, errors, storage_options)\u001b[0m\n\u001b[1;32m    697\u001b[0m \u001b[38;5;28;01melif\u001b[39;00m \u001b[38;5;28misinstance\u001b[39m(handle, \u001b[38;5;28mstr\u001b[39m):\n\u001b[1;32m    698\u001b[0m     \u001b[38;5;66;03m# Check whether the filename is to be opened in binary mode.\u001b[39;00m\n\u001b[1;32m    699\u001b[0m     \u001b[38;5;66;03m# Binary mode does not support 'encoding' and 'newline'.\u001b[39;00m\n\u001b[1;32m    700\u001b[0m     \u001b[38;5;28;01mif\u001b[39;00m ioargs\u001b[38;5;241m.\u001b[39mencoding \u001b[38;5;129;01mand\u001b[39;00m \u001b[38;5;124m\"\u001b[39m\u001b[38;5;124mb\u001b[39m\u001b[38;5;124m\"\u001b[39m \u001b[38;5;129;01mnot\u001b[39;00m \u001b[38;5;129;01min\u001b[39;00m ioargs\u001b[38;5;241m.\u001b[39mmode:\n\u001b[1;32m    701\u001b[0m         \u001b[38;5;66;03m# Encoding\u001b[39;00m\n\u001b[0;32m--> 702\u001b[0m         handle \u001b[38;5;241m=\u001b[39m \u001b[38;5;28;43mopen\u001b[39;49m\u001b[43m(\u001b[49m\n\u001b[1;32m    703\u001b[0m \u001b[43m            \u001b[49m\u001b[43mhandle\u001b[49m\u001b[43m,\u001b[49m\n\u001b[1;32m    704\u001b[0m \u001b[43m            \u001b[49m\u001b[43mioargs\u001b[49m\u001b[38;5;241;43m.\u001b[39;49m\u001b[43mmode\u001b[49m\u001b[43m,\u001b[49m\n\u001b[1;32m    705\u001b[0m \u001b[43m            \u001b[49m\u001b[43mencoding\u001b[49m\u001b[38;5;241;43m=\u001b[39;49m\u001b[43mioargs\u001b[49m\u001b[38;5;241;43m.\u001b[39;49m\u001b[43mencoding\u001b[49m\u001b[43m,\u001b[49m\n\u001b[1;32m    706\u001b[0m \u001b[43m            \u001b[49m\u001b[43merrors\u001b[49m\u001b[38;5;241;43m=\u001b[39;49m\u001b[43merrors\u001b[49m\u001b[43m,\u001b[49m\n\u001b[1;32m    707\u001b[0m \u001b[43m            \u001b[49m\u001b[43mnewline\u001b[49m\u001b[38;5;241;43m=\u001b[39;49m\u001b[38;5;124;43m\"\u001b[39;49m\u001b[38;5;124;43m\"\u001b[39;49m\u001b[43m,\u001b[49m\n\u001b[1;32m    708\u001b[0m \u001b[43m        \u001b[49m\u001b[43m)\u001b[49m\n\u001b[1;32m    709\u001b[0m     \u001b[38;5;28;01melse\u001b[39;00m:\n\u001b[1;32m    710\u001b[0m         \u001b[38;5;66;03m# Binary mode\u001b[39;00m\n\u001b[1;32m    711\u001b[0m         handle \u001b[38;5;241m=\u001b[39m \u001b[38;5;28mopen\u001b[39m(handle, ioargs\u001b[38;5;241m.\u001b[39mmode)\n",
      "\u001b[0;31mFileNotFoundError\u001b[0m: [Errno 2] No such file or directory: 'spectral_atlases/atlas_pickles.txt'"
     ]
    }
   ],
   "source": [
    "#path_sed_calspec=os.path.join(pysynphot_root_path,'calspec')\n",
    "atlas_seds = pd.read_csv(atlas_file)\n",
    "atlas_seds"
   ]
  },
  {
   "cell_type": "code",
   "execution_count": null,
   "id": "d1317432",
   "metadata": {},
   "outputs": [],
   "source": []
  },
  {
   "cell_type": "markdown",
   "id": "245798ef",
   "metadata": {},
   "source": [
    "# Load with pysynphot the spectra from the selected atlas "
   ]
  },
  {
   "cell_type": "code",
   "execution_count": 10,
   "id": "c8c2a4d9",
   "metadata": {},
   "outputs": [],
   "source": [
    "sed_list = np.array(atlas_seds['File'])"
   ]
  },
  {
   "cell_type": "code",
   "execution_count": 11,
   "id": "a98b965b",
   "metadata": {},
   "outputs": [],
   "source": [
    "sed_dict = {}\n",
    "type_dict = {}\n",
    "for i,sed in enumerate(sed_list):\n",
    "    #print('-------')\n",
    "    #print(sed)\n",
    "    spec_ = S.FileSpectrum(os.path.join(atlas_path,sed))\n",
    "    sed_dict[sed[:-5]] = spec_\n",
    "    type_dict[sed[:-5]] = atlas_seds['Type'][i]"
   ]
  },
  {
   "cell_type": "code",
   "execution_count": null,
   "id": "66a0d634",
   "metadata": {},
   "outputs": [],
   "source": []
  },
  {
   "cell_type": "markdown",
   "id": "11fe3c86",
   "metadata": {},
   "source": [
    "Let's organise spectra by spectral type "
   ]
  },
  {
   "cell_type": "code",
   "execution_count": 12,
   "id": "6d95e622",
   "metadata": {},
   "outputs": [
    {
     "name": "stdout",
     "output_type": "stream",
     "text": [
      "O ['O5V', 'O9V', 'O8III']\n",
      "3\n",
      "-----------\n",
      "B ['B0V', 'B1V', 'B3V', 'B57V', 'B8V', 'B9V', 'B2IV', 'B6IV', 'B12III', 'B3III', 'B5III', 'B9III', 'B2II', 'B5II', 'B0I', 'B1I', 'B3I', 'B5I', 'B8I']\n",
      "19\n",
      "-----------\n",
      "A ['A0V', 'A2V', 'A3V', 'A5V', 'A7V', 'A0IV', 'A47IV', 'A0III', 'A3III', 'A5III', 'A7III', 'A0I', 'A2I']\n",
      "13\n",
      "-----------\n",
      "F ['F0V', 'F2V', 'F5V', 'wF5V', 'F6V', 'rF6V', 'F8V', 'wF8V', 'rF8V', 'F02IV', 'F5IV', 'F8IV', 'F0III', 'F2III', 'F5III', 'F0II', 'F2II', 'F0I', 'F5I', 'F8I']\n",
      "20\n",
      "-----------\n",
      "G ['G0V', 'wG0V', 'rG0V', 'G2V', 'G5V', 'wG5V', 'rG5V', 'G8V', 'G0IV', 'G2IV', 'G5IV', 'G8IV', 'G0III', 'G5III', 'wG5III', 'rG5III', 'G8III', 'wG8III', 'G5II', 'G0I', 'G2I', 'G5I', 'G8I']\n",
      "23\n",
      "-----------\n",
      "K ['K0V', 'rK0V', 'K2V', 'K3V', 'K4V', 'K5V', 'K7V', 'K0IV', 'K1IV', 'K3IV', 'K0III', 'wK0III', 'rK0III', 'K1III', 'wK1III', 'rK1III', 'K2III', 'wK2III', 'rK2III', 'K3III', 'wK3III', 'rK3III', 'K4III', 'wK4III', 'rK4III', 'K5III', 'rK5III', 'K01II', 'K34II', 'K2I', 'K3I', 'K4I']\n",
      "32\n",
      "-----------\n",
      "M ['M0V', 'M1V', 'M2V', 'M2.5V', 'M3V', 'M4V', 'M5V', 'M6V', 'M0III', 'M1III', 'M2III', 'M3III', 'M4III', 'M5III', 'M6III', 'M7III', 'M8III', 'M9III', 'M10III', 'M3II', 'M2I']\n",
      "21\n",
      "-----------\n"
     ]
    }
   ],
   "source": [
    "spec_by_type = {}\n",
    "for i in range(len(spectral_types)):\n",
    "    spec_type = spectral_types[i]\n",
    "    \n",
    "    type_list_ = []\n",
    "    spec_by_type[spec_type] = []\n",
    "    for sed_ in type_dict.keys():\n",
    "        if spec_type in type_dict[sed_]:\n",
    "            type_list_.append(type_dict[sed_])\n",
    "            spec_by_type[spec_type].append(sed_dict[sed_])\n",
    "    print(spec_type, type_list_)\n",
    "    print(len(type_list_))\n",
    "    print('-----------')"
   ]
  },
  {
   "cell_type": "code",
   "execution_count": null,
   "id": "5cbfff72",
   "metadata": {},
   "outputs": [],
   "source": []
  },
  {
   "cell_type": "markdown",
   "id": "e3146da9",
   "metadata": {},
   "source": [
    "Now we can plot them by spectral type separately "
   ]
  },
  {
   "cell_type": "code",
   "execution_count": 13,
   "id": "3ab2f201",
   "metadata": {},
   "outputs": [],
   "source": [
    "type_colors = {'O':'b','B':'dodgerblue','A':'cyan','F':'g','G':'gold','K':'r','M':'brown'}"
   ]
  },
  {
   "cell_type": "code",
   "execution_count": 15,
   "id": "df235325",
   "metadata": {},
   "outputs": [
    {
     "data": {
      "image/png": "[encoded data removed]",
      "text/plain": [
       "<Figure size 1152x2016 with 7 Axes>"
      ]
     },
     "metadata": {
      "needs_background": "light"
     },
     "output_type": "display_data"
    }
   ],
   "source": [
    "num_rows = len(spectral_types)\n",
    "fig, axs = plt.subplots(num_rows, 1, figsize=(16,28))\n",
    "\n",
    "for row,st in enumerate(spectral_types):\n",
    "    for spec in spec_by_type[st]:\n",
    "        spec.convert('photlam')\n",
    "        axs[row].plot(spec.wave,spec.flux,color=type_colors[st],alpha=0.2)\n",
    "    axs[row].plot([],[],label=st,color=type_colors[st])\n",
    "    axs[row].grid()\n",
    "    #axs[row].set_yscale(\"log\")\n",
    "    axs[row].set_xlabel(spec.waveunits)\n",
    "    axs[row].set_ylabel(spec.fluxunits)\n",
    "    axs[row].legend()\n",
    "    axs[row].set_xlim(3000,11000)\n",
    "    axs[row].set_ylim(10,10000)\n",
    "    axs[row].set_yscale(\"log\")\n",
    "            "
   ]
  },
  {
   "cell_type": "code",
   "execution_count": null,
   "id": "4f12c54f",
   "metadata": {},
   "outputs": [],
   "source": []
  },
  {
   "cell_type": "markdown",
   "id": "159fd377",
   "metadata": {},
   "source": [
    "# Load LSST transmissions file "
   ]
  },
  {
   "cell_type": "code",
   "execution_count": 16,
   "id": "76f4a636",
   "metadata": {},
   "outputs": [],
   "source": [
    "datafilename = \"data/lsst/old/transmissions-LSST.dat\"\n",
    "df=pd.read_csv(datafilename,names=['wl','Topt','Tccd','U','G','R','I','Z','Y4','atm'],sep='\\t')"
   ]
  },
  {
   "cell_type": "code",
   "execution_count": 17,
   "id": "b7d0c98b",
   "metadata": {},
   "outputs": [],
   "source": [
    "wl=df['wl'].values\n",
    "U=df['U'].values/100.\n",
    "G=df['G'].values/100.\n",
    "R=df['R'].values/100.\n",
    "I=df['I'].values/100.\n",
    "Z=df['Z'].values/100.\n",
    "Y4=df['Y4'].values/100.\n",
    "\n",
    "lsst_bp = []\n",
    "lsst_bp.append(S.ArrayBandpass(wl*10, U , name=\"u\"))\n",
    "lsst_bp.append(S.ArrayBandpass(wl*10, G , name=\"g\"))\n",
    "lsst_bp.append(S.ArrayBandpass(wl*10, R , name=\"r\"))\n",
    "lsst_bp.append(S.ArrayBandpass(wl*10, I , name=\"i\"))\n",
    "lsst_bp.append(S.ArrayBandpass(wl*10, Z , name=\"z\"))\n",
    "lsst_bp.append(S.ArrayBandpass(wl*10, Y4 , name=\"Y\"))"
   ]
  },
  {
   "cell_type": "code",
   "execution_count": 18,
   "id": "6bdae32e",
   "metadata": {},
   "outputs": [],
   "source": [
    "filters = ['u','g','r','i','z','Y']\n",
    "filter_names = {0:'u',1:'g',2:'r',3:'i',4:'z',5:'Y'}\n",
    "filter_colors = {0:'b',1:'g',2:'r',3:'orange',4:'k',5:'grey'}"
   ]
  },
  {
   "cell_type": "code",
   "execution_count": 19,
   "id": "9101be3d",
   "metadata": {
    "scrolled": false
   },
   "outputs": [
    {
     "data": {
      "text/plain": [
       "<matplotlib.legend.Legend at 0x7f82d4a7ee50>"
      ]
     },
     "execution_count": 19,
     "metadata": {},
     "output_type": "execute_result"
    },
    {
     "data": {
      "image/png": "[encoded data removed]",
      "text/plain": [
       "<Figure size 1152x360 with 1 Axes>"
      ]
     },
     "metadata": {
      "needs_background": "light"
     },
     "output_type": "display_data"
    }
   ],
   "source": [
    "fig=plt.figure(figsize=(16,5))\n",
    "ax = fig.add_subplot(111)\n",
    "for index in range(len(lsst_bp)):\n",
    "    ax.plot(lsst_bp[index].wave,lsst_bp[index].throughput,label=filter_names[index],color=filter_colors[index])\n",
    "    \n",
    "ax.grid()\n",
    "plt.xlabel('$\\\\lambda \\, [$'+str(lsst_bp[0].waveunits)+']',fontsize=15)\n",
    "plt.ylabel('LSST throughput',fontsize=15)\n",
    "plt.legend()"
   ]
  },
  {
   "cell_type": "code",
   "execution_count": null,
   "id": "665a7d7b",
   "metadata": {},
   "outputs": [],
   "source": []
  },
  {
   "cell_type": "markdown",
   "id": "b59eaccf",
   "metadata": {},
   "source": [
    "We find a leakage at higher wavelengths for some filters that impacts the colour values of the M type stars "
   ]
  },
  {
   "cell_type": "code",
   "execution_count": null,
   "id": "471026b4",
   "metadata": {},
   "outputs": [],
   "source": [
    "fig=plt.figure(figsize=(16,5))\n",
    "ax = fig.add_subplot(111)\n",
    "index=1\n",
    "ax.plot(lsst_bp[index].wave,lsst_bp[index].throughput,label=filter_names[index],color=filter_colors[index])\n",
    "    \n",
    "ax.grid()\n",
    "ax.set_yscale(\"log\")\n",
    "plt.xlabel('$\\\\lambda \\, [$'+str(lsst_bp[0].waveunits)+']',fontsize=15)\n",
    "plt.ylabel('LSST throughput',fontsize=15)\n",
    "plt.legend()"
   ]
  },
  {
   "cell_type": "code",
   "execution_count": null,
   "id": "06e70dec",
   "metadata": {},
   "outputs": [],
   "source": []
  },
  {
   "cell_type": "code",
   "execution_count": null,
   "id": "0bcb2d63",
   "metadata": {},
   "outputs": [],
   "source": []
  },
  {
   "cell_type": "markdown",
   "id": "c79ea124",
   "metadata": {},
   "source": [
    "Let's try with a more updated version of the throughputs. We are given only the total passband and the atmosphere that was used to generate them (https://github.com/lsst/throughputs/tree/main/baseline), so in order to have the throughputs we need to divide the passbands by this atmosphere "
   ]
  },
  {
   "cell_type": "code",
   "execution_count": null,
   "id": "f980985b",
   "metadata": {},
   "outputs": [],
   "source": [
    "total_passband_path = 'data/lsst/'\n",
    "total_passband_label = 'total_{0}.dat'\n",
    "atm_lsst_file = 'atmos_std.dat'"
   ]
  },
  {
   "cell_type": "code",
   "execution_count": null,
   "id": "4efcdeb6",
   "metadata": {},
   "outputs": [],
   "source": [
    "atm_lsst = np.loadtxt(total_passband_path+atm_lsst_file)"
   ]
  },
  {
   "cell_type": "markdown",
   "id": "95ee0a70",
   "metadata": {},
   "source": [
    "Now, we write the passbands in pysynphot format: "
   ]
  },
  {
   "cell_type": "code",
   "execution_count": null,
   "id": "b12bc1e7",
   "metadata": {},
   "outputs": [],
   "source": [
    "wl = atm_lsst[:,0]*10.\n",
    "\n",
    "lsst_bp_ = []\n",
    "for f in filters:\n",
    "    passband_ = np.loadtxt(total_passband_path+total_passband_label.format(f.lower()))\n",
    "    assert (atm_lsst.shape==passband_.shape)\n",
    "    throughput_ = passband_[:,1]/atm_lsst[:,1]\n",
    "    lsst_bp_.append(S.ArrayBandpass(wl, throughput_ , name=f))\n",
    "\n"
   ]
  },
  {
   "cell_type": "code",
   "execution_count": null,
   "id": "3c6f48db",
   "metadata": {},
   "outputs": [],
   "source": [
    "fig=plt.figure(figsize=(16,5))\n",
    "ax = fig.add_subplot(111)\n",
    "for index in range(len(lsst_bp)):\n",
    "    ax.plot(lsst_bp_[index].wave,lsst_bp_[index].throughput,label=filter_names[index],color=filter_colors[index])\n",
    "    \n",
    "ax.grid()\n",
    "plt.xlabel('$\\\\lambda \\, [$'+str(lsst_bp_[0].waveunits)+']',fontsize=15)\n",
    "plt.ylabel('LSST throughput',fontsize=15)\n",
    "plt.legend()\n",
    "plt.savefig(os.path.join(outdir_plots0,'LSST_throughputs.png'))"
   ]
  },
  {
   "cell_type": "code",
   "execution_count": null,
   "id": "2fe1da36",
   "metadata": {},
   "outputs": [],
   "source": [
    "for filter in lsst_bp_:\n",
    "    assert (filter.wave==lsst_bp_[0].wave).all()"
   ]
  },
  {
   "cell_type": "markdown",
   "id": "875b9145",
   "metadata": {},
   "source": [
    "# Compare with hardware.dat "
   ]
  },
  {
   "cell_type": "code",
   "execution_count": null,
   "id": "cb29966f",
   "metadata": {},
   "outputs": [],
   "source": [
    "throughput_path = 'data/lsst/'\n",
    "throughput_label = 'hardware_{0}.dat'"
   ]
  },
  {
   "cell_type": "markdown",
   "id": "e386b391",
   "metadata": {},
   "source": [
    "Write the throughputs in pysynphot format "
   ]
  },
  {
   "cell_type": "code",
   "execution_count": null,
   "id": "bb0d8087",
   "metadata": {},
   "outputs": [],
   "source": [
    "lsst_bp = []\n",
    "for f in filters:\n",
    "    throughput_ = np.loadtxt(throughput_path+throughput_label.format(f.lower()))\n",
    "    assert (atm_lsst.shape==throughput_.shape)\n",
    "    lsst_bp.append(S.ArrayBandpass(wl, throughput_[:,1] , name=f))\n"
   ]
  },
  {
   "cell_type": "markdown",
   "id": "eaa92950",
   "metadata": {},
   "source": [
    "We compare with the results from dividing the total passbands by the atmosphere: "
   ]
  },
  {
   "cell_type": "code",
   "execution_count": null,
   "id": "a0aaeb1d",
   "metadata": {},
   "outputs": [],
   "source": [
    "fig=plt.figure(figsize=(16,5))\n",
    "ax = fig.add_subplot(111)\n",
    "for index in range(len(lsst_bp)):\n",
    "    ax.plot(lsst_bp_[index].wave,lsst_bp_[index].throughput,label=filter_names[index],ls='--',color=filter_colors[index])\n",
    "    ax.plot(lsst_bp[index].wave+100,lsst_bp[index].throughput,label=filter_names[index],color=filter_colors[index])\n",
    "    \n",
    "ax.grid()\n",
    "plt.xlabel('$\\\\lambda \\, [$'+str(lsst_bp[0].waveunits)+']',fontsize=15)\n",
    "plt.ylabel('LSST throughput',fontsize=15)\n",
    "plt.legend()\n",
    "#plt.savefig(os.path.join(outdir_plots0,'LSST_throughputs.png'))"
   ]
  },
  {
   "cell_type": "markdown",
   "id": "76bdde9e",
   "metadata": {},
   "source": [
    "We confirm that they are the same, so we adopt the throughputs from the \"hardware.dat\" files "
   ]
  },
  {
   "cell_type": "code",
   "execution_count": null,
   "id": "74d89bd7",
   "metadata": {},
   "outputs": [],
   "source": [
    "for filter in lsst_bp:\n",
    "    assert (filter.wave==lsst_bp[0].wave).all()"
   ]
  },
  {
   "cell_type": "code",
   "execution_count": null,
   "id": "0e441add",
   "metadata": {},
   "outputs": [],
   "source": [
    "wl_lsst = lsst_bp[0].wave"
   ]
  },
  {
   "cell_type": "code",
   "execution_count": null,
   "id": "511574ae",
   "metadata": {},
   "outputs": [],
   "source": []
  },
  {
   "cell_type": "markdown",
   "id": "d686e067",
   "metadata": {},
   "source": [
    "# Load simulated transparencies "
   ]
  },
  {
   "cell_type": "markdown",
   "id": "9158d8e3",
   "metadata": {},
   "source": [
    "Select variable parameter and specify airmass and clouds "
   ]
  },
  {
   "cell_type": "code",
   "execution_count": null,
   "id": "a7fb4c0b",
   "metadata": {},
   "outputs": [],
   "source": [
    "variable_param = 'pwv'\n",
    "am0 = 1.2\n",
    "cloud0 = 0.0"
   ]
  },
  {
   "cell_type": "markdown",
   "id": "b8edc917",
   "metadata": {},
   "source": [
    "Specify which distribution follows the simulated parameter. Options: \n",
    "* linear_distribution-discrete: generated following a linear function and with pre-established step (e.g., PWV = 1.0, 2.0, 3.0, ....) \n",
    "* linear_distribution-continuous: generated following a linear function and specifying only the value range and number of simulations (e.g., PWV = 1.0, 1.25, 1.5, ....) \n",
    "* uniform_distribution: generated following a uniform random distribution (work in progress) \n",
    "* specific_distribution: generated following random distributions specific to each parameter (work in progress) \n"
   ]
  },
  {
   "cell_type": "code",
   "execution_count": null,
   "id": "2240d106",
   "metadata": {},
   "outputs": [],
   "source": [
    "param_dist = 'linear_distribution-discrete'"
   ]
  },
  {
   "cell_type": "code",
   "execution_count": null,
   "id": "52076dcc",
   "metadata": {},
   "outputs": [],
   "source": [
    "outdir_plots = os.path.join('output_plots/',param_dist.replace('-','/'))\n",
    "if os.path.exists(outdir_plots)==False:\n",
    "    os.mkdir(outdir_plots)"
   ]
  },
  {
   "cell_type": "code",
   "execution_count": null,
   "id": "5d0a9182",
   "metadata": {},
   "outputs": [],
   "source": [
    "if variable_param=='airmass' or variable_param=='cloud':\n",
    "    t_file = 'simulated_transparencies_varying_{0}.fits'.format(variable_param)\n",
    "    t_file_ref = 'simulated_transparencies_varying_{0}_ref.fits'.format(variable_param)\n",
    "else:\n",
    "    t_file = 'simulated_transparencies_varying_{0}_airmass_{1}_cloud_{2}.fits'.format(variable_param,am0,cloud0)\n",
    "    t_file_ref = 'simulated_transparencies_varying_{0}_airmass_{1}_cloud_{2}_ref.fits'.format(variable_param,am0,cloud0)\n",
    "\n",
    "t_path = os.path.join('./simulated_transparencies/',param_dist.replace('-','/'))\n",
    "t_in = os.path.join(t_path,t_file)\n",
    "t_in_ref = os.path.join(t_path,t_file_ref)\n",
    "t = fits.open(t_in)\n",
    "t_ref = fits.open(t_in_ref)"
   ]
  },
  {
   "cell_type": "code",
   "execution_count": null,
   "id": "5ca6e2fb",
   "metadata": {},
   "outputs": [],
   "source": [
    "head = t[0].header\n",
    "data = t[0].data\n",
    "print(data.shape)\n",
    "data_ref = t_ref[0].data\n",
    "print(data_ref.shape)"
   ]
  },
  {
   "cell_type": "code",
   "execution_count": null,
   "id": "5739dad7",
   "metadata": {},
   "outputs": [],
   "source": [
    "n_atmp = head['ID_RES']\n",
    "n_sim = head['NTRANSP']\n",
    "print(n_atmp, n_sim)"
   ]
  },
  {
   "cell_type": "code",
   "execution_count": null,
   "id": "02dd8adb",
   "metadata": {},
   "outputs": [],
   "source": [
    "wl_t = data[0][n_atmp:]*10."
   ]
  },
  {
   "cell_type": "code",
   "execution_count": null,
   "id": "b2a60d5a",
   "metadata": {},
   "outputs": [],
   "source": [
    "fig=plt.figure(figsize=(16,10))\n",
    "ax = fig.add_subplot(111)\n",
    "for atm_i in range(1,n_sim):\n",
    "    ax.plot(wl_t,data[atm_i][n_atmp:],color='b',alpha=0.1)\n",
    "ax.plot(wl_t,data_ref[1][n_atmp:],ls='--',color='b',label='Ref. atm.')\n",
    "plt.xlim(2600.,12500.)\n",
    "plt.grid()\n",
    "plt.xlabel('$\\\\lambda \\,$'+'[angstrom]',fontsize=15)\n",
    "plt.ylabel('Atmospheric transparency',fontsize=15)\n",
    "plt.title('Varying {0}. Airmass = {1}, clouds = {2}'.format(variable_param,am0,cloud0),fontsize=16)\n",
    "plt.legend(fontsize=15)\n",
    "plt.savefig(os.path.join(outdir_plots,'atm_transparencies_varying_{0}_airmass_{1}_clouds_{2}.png'.format(variable_param,am0,cloud0)))"
   ]
  },
  {
   "cell_type": "markdown",
   "id": "da37de8c",
   "metadata": {},
   "source": [
    "# Check range of simulated atm values"
   ]
  },
  {
   "cell_type": "code",
   "execution_count": null,
   "id": "34bd792b",
   "metadata": {},
   "outputs": [],
   "source": [
    "print(head)"
   ]
  },
  {
   "cell_type": "code",
   "execution_count": null,
   "id": "b1ab69f7",
   "metadata": {},
   "outputs": [],
   "source": [
    "params_index = {'pwv':0,'aerosol':1,'ozone':2,'cloud':3,'airmass':4}"
   ]
  },
  {
   "cell_type": "code",
   "execution_count": null,
   "id": "926e89f3",
   "metadata": {},
   "outputs": [],
   "source": [
    "var_index = params_index[variable_param]"
   ]
  },
  {
   "cell_type": "code",
   "execution_count": null,
   "id": "323175c0",
   "metadata": {},
   "outputs": [],
   "source": [
    "#data[1:,1]\n",
    "data[1:,var_index]"
   ]
  },
  {
   "cell_type": "code",
   "execution_count": null,
   "id": "229c9de9",
   "metadata": {},
   "outputs": [],
   "source": [
    "fig=plt.figure(figsize=(20,10))\n",
    "ax1=fig.add_subplot(231)\n",
    "ax2=fig.add_subplot(232)\n",
    "ax3=fig.add_subplot(233)\n",
    "ax4=fig.add_subplot(234)\n",
    "ax5=fig.add_subplot(235)\n",
    "\n",
    "ax1.hist(data[1:,0],bins=12)\n",
    "ax2.hist(data[1:,1],bins=12)\n",
    "ax3.hist(data[1:,2],bins=12)\n",
    "ax4.hist(data[1:,3],bins=12)"
   ]
  },
  {
   "cell_type": "code",
   "execution_count": null,
   "id": "951c28f6",
   "metadata": {},
   "outputs": [],
   "source": []
  },
  {
   "cell_type": "markdown",
   "id": "3ecb6340",
   "metadata": {},
   "source": [
    "# Select data for variable parameter of these simulations "
   ]
  },
  {
   "cell_type": "code",
   "execution_count": null,
   "id": "f4af0412",
   "metadata": {},
   "outputs": [],
   "source": [
    "atm_vals = data[1:,var_index]"
   ]
  },
  {
   "cell_type": "code",
   "execution_count": null,
   "id": "0cd1dd12",
   "metadata": {},
   "outputs": [],
   "source": [
    "np.save('output_files/atm_vals_{0}_airmass_{1}_cloud_{2}.npy'.format(variable_param,am0,cloud0),atm_vals)"
   ]
  },
  {
   "cell_type": "code",
   "execution_count": null,
   "id": "ce812b45",
   "metadata": {},
   "outputs": [],
   "source": []
  },
  {
   "cell_type": "markdown",
   "id": "cc8a8326",
   "metadata": {},
   "source": [
    "# Convert simulated transparencies into pysynphot format "
   ]
  },
  {
   "cell_type": "code",
   "execution_count": null,
   "id": "c27d30cf",
   "metadata": {},
   "outputs": [],
   "source": [
    "atm_transp = []\n",
    "for i in range(1,n_sim+1):\n",
    "    finterp_i = interp1d(wl_t,data[i][n_atmp:],bounds_error=False,fill_value=0.)\n",
    "    atm_interp_i = finterp_i(wl_lsst)\n",
    "    #atm_i = S.ArrayBandpass(wl_t,data[i][n_atmp:], name='Atm. transp. {0}'.format(i))\n",
    "    atm_i = S.ArrayBandpass(wl_lsst,atm_interp_i, name='Atm. transp. {0}'.format(i))\n",
    "    atm_transp.append(atm_i)"
   ]
  },
  {
   "cell_type": "code",
   "execution_count": null,
   "id": "69726511",
   "metadata": {},
   "outputs": [],
   "source": [
    "finterp_ref = interp1d(wl_t,data_ref[1][n_atmp:],bounds_error=False,fill_value=0.)\n",
    "atm_interp_ref = finterp_ref(wl_lsst)\n",
    "#atm_i = S.ArrayBandpass(wl_t,data[i][n_atmp:], name='Atm. transp. {0}'.format(i))\n",
    "atm_transp_ref = S.ArrayBandpass(wl_lsst,atm_interp_ref, name='Atm. transp. {0}'.format(i))"
   ]
  },
  {
   "cell_type": "markdown",
   "id": "a7c05e91",
   "metadata": {},
   "source": [
    "# Compute total bandpass (atmosphere(s) x LSST throughput) "
   ]
  },
  {
   "cell_type": "code",
   "execution_count": null,
   "id": "aa78e97b",
   "metadata": {},
   "outputs": [],
   "source": [
    "total_passband = {}\n",
    "#for bpname in filters:\n",
    "#    total_passband[bpname] = []\n",
    "\n",
    "for index,bp in enumerate(lsst_bp):\n",
    "    total_passband[filters[index]] = []\n",
    "    for i in range(n_sim):\n",
    "        total_pass = bp*atm_transp[i]\n",
    "        total_passband[bp.name].append(total_pass)"
   ]
  },
  {
   "cell_type": "code",
   "execution_count": null,
   "id": "92ddcba2",
   "metadata": {},
   "outputs": [],
   "source": [
    "total_passband_ref = {}\n",
    "for index,bp in enumerate(lsst_bp):\n",
    "    total_pass = bp*atm_transp_ref\n",
    "    total_passband_ref[bp.name] = total_pass"
   ]
  },
  {
   "cell_type": "code",
   "execution_count": null,
   "id": "48e40eb9",
   "metadata": {},
   "outputs": [],
   "source": [
    "print(len(total_passband['u']))\n",
    "print(total_passband['u'][0])"
   ]
  },
  {
   "cell_type": "code",
   "execution_count": null,
   "id": "38c0ed75",
   "metadata": {},
   "outputs": [],
   "source": [
    "fig=plt.figure(figsize=(16,10))\n",
    "ax = fig.add_subplot(111)\n",
    "for index,bp in enumerate(lsst_bp):\n",
    "    ax.plot(bp.wave,bp.throughput,label=filter_names[index],color=filter_colors[index])\n",
    "\n",
    "for isim in range(n_sim):\n",
    "    ax.plot(atm_transp[isim].wave,atm_transp[isim].throughput,alpha=0.1,color='cyan')\n",
    "    for index,bpname in enumerate(filters):\n",
    "        ax.plot(total_passband[bpname][isim].wave,total_passband[bpname][isim].throughput,ls='--',color=filter_colors[index],alpha=0.1)\n",
    "ax.plot(atm_transp_ref.wave,atm_transp_ref.throughput,ls='-.',color='b')        \n",
    "plt.xlim(2600.,12500.)\n",
    "plt.grid()\n",
    "plt.xlabel('$\\\\lambda \\, [$'+str(atm_transp_ref.waveunits)+']',fontsize=15)\n",
    "plt.ylabel('Atmospheric transparency',fontsize=15)\n",
    "plt.legend()\n",
    "plt.title('Varying {0}. Airmass = {1}, clouds = {2}'.format(variable_param,am0,cloud0),fontsize=16)\n",
    "plt.savefig(os.path.join(outdir_plots,'total_passbands_varying_{0}_airmass_{1}_clouds_{2}.png'.format(variable_param,am0,cloud0)))"
   ]
  },
  {
   "cell_type": "code",
   "execution_count": null,
   "id": "a519cd31",
   "metadata": {},
   "outputs": [],
   "source": []
  },
  {
   "cell_type": "markdown",
   "id": "78d66c64",
   "metadata": {},
   "source": [
    "Plot the atmospheric transparencies corresponding to the minimum and maximum atmospheric parameter that we are varying: "
   ]
  },
  {
   "cell_type": "code",
   "execution_count": null,
   "id": "acc44dd6",
   "metadata": {},
   "outputs": [],
   "source": [
    "min_val_ = np.min(atm_vals)\n",
    "max_val_ = np.max(atm_vals)\n",
    "print(min_val_,max_val_)"
   ]
  },
  {
   "cell_type": "code",
   "execution_count": null,
   "id": "4ed5dd5d",
   "metadata": {},
   "outputs": [],
   "source": [
    "min_ind_ = np.where(atm_vals==min_val_)[0][0]\n",
    "max_ind_ = np.where(atm_vals==max_val_)[0][0]"
   ]
  },
  {
   "cell_type": "code",
   "execution_count": null,
   "id": "7719cc4e",
   "metadata": {},
   "outputs": [],
   "source": [
    "min_transp = data[1+min_ind_,n_atmp:]\n",
    "max_transp = data[1+max_ind_,n_atmp:]"
   ]
  },
  {
   "cell_type": "code",
   "execution_count": null,
   "id": "a3b2104f",
   "metadata": {},
   "outputs": [],
   "source": [
    "fig=plt.figure(figsize=(16,10))\n",
    "plt.plot(wl_t,min_transp,color='r',label=variable_param+'= {0:.2f}'.format(min_val_))\n",
    "plt.plot(wl_t,max_transp,color='b',label=variable_param+'= {0:.2f}'.format(max_val_))\n",
    "plt.xlabel('$\\\\lambda \\, [$'+str(atm_transp_ref.waveunits)+']',fontsize=15)\n",
    "plt.ylabel('Atmospheric transparency',fontsize=15)\n",
    "plt.grid()\n",
    "plt.legend(fontsize=14)\n",
    "plt.title('Varying {0}. Airmass = {1}, clouds = {2}'.format(variable_param,am0,cloud0),fontsize=16)\n",
    "plt.savefig(os.path.join(outdir_plots,'atm_transparencies_varying_{0}_airmass_{1}_clouds_{2}_min_max_values.png'.format(variable_param,am0,cloud0)))"
   ]
  },
  {
   "cell_type": "code",
   "execution_count": null,
   "id": "f60a8d35",
   "metadata": {},
   "outputs": [],
   "source": []
  },
  {
   "cell_type": "code",
   "execution_count": null,
   "id": "f2062fde",
   "metadata": {},
   "outputs": [],
   "source": []
  },
  {
   "cell_type": "markdown",
   "id": "022a085b",
   "metadata": {},
   "source": [
    "# Calculate fluxes through total passbands \n",
    "\n",
    "Let's start with one spectrum of a type A star as example "
   ]
  },
  {
   "cell_type": "code",
   "execution_count": null,
   "id": "6333206f",
   "metadata": {},
   "outputs": [],
   "source": [
    "# Example with one spectrum \n",
    "test_type = 'A'\n",
    "test_spec = 0\n",
    "example_spec = spec_by_type[test_type][test_spec]"
   ]
  },
  {
   "cell_type": "code",
   "execution_count": null,
   "id": "e5f5d856",
   "metadata": {},
   "outputs": [],
   "source": [
    "# It seems this galaxy is a small enough place to end up choosing again, just by coincidence, Vega as example star \n",
    "vega = S.Vega\n",
    "vega.convert('photlam')"
   ]
  },
  {
   "cell_type": "code",
   "execution_count": null,
   "id": "974e25ee",
   "metadata": {},
   "outputs": [],
   "source": [
    "fig=plt.figure(figsize=(16,5))\n",
    "ax = fig.add_subplot(111)\n",
    "plt.plot(example_spec.wave,example_spec.flux*Seff*exptime,ls=':',color='k',alpha=1.0,label='Example spectrum')\n",
    "plt.plot(vega.wave,vega.flux*Seff*exptime,ls='--',color='r',alpha=1.0,label='Vega spectrum')\n",
    "plt.xlim(WLMIN,WLMAX)\n",
    "plt.xlabel('$\\\\lambda \\, [$'+str(example_spec.waveunits)+']',fontsize=15)\n",
    "plt.ylabel('$\\gamma \\, \\cdot angstrom^{-1}$',fontsize=15)\n",
    "plt.grid()\n",
    "plt.xticks(fontsize=15)\n",
    "plt.yticks(fontsize=15)\n",
    "plt.legend(fontsize=15)\n",
    "print(spec.fluxunits)"
   ]
  },
  {
   "cell_type": "markdown",
   "id": "a765d926",
   "metadata": {},
   "source": [
    "Let's make the example spectrum pass through the atmosphere and through the total passband (atm. x throughput) "
   ]
  },
  {
   "cell_type": "code",
   "execution_count": null,
   "id": "317097eb",
   "metadata": {},
   "outputs": [],
   "source": [
    "obsatm_dict = {}\n",
    "for isim in range(n_sim):\n",
    "    obsatm_dict[isim] = []\n",
    "    obsatm = S.Observation(example_spec,atm_transp[isim],force='taper')\n",
    "    obsatm_dict[isim] = obsatm\n",
    "\n",
    "obstotal_dict = {}\n",
    "for filter in filters:\n",
    "    obstotal_dict[filter] = []\n",
    "\n",
    "#for filter in lsst_bp:\n",
    "for filter in filters:\n",
    "    #print(filter.name.upper())\n",
    "    for i in range(n_sim):\n",
    "        #total_pass = filter*atm_transp[i]\n",
    "        #obs = S.Observation(spec,total_pass,force='taper')\n",
    "        obstotal = S.Observation(example_spec,total_passband[filter][i],force='taper')\n",
    "        obstotal_dict[filter].append(obstotal)"
   ]
  },
  {
   "cell_type": "code",
   "execution_count": null,
   "id": "d971de91",
   "metadata": {},
   "outputs": [],
   "source": [
    "fig=plt.figure(figsize=(16,5))\n",
    "ax = fig.add_subplot(111)\n",
    "for isim in range(n_sim):\n",
    "    obsatm = obsatm_dict[isim]\n",
    "    ax.plot(obsatm.binwave,obsatm.binflux*Seff*exptime,ls='--',color='cyan',alpha=0.07)\n",
    "\n",
    "for index,filter in enumerate(obstotal_dict.keys()):\n",
    "    print(filter)\n",
    "    for obs in obstotal_dict[filter]:\n",
    "        ax.plot(obs.binwave,obs.binflux*Seff*exptime,ls='-',color=filter_colors[index],alpha=0.05)\n",
    "plt.plot(example_spec.wave,example_spec.flux*Seff*exptime,ls=':',color='k',alpha=1.0)\n",
    "plt.xlim(WLMIN,WLMAX)\n",
    "plt.xlabel('$\\\\lambda \\, [$'+str(obs.waveunits)+']',fontsize=15)\n",
    "plt.ylabel('$\\gamma \\, \\cdot angstrom^{-1}$',fontsize=15)\n",
    "plt.grid()\n",
    "plt.plot([],[],ls=':',color='k',label='TOA spec.')\n",
    "plt.plot([],[],ls='--',color='cyan',label='Spec. through atm.')\n",
    "plt.plot([],[],ls='-',color='g',label='Spec. through atm. x LSST')\n",
    "plt.xticks(fontsize=15)\n",
    "plt.yticks(fontsize=15)\n",
    "plt.legend(fontsize=15)\n",
    "print(spec.fluxunits)"
   ]
  },
  {
   "cell_type": "code",
   "execution_count": null,
   "id": "a96790a0",
   "metadata": {},
   "outputs": [],
   "source": []
  },
  {
   "cell_type": "markdown",
   "id": "c70c4ad4",
   "metadata": {},
   "source": [
    "This was an example of how the spectrum looks like when passing only through the atmosphere and through the total passbands. For our calibration purposes, what we actually want is to have the spectra passing through either only the troughput (as if the telescope was on space) and through the total passband (ground-based telescope). Now let's pass all spectra through the throughput and through the atmosphere "
   ]
  },
  {
   "cell_type": "code",
   "execution_count": null,
   "id": "eeb84858",
   "metadata": {},
   "outputs": [],
   "source": [
    "# Spectra through atm x throughput \n",
    "obs_dict = {}\n",
    "#for sed_ in list(sed_dict.keys()):\n",
    "for st in spectral_types:\n",
    "    print(st)\n",
    "    obs_dict_ = {}\n",
    "    for si,spec in enumerate(spec_by_type[st]):\n",
    "        filter_dict_ = {}\n",
    "        for filter in filters:\n",
    "            filter_dict_[filter] = []\n",
    "            for i in range(n_sim):\n",
    "                obs_spec = S.Observation(spec,total_passband[filter][i],force='taper')\n",
    "                filter_dict_[filter].append(obs_spec)\n",
    "        obs_dict_[si] = filter_dict_ \n",
    "    obs_dict[st] = obs_dict_\n"
   ]
  },
  {
   "cell_type": "code",
   "execution_count": null,
   "id": "ceacb27f",
   "metadata": {},
   "outputs": [],
   "source": [
    "print(len(sed_dict.keys()))\n",
    "print(len(obs_dict.keys()))\n",
    "print(len(obs_dict[test_type].keys()))\n",
    "#print(len(obs_dict[example_spec].keys()))\n",
    "print(len(obs_dict[test_type][test_spec].keys()))\n",
    "print(len(obs_dict[test_type][test_spec]['u']))\n",
    "print(n_sim)"
   ]
  },
  {
   "cell_type": "code",
   "execution_count": null,
   "id": "dee61c57",
   "metadata": {},
   "outputs": [],
   "source": [
    "# Spectra only through throughput (as if telescope was in space) \n",
    "obs_dict_t = {}\n",
    "for st in spectral_types:\n",
    "    print(st)\n",
    "    obs_dict_t_ = {}\n",
    "    for si,spec in enumerate(spec_by_type[test_type]):\n",
    "        filter_dict_ = {}\n",
    "        for filter in lsst_bp:\n",
    "            obs_spec_t = S.Observation(spec,filter,force='taper')\n",
    "            filter_dict_[filter.name] = obs_spec_t\n",
    "        obs_dict_t_[si] = filter_dict_ \n",
    "    obs_dict_t[st] = obs_dict_t_\n",
    "    "
   ]
  },
  {
   "cell_type": "code",
   "execution_count": null,
   "id": "8a2115be",
   "metadata": {},
   "outputs": [],
   "source": [
    "print(len(sed_dict.keys()))\n",
    "print(len(obs_dict_t.keys()))\n",
    "print(len(obs_dict_t[test_type].keys()))\n",
    "print(len(obs_dict_t[test_type][test_spec].keys()))"
   ]
  },
  {
   "cell_type": "code",
   "execution_count": null,
   "id": "4bcc3d9b",
   "metadata": {},
   "outputs": [],
   "source": [
    "obs_dict_t[test_type][0]['u']"
   ]
  },
  {
   "cell_type": "code",
   "execution_count": null,
   "id": "82607c91",
   "metadata": {},
   "outputs": [],
   "source": []
  },
  {
   "cell_type": "code",
   "execution_count": null,
   "id": "fa535007",
   "metadata": {},
   "outputs": [],
   "source": []
  },
  {
   "cell_type": "code",
   "execution_count": null,
   "id": "c8f6b07a",
   "metadata": {},
   "outputs": [],
   "source": []
  },
  {
   "cell_type": "code",
   "execution_count": null,
   "id": "4dc0494b",
   "metadata": {},
   "outputs": [],
   "source": [
    "fig=plt.figure(figsize=(16,5))\n",
    "ax = fig.add_subplot(111)\n",
    "#sed_dict[example_spec].convert('photlam')\n",
    "spec_by_type[test_type][test_spec].convert('photlam')\n",
    "plt.plot(example_spec.wave,example_spec.flux*Seff*exptime,ls='--',color='k',label='TOA spectrum')\n",
    "\n",
    "for index,filter in enumerate(filters):\n",
    "    #plt.plot(obs_dict_t[example_spec][filter].wave,obs_dict_t[example_spec][filter].flux*Seff*exptime,ls=':',color=filter_colors[index])\n",
    "    plt.plot(obs_dict_t[test_type][test_spec][filter].wave,obs_dict_t[test_type][test_spec][filter].flux*Seff*exptime,ls=':',color=filter_colors[index])\n",
    "    \n",
    "    for i in range(n_sim):\n",
    "        #obs_ = obs_dict[example_spec][filter][i]\n",
    "        obs_ = obs_dict[test_type][test_spec][filter][i]\n",
    "        #plt.plot(obs_.wave,obs_.flux*Seff*exptime,ls='-',color=filter_colors[index],alpha=0.02)\n",
    "        plt.plot(obs_.wave,obs_.flux*Seff*exptime,ls='-',color=filter_colors[index],alpha=0.04)\n",
    "\n",
    "plt.plot([],[],ls=':',label='Spectrum through LSST')\n",
    "plt.plot([],[],ls='-',label='Spectrum through atm x LSST')\n",
    "plt.xlim(2600.,11000.)\n",
    "plt.grid()\n",
    "plt.xlabel('$\\\\lambda \\, [$'+str(obs.waveunits)+']',fontsize=15)\n",
    "plt.ylabel('$\\gamma \\, \\cdot angstrom^{-1}$',fontsize=15)\n",
    "plt.legend(fontsize=14)\n",
    "plt.title('Varying {0}. Airmass = {1}, clouds = {2}'.format(variable_param,am0,cloud0),fontsize=16)\n",
    "plt.savefig(os.path.join(outdir_plots,'example_spectrum_toa_throughput_total_passband_varying_{0}_airmass_{1}_clouds_{2}.png'.format(variable_param,am0,cloud0)))"
   ]
  },
  {
   "cell_type": "code",
   "execution_count": null,
   "id": "5c763c96",
   "metadata": {},
   "outputs": [],
   "source": []
  },
  {
   "cell_type": "markdown",
   "id": "f19d351f",
   "metadata": {},
   "source": [
    "Check that S.Observation is doing what we want it to do "
   ]
  },
  {
   "cell_type": "code",
   "execution_count": null,
   "id": "d084708a",
   "metadata": {},
   "outputs": [],
   "source": [
    "interp_pb_fun = interp1d(lsst_bp[0].wave,lsst_bp[0].throughput,bounds_error=False,fill_value=0.)\n",
    "interp_pb_ = interp_pb_fun(example_spec.wave)\n",
    "\n",
    "obs_1 = example_spec.flux*interp_pb_\n",
    "obs_2 = S.Observation(example_spec,lsst_bp[0],force='taper')\n",
    "plt.plot(example_spec.wave,obs_1,color='b')\n",
    "plt.plot(obs_2.wave+50.,obs_2.flux,color='orange')\n",
    "plt.grid()\n",
    "plt.xlim(3000.,5000.)"
   ]
  },
  {
   "cell_type": "code",
   "execution_count": null,
   "id": "efe100f1",
   "metadata": {},
   "outputs": [],
   "source": []
  },
  {
   "cell_type": "code",
   "execution_count": null,
   "id": "61445cb8",
   "metadata": {},
   "outputs": [],
   "source": []
  },
  {
   "cell_type": "markdown",
   "id": "66860095",
   "metadata": {},
   "source": [
    "# Calculate magnitudes with my own function \n",
    "\n",
    "Physical constants "
   ]
  },
  {
   "cell_type": "code",
   "execution_count": null,
   "id": "9a755054",
   "metadata": {},
   "outputs": [],
   "source": [
    "c_light = S.units.C #speed of light [Angstrom /s] \n",
    "print(c_light)\n",
    "h_planck = S.units.H #Planck's constant [erg*s] \n",
    "print(h_planck)"
   ]
  },
  {
   "cell_type": "code",
   "execution_count": null,
   "id": "a622f0c9",
   "metadata": {},
   "outputs": [],
   "source": [
    "# Reference flux value for an AB source in erg / s / cm2 / Hz \n",
    "f_ref = 3.63*10**(-20)"
   ]
  },
  {
   "cell_type": "code",
   "execution_count": null,
   "id": "c3526d44",
   "metadata": {},
   "outputs": [],
   "source": [
    "# Pivot wavelength [cm] \n",
    "wl_piv = 5.4929*10**(-5)"
   ]
  },
  {
   "cell_type": "code",
   "execution_count": null,
   "id": "39afee1c",
   "metadata": {},
   "outputs": [],
   "source": [
    "C = f_ref/(h_planck*wl_piv*10**8.)\n",
    "print(C)"
   ]
  },
  {
   "cell_type": "markdown",
   "id": "eb99e64a",
   "metadata": {},
   "source": [
    "Definition of functions "
   ]
  },
  {
   "cell_type": "code",
   "execution_count": null,
   "id": "631a3e42",
   "metadata": {},
   "outputs": [],
   "source": [
    "# The SED of an AB source (that is, constant flux in frequency units) expressed in photons / s / cm^2 / Angstrom \n",
    "def ABnphot(wl):\n",
    "    #return 997.2*5500./wl\n",
    "    return C*wl_piv*10**8./wl"
   ]
  },
  {
   "cell_type": "markdown",
   "id": "e5af24de",
   "metadata": {},
   "source": [
    "We check that this function actually creates a spectrum with the properties of an AB source, that is, a flat spectrum in fnu units (erg/s/cm2/Hz) "
   ]
  },
  {
   "cell_type": "code",
   "execution_count": null,
   "id": "637d13ff",
   "metadata": {},
   "outputs": [],
   "source": [
    "checkab = ABnphot(example_spec.wave)\n",
    "checkab_ = S.ArraySpectrum(example_spec.wave, checkab, name='Flat AB spectrum')\n",
    "#plt.plot(checkab_.wave,checkab_.flux)\n",
    "checkab_.convert('fnu')\n",
    "plt.plot(checkab_.wave,checkab_.flux*10**23.)\n",
    "plt.ylim(3.628*10.**3,3.632*10**3.)\n",
    "plt.grid()\n",
    "plt.xlabel(r'$\\lambda$ [angstrom]',fontsize=16)\n",
    "plt.ylabel('Flux [Jy]',fontsize=16)"
   ]
  },
  {
   "cell_type": "code",
   "execution_count": null,
   "id": "e7f97f87",
   "metadata": {},
   "outputs": [],
   "source": []
  },
  {
   "cell_type": "markdown",
   "id": "b36b123f",
   "metadata": {},
   "source": [
    "Now, we define our function to compute the AB magnitudes: \n",
    "$$m_{AB} = -2.5 \\log_{10} \\frac{\\int F_{\\nu}^E(\\lambda) \\cdot S_{eff} \\cdot t_{exp} \\cdot S_{passband}(\\lambda) \\frac{d\\lambda}{h \\lambda}}{\\int F_{\\nu, AB}^E \\cdot S_{eff} \\cdot t_{exp} \\cdot S_{throughput}(\\lambda) \\frac{d\\lambda}{h \\lambda}} = -2.5 \\log_{10} \\frac{A}{B} \\, . $$ \n",
    "Now, we want to compute the error for the AB magnitudes. The denominator is constant for a given $S_{throughput}(\\lambda)$, so we assume it does not contribute to the error. Then, we can approximate $A$ as \n",
    "$$A \\approx \\sum_i F_{\\nu}^E(\\lambda_i) \\cdot S_{eff} \\cdot t_{exp} \\cdot S_{passband}(\\lambda_i) \\frac{\\Delta \\lambda_i}{h \\lambda_i} = \\sum_i n_i \\cdot S_{passband}(\\lambda_i) \\, , $$ \n",
    "where $n_i$ is the number of photo-electrons received within a given bin of wavelength, $\\Delta \\lambda_i$. Then, we can assume that $n_i$ is a Poisson random variable, so \n",
    "$$\\sigma^2_{n_i} = n_i . $$ \n",
    "Taking this into account, we can write the error of $A$ as \n",
    "$$\\sigma^2_A = \\sum_i \\left( \\frac{\\partial A}{\\partial n_i} \\right)^2 \\sigma^2_{n_i} = \\sum_i n_i \\cdot S_{passband}^2(\\lambda_i) \\, , $$ \n",
    "therefore, \n",
    "$$\\sigma_A = \\sqrt{n_i} \\, . $$\n",
    "Finally, the error on $m_{AB}$ is given by \n",
    "$$\\sigma^2_{m_{AB}} = \\left( \\frac{\\partial m_{AB}}{\\partial A} \\right)^2 \\sigma^2_A = \\left( \\frac{-2.5}{A \\log 10} \\right)^2 \\cdot \\sum_i n_i \\cdot S_{passband}^2(\\lambda_i) \\, . $$ \n"
   ]
  },
  {
   "cell_type": "code",
   "execution_count": null,
   "id": "c588734a",
   "metadata": {},
   "outputs": [],
   "source": [
    "def myAB(spec,passband,filter,return_error=False,renormalize=None):\n",
    "    f_units = str(spec.fluxunits)\n",
    "    if f_units!='fnu':\n",
    "        print('ATTENTION: converting flux units to fnu')\n",
    "        spec.convert('fnu')\n",
    "        \n",
    "    observation = S.Observation(spec,passband,force='taper')\n",
    "    print('Observation units = ', observation.fluxunits)\n",
    "    nan_mask = np.isnan(observation.flux)\n",
    "    \n",
    "    obs_wave_ = observation.wave[~nan_mask]\n",
    "    obs_flux_ = observation.flux[~nan_mask]\n",
    "    wave_min = np.min(observation.wave[~nan_mask])\n",
    "    wave_max = np.max(observation.wave[~nan_mask])\n",
    "    \n",
    "    if renormalize!=None:\n",
    "        renorm = np.power(10.,-1.*renormalize/2.5)\n",
    "    else:\n",
    "        renorm = 1.0\n",
    "    \n",
    "    num = np.trapz(obs_flux_*renorm/obs_wave_,x=obs_wave_)*Seff*exptime/h_planck\n",
    "    #obmag = -2.5*np.log10(num)\n",
    "    \n",
    "    if return_error:\n",
    "        finterp_pb = interp1d(passband.wave,passband.throughput,bounds_error=False,fill_value=0.)\n",
    "        pb_interp = finterp_pb(spec.wave)\n",
    "        \n",
    "        delta_lambda = list(np.diff(spec.wave))\n",
    "        delta_lambda.append(spec.wave[-1]-spec.wave[-2])\n",
    "        delta_lambda = np.array(delta_lambda)\n",
    "        assert len(delta_lambda)==len(spec.wave)\n",
    "        \n",
    "        assert str(spec.fluxunits)=='fnu'\n",
    "        n_i = spec.flux*renorm*delta_lambda*Seff*exptime/(spec.wave*h_planck)\n",
    "        #print(len(n_i),len(pb_interp))\n",
    "        print('n_i = ', n_i)\n",
    "        print('Number of collected photoelectrons = {0:.2e}'.format(np.sum(n_i*pb_interp)))\n",
    "        err2_num = np.sum(n_i*np.array(pb_interp)**2.)\n",
    "    \n",
    "    spec.convert(f_units)\n",
    "    \n",
    "    print('Numerator = {0:.2e}'.format(num))\n",
    "    if return_error:\n",
    "        print('Variance of the numerator = {0:.2e}'.format(err2_num))\n",
    "    \n",
    "    #flatsp = S.FlatSpectrum(f_ref,fluxunits='fnu')\n",
    "    #flatsp_vals = np.ones(len(spec.wave))*f_ref\n",
    "    #flatsp = S.ArraySpectrum(spec.wave,flatsp_vals)\n",
    "    \n",
    "    flatsp_nphot = ABnphot(spec.wave)\n",
    "    flatsp_ = S.ArraySpectrum(spec.wave, flatsp_nphot, name='Flat AB spectrum')\n",
    "    \n",
    "    flatsp_.convert('fnu')\n",
    "    ab_obs = S.Observation(flatsp_,filter,force='taper')\n",
    "    print('AB observation units = ', ab_obs.fluxunits)\n",
    "    \n",
    "    ab_wave_ = ab_obs.wave[~nan_mask]\n",
    "    ab_flux_ = ab_obs.flux[~nan_mask]\n",
    "    \n",
    "    den = np.trapz(ab_flux_/ab_wave_,x=ab_wave_)*Seff*exptime/h_planck\n",
    "    \n",
    "    print('Denominator = {0:.2e}'.format(den))\n",
    "    #print(num/den)\n",
    "    #print(obmag)\n",
    "    mab = -2.5*np.log10(num/den)\n",
    "    print('AB magnitude = ', mab)\n",
    "    print('---------')\n",
    "    \n",
    "    if return_error:\n",
    "        err2_mab = (2.5**2./np.log(10.)**2.)*err2_num/num**2.\n",
    "        err_mab = np.sqrt(err2_mab)\n",
    "        \n",
    "        return mab,err_mab\n",
    "    else:\n",
    "        return mab"
   ]
  },
  {
   "cell_type": "code",
   "execution_count": null,
   "id": "879a07be",
   "metadata": {},
   "outputs": [],
   "source": []
  },
  {
   "cell_type": "code",
   "execution_count": null,
   "id": "0a6218cf",
   "metadata": {},
   "outputs": [],
   "source": []
  },
  {
   "cell_type": "code",
   "execution_count": null,
   "id": "c8cb3a2a",
   "metadata": {},
   "outputs": [],
   "source": []
  },
  {
   "cell_type": "code",
   "execution_count": null,
   "id": "6ca7a204",
   "metadata": {},
   "outputs": [],
   "source": [
    "# This function gives the flux of an AB source in photons / s / cm^2 / Angstrom \n",
    "flatsp_nphot = ABnphot(example_spec.wave)"
   ]
  },
  {
   "cell_type": "code",
   "execution_count": null,
   "id": "85e10ce3",
   "metadata": {},
   "outputs": [],
   "source": [
    "#Let's write this in pysynphot format (note that the result will be in photlam units, then we use ABnphot as input)\n",
    "flatsp = S.ArraySpectrum(example_spec.wave, flatsp_nphot, name='Flat AB spectrum')"
   ]
  },
  {
   "cell_type": "code",
   "execution_count": null,
   "id": "d5161fd2",
   "metadata": {},
   "outputs": [],
   "source": [
    "flatsp.fluxunits"
   ]
  },
  {
   "cell_type": "code",
   "execution_count": null,
   "id": "f684492e",
   "metadata": {},
   "outputs": [],
   "source": [
    "print(flatsp.fluxunits)\n",
    "flatsp.convert('photlam')\n",
    "example_spec.convert('photlam')\n",
    "plt.figure(figsize=(14,10))\n",
    "plt.plot(flatsp.wave,flatsp.flux)\n",
    "plt.plot(example_spec.wave,example_spec.flux)\n",
    "plt.xlim(0.,12000.)\n",
    "plt.grid()"
   ]
  },
  {
   "cell_type": "code",
   "execution_count": null,
   "id": "48a0bbdf",
   "metadata": {},
   "outputs": [],
   "source": []
  },
  {
   "cell_type": "markdown",
   "id": "b314cf12",
   "metadata": {},
   "source": [
    "Here we verify that creating a pysynphot AB flat spectrum and transforming it to photlam gives the same as directly creating the same spectrum in photlam units with ABnphot "
   ]
  },
  {
   "cell_type": "code",
   "execution_count": null,
   "id": "c2c8c39c",
   "metadata": {},
   "outputs": [],
   "source": [
    "flatsp0 = S.FlatSpectrum(f_ref,fluxunits='fnu')\n",
    "flatsp0.fluxunits"
   ]
  },
  {
   "cell_type": "code",
   "execution_count": null,
   "id": "52f03bc4",
   "metadata": {},
   "outputs": [],
   "source": [
    "flatsp0.convert('photlam')\n",
    "plt.figure(figsize=(14,10))\n",
    "plt.plot(flatsp.wave,flatsp.flux,color='b')\n",
    "plt.plot(flatsp0.wave,flatsp0.flux,ls='--',color='orange')\n",
    "plt.xlim(0.,12000.)\n",
    "plt.grid()"
   ]
  },
  {
   "cell_type": "markdown",
   "id": "14fd2df9",
   "metadata": {},
   "source": [
    "To further check it, let's transform it to flam and compare with the analytical expression: \n",
    "\n",
    "$$F_{\\lambda} = F_{\\nu} \\frac{c}{\\lambda^2}$$"
   ]
  },
  {
   "cell_type": "code",
   "execution_count": null,
   "id": "25425596",
   "metadata": {},
   "outputs": [],
   "source": [
    "flambda = f_ref*c_light/flatsp.wave**2."
   ]
  },
  {
   "cell_type": "code",
   "execution_count": null,
   "id": "d2d69f50",
   "metadata": {},
   "outputs": [],
   "source": [
    "flatsp.convert('flam')\n",
    "flatsp.waveunits\n",
    "plt.figure(figsize=(14,10))\n",
    "plt.plot(flatsp.wave,flatsp.flux,color='b')\n",
    "plt.plot(flatsp.wave,flambda,color='orange',ls='--')\n",
    "plt.xlim(0.,12000.)\n",
    "plt.grid()\n",
    "flatsp.convert('photlam')"
   ]
  },
  {
   "cell_type": "markdown",
   "id": "c27fd721",
   "metadata": {},
   "source": [
    "Now we check that the AB magnitudes are zero for the flat AB spectrum (they have to be through any filter, by definition) "
   ]
  },
  {
   "cell_type": "code",
   "execution_count": null,
   "id": "4ebcd9c5",
   "metadata": {},
   "outputs": [],
   "source": [
    "for filter in lsst_bp:\n",
    "    myAB(flatsp,filter,filter)"
   ]
  },
  {
   "cell_type": "markdown",
   "id": "96d1ae21",
   "metadata": {},
   "source": [
    "We check the same for the total passband. Note that, given the definition of AB magnitudes that we have implemented, the denominator only considers the throughput of the telescope, even when the spectra pass through the total passband, since the \"reference\" we want to compare to is when there is no effect of the atmosphere, but in any case the light passes through the telescope, so we consider the telescope's throughput to be the reference (i.e. as if it had a transmission = 1) with respect to which the flux is attenuated. Therefore, the following AB magnitudes of a flat AB spectrum should be different from (greater than) zero  "
   ]
  },
  {
   "cell_type": "code",
   "execution_count": null,
   "id": "900dfa9a",
   "metadata": {},
   "outputs": [],
   "source": [
    "for fi,filter in enumerate(filters):\n",
    "    myAB(flatsp,total_passband[filter][0],lsst_bp[fi])"
   ]
  },
  {
   "cell_type": "code",
   "execution_count": null,
   "id": "030ada43",
   "metadata": {},
   "outputs": [],
   "source": []
  },
  {
   "cell_type": "markdown",
   "id": "70552dbc",
   "metadata": {},
   "source": [
    "Make the flat spectrum pass through the throughputs and total passbands "
   ]
  },
  {
   "cell_type": "code",
   "execution_count": null,
   "id": "d083736d",
   "metadata": {},
   "outputs": [],
   "source": [
    "flat_dict_t = {}\n",
    "for fi,filter in enumerate(filters):\n",
    "    flat_spec_t_ = S.Observation(flatsp,lsst_bp[fi],force='taper')\n",
    "    flat_dict_t[filter] = flat_spec_t_\n",
    "\n",
    "flat_dict = {}\n",
    "for fi,filter in enumerate(filters):\n",
    "    flat_dict[filter] = []\n",
    "    for i in range(n_sim):\n",
    "        flat_spec_ = S.Observation(flatsp,total_passband[filter][i],force='taper')\n",
    "        flat_dict[filter].append(flat_spec_)"
   ]
  },
  {
   "cell_type": "code",
   "execution_count": null,
   "id": "c1759e64",
   "metadata": {},
   "outputs": [],
   "source": []
  },
  {
   "cell_type": "code",
   "execution_count": null,
   "id": "2a2f62f1",
   "metadata": {},
   "outputs": [],
   "source": [
    "fig=plt.figure(figsize=(16,5))\n",
    "ax = fig.add_subplot(111)\n",
    "#sed_dict[example_spec].convert('photlam')\n",
    "if str(flatsp.fluxunits)!='photlam':\n",
    "    flatsp.convert('photlam')\n",
    "plt.plot(flatsp.wave,flatsp.flux*Seff*exptime,ls='--',color='k',label='TOA spectrum')\n",
    "\n",
    "for index,filter in enumerate(filters):\n",
    "    #plt.plot(obs_dict_t[example_spec][filter].wave,obs_dict_t[example_spec][filter].flux*Seff*exptime,ls=':',color=filter_colors[index])\n",
    "    plt.plot(flat_dict_t[filter].wave,flat_dict_t[filter].flux*Seff*exptime,ls=':',color=filter_colors[index])\n",
    "    \n",
    "    for i in range(n_sim):\n",
    "        #obs_ = obs_dict[example_spec][filter][i]\n",
    "        obs_ = flat_dict[filter][i]\n",
    "        #plt.plot(obs_.wave,obs_.flux*Seff*exptime,ls='-',color=filter_colors[index],alpha=0.02)\n",
    "        plt.plot(obs_.wave,obs_.flux*Seff*exptime,ls='-',color=filter_colors[index],alpha=0.04)\n",
    "\n",
    "plt.plot([],[],ls=':',label='Spectrum through LSST')\n",
    "plt.plot([],[],ls='-',label='Spectrum through atm x LSST')\n",
    "plt.xlim(2600.,11000.)\n",
    "plt.ylim(0.,2.5e10)\n",
    "plt.grid()\n",
    "plt.xlabel('$\\\\lambda \\, [$'+str(obs.waveunits)+']',fontsize=15)\n",
    "plt.ylabel('$\\gamma \\, \\cdot angstrom^{-1}$',fontsize=15)\n",
    "plt.legend(fontsize=14)\n",
    "plt.title('Varying {0}. Airmass = {1}, clouds = {2}'.format(variable_param,am0,cloud0),fontsize=16)\n",
    "plt.savefig(os.path.join(outdir_plots,'flat_spectrum_toa_throughput_total_passband_varying_{0}_airmass_{1}_clouds_{2}.png'.format(variable_param,am0,cloud0)))"
   ]
  },
  {
   "cell_type": "code",
   "execution_count": null,
   "id": "59c8dbcb",
   "metadata": {},
   "outputs": [],
   "source": []
  },
  {
   "cell_type": "markdown",
   "id": "cd0f3101",
   "metadata": {},
   "source": [
    "Now we check that the error is equal to $n_i$ in the case of a flat unitary filter, that is, when $S_{passband}(\\lambda) = S_{throughput}(\\lambda) = 1 \\, \\forall \\lambda$, so \n",
    "$$\\sigma_A^2 = \\sum_i \\sigma_i^2 \\, .$$ "
   ]
  },
  {
   "cell_type": "code",
   "execution_count": null,
   "id": "5b0da632",
   "metadata": {},
   "outputs": [],
   "source": [
    "flat_filter_ = np.zeros(len(example_spec.wave))\n",
    "wmin_index = np.where(example_spec.wave>=5000.)[0][0]\n",
    "wmax_index = np.where(example_spec.wave<=6000.)[0][-1]\n",
    "print(wmin_index,wmax_index)\n",
    "flat_filter_[wmin_index:wmax_index] = 1.0\n",
    "flat_filter = S.ArrayBandpass(example_spec.wave,flat_filter_)\n",
    "plt.plot(flat_filter.wave,flat_filter.throughput)\n",
    "plt.xlim(4000.,7000.)\n",
    "plt.grid()\n",
    "plt.xlabel(r'$\\lambda$ [angstrom]',fontsize=16)\n",
    "plt.ylabel(r'$S(\\lambda)$',fontsize=16)"
   ]
  },
  {
   "cell_type": "code",
   "execution_count": null,
   "id": "65a5e750",
   "metadata": {},
   "outputs": [],
   "source": [
    "f_units_ = str(example_spec.fluxunits)\n",
    "print(f_units_)\n",
    "example_spec.convert('photlam')\n",
    "flatsp.convert('photlam')\n",
    "plt.plot(flatsp.wave,flatsp.flux*Seff*exptime,color='b')\n",
    "plt.plot(example_spec.wave,example_spec.flux*Seff*exptime,color='orange')\n",
    "plt.xlim(4000.,7000.)\n",
    "plt.ylim(0.,2e10)\n",
    "plt.grid()\n",
    "plt.xlabel(r'$\\lambda$ [angstrom]',fontsize=16)\n",
    "plt.ylabel(r'$\\gamma / angstrom$)',fontsize=16)\n",
    "example_spec.convert(f_units_)\n",
    "print(example_spec.fluxunits)"
   ]
  },
  {
   "cell_type": "code",
   "execution_count": null,
   "id": "156af85d",
   "metadata": {},
   "outputs": [],
   "source": [
    "myAB(example_spec,flat_filter,flat_filter,return_error=True)"
   ]
  },
  {
   "cell_type": "markdown",
   "id": "4d7ecde0",
   "metadata": {},
   "source": [
    "We confirm that the value of the number of collected photoelectrons, $n_i$, is equal to its variance, $\\sigma^2_{n_i}$. "
   ]
  },
  {
   "cell_type": "code",
   "execution_count": null,
   "id": "481b636e",
   "metadata": {},
   "outputs": [],
   "source": []
  },
  {
   "cell_type": "markdown",
   "id": "6ec735bb",
   "metadata": {},
   "source": [
    "Check with a $m_{AB}=25$ source "
   ]
  },
  {
   "cell_type": "code",
   "execution_count": null,
   "id": "0cda3a7a",
   "metadata": {},
   "outputs": [],
   "source": [
    "mb = 25\n",
    "mab25spec = S.FlatSpectrum(mb,fluxunits='abmag')\n",
    "plt.plot(mab25spec.wave,mab25spec.flux)\n",
    "plt.grid()\n",
    "plt.xlabel(r'$\\lambda$ [angstrom]',fontsize=16)\n",
    "plt.ylabel(r'$m_{AB}(\\lambda)$',fontsize=16)"
   ]
  },
  {
   "cell_type": "code",
   "execution_count": null,
   "id": "36a6d8a3",
   "metadata": {},
   "outputs": [],
   "source": [
    "mab25spec.convert('photlam')\n",
    "plt.plot(mab25spec.wave,mab25spec.flux*Seff*exptime)\n",
    "plt.grid()\n",
    "plt.xlabel(r'$\\lambda$ [angstrom]',fontsize=16)\n",
    "plt.ylabel(r'$\\gamma / angstrom$',fontsize=16)\n",
    "print(mab25spec.flux)\n",
    "mab25spec.convert('abmag')"
   ]
  },
  {
   "cell_type": "code",
   "execution_count": null,
   "id": "3ada8247",
   "metadata": {},
   "outputs": [],
   "source": [
    "mab25spec.convert('fnu')\n",
    "plt.plot(mab25spec.wave,mab25spec.flux*Seff*exptime)\n",
    "plt.grid()\n",
    "plt.xlabel(r'$\\lambda$ [angstrom]',fontsize=16)\n",
    "plt.ylabel(r'$F^E_{\\nu}(\\lambda) \\, [erg/s/cm^2/Hz]$',fontsize=16)\n",
    "print(mab25spec.flux)"
   ]
  },
  {
   "cell_type": "code",
   "execution_count": null,
   "id": "e8b33736",
   "metadata": {},
   "outputs": [],
   "source": [
    "mean25 = np.mean(mab25spec.flux)\n",
    "flat25_ = np.ones(len(flatsp.wave))*mean25\n",
    "flat25 = S.ArraySpectrum(flatsp.wave,flat25_,fluxunits='fnu')"
   ]
  },
  {
   "cell_type": "code",
   "execution_count": null,
   "id": "ffa97aa2",
   "metadata": {},
   "outputs": [],
   "source": [
    "print(flat25.fluxunits)\n",
    "plt.plot(flat25.wave,flat25.flux*Seff*exptime)\n",
    "plt.grid()\n",
    "plt.xlabel(r'$\\lambda$ [angstrom]',fontsize=16)\n",
    "plt.ylabel(r'$F^E_{\\nu}(\\lambda) \\, [erg/s/cm^2/Hz]$',fontsize=16)"
   ]
  },
  {
   "cell_type": "markdown",
   "id": "a28b8f3e",
   "metadata": {},
   "source": [
    "We evaluate the ratio between the $m_{AB} = 25$ flat spectrum, $F^{E,m_{AB}=25}_{\\nu}(\\lambda)$, and the reference $m_{AB} = 0$ flat spectrum, $F^{E,m_{AB}=0}_{\\nu}(\\lambda)$. This should be: \n",
    "$$m_{AB} = 25 = -2.5 \\log_{10} \\left( \\frac{F^{E,m_{AB}=25}_{\\nu}(\\lambda)}{F^{E,m_{AB}=0}_{\\nu}(\\lambda)} \\right) \\implies \\frac{F^{E,m_{AB}=25}_{\\nu}(\\lambda)}{F^{E,m_{AB}=0}_{\\nu}(\\lambda)} = 10^{-10} \\, . $$ \n",
    "\n",
    "Note that this is also true given our definition of AB magnitude, since \n",
    "$$m_{AB} = -2.5 \\log_{10} \\frac{\\int F_{\\nu, AB}^E \\cdot 10^{-10} \\cdot S_{eff} \\cdot t_{exp} \\cdot S_{passband}(\\lambda) \\frac{d\\lambda}{h \\lambda}}{\\int F_{\\nu, AB}^E \\cdot S_{eff} \\cdot t_{exp} \\cdot S_{throughput}(\\lambda) \\frac{d\\lambda}{h \\lambda}} = -2.5 \\log_{10} 10^{-10} = 25 \\, .$$ "
   ]
  },
  {
   "cell_type": "code",
   "execution_count": null,
   "id": "e3de7d9b",
   "metadata": {},
   "outputs": [],
   "source": [
    "flat_units = str(flatsp.fluxunits)\n",
    "flatsp.convert('fnu')\n",
    "flat25.convert('fnu')\n",
    "plt.plot(flat25.wave,flat25.flux/flatsp.flux)\n",
    "plt.grid()\n",
    "plt.ylim(0.99e-10,1.01e-10)\n",
    "plt.xlabel(r'$\\lambda$ [angstrom]',fontsize=16)\n",
    "plt.ylabel(r'$F^{E,m_{AB}=25}_{\\nu}(\\lambda) / F^{E,m_{AB}=0}_{\\nu}(\\lambda)$',fontsize=16)\n",
    "flatsp.convert(flat_units)"
   ]
  },
  {
   "cell_type": "code",
   "execution_count": null,
   "id": "91a421bc",
   "metadata": {},
   "outputs": [],
   "source": []
  },
  {
   "cell_type": "code",
   "execution_count": null,
   "id": "11bd331b",
   "metadata": {},
   "outputs": [],
   "source": [
    "myAB(flat25,flat_filter,flat_filter,return_error=True)"
   ]
  },
  {
   "cell_type": "markdown",
   "id": "003fb9b5",
   "metadata": {},
   "source": [
    "Since the AB mag = 25 spectrum is flat, it should have the same magnitude for any filter, given our definition of $m_{AB}$ as established above, the same way as the reference AB flat spectrum (3631.1 Jy or mag = 0). Note that in this case, since the filters are no longer flat, the error of the numerator its different from the number of collected photoelectrons "
   ]
  },
  {
   "cell_type": "code",
   "execution_count": null,
   "id": "ac93bbf7",
   "metadata": {},
   "outputs": [],
   "source": [
    "for filter in lsst_bp:\n",
    "    m_,err_ = myAB(flat25,filter,filter,return_error=True)\n",
    "    print(m_,err_)\n",
    "    print('############')"
   ]
  },
  {
   "cell_type": "code",
   "execution_count": null,
   "id": "1aad2162",
   "metadata": {},
   "outputs": [],
   "source": []
  },
  {
   "cell_type": "markdown",
   "id": "ac94a123",
   "metadata": {},
   "source": [
    "Check with a fainter star "
   ]
  },
  {
   "cell_type": "code",
   "execution_count": null,
   "id": "ef82ad3f",
   "metadata": {},
   "outputs": [],
   "source": [
    "test_type2 = 'M'\n",
    "f_units_ = str(example_spec.fluxunits)\n",
    "print(f_units_)\n",
    "example_spec.convert('photlam')\n",
    "flatsp.convert('photlam')\n",
    "plt.figure(figsize=(14,10))\n",
    "plt.plot(flatsp.wave,flatsp.flux*Seff*exptime,color='b')\n",
    "plt.plot(example_spec.wave,example_spec.flux*Seff*exptime,color='orange')\n",
    "for spec_ in spec_by_type[test_type2]:\n",
    "    spec_.convert('photlam')\n",
    "    plt.plot(spec_.wave,spec_.flux*Seff*exptime,ls='--')\n",
    "plt.grid()\n",
    "plt.xscale(\"log\")\n",
    "plt.yscale(\"log\")\n",
    "plt.xlabel(r'$\\lambda$ [angstrom]',fontsize=16)\n",
    "plt.ylabel(r'$\\gamma / angstrom$',fontsize=16)\n",
    "example_spec.convert(f_units_)\n",
    "print(example_spec.fluxunits)\n"
   ]
  },
  {
   "cell_type": "code",
   "execution_count": null,
   "id": "ae7a9300",
   "metadata": {},
   "outputs": [],
   "source": [
    "example_spec2 = spec_by_type[test_type2][0]"
   ]
  },
  {
   "cell_type": "code",
   "execution_count": null,
   "id": "4f99562d",
   "metadata": {},
   "outputs": [],
   "source": [
    "myAB(example_spec2,flat_filter,flat_filter,return_error=True)"
   ]
  },
  {
   "cell_type": "code",
   "execution_count": null,
   "id": "ccfe21ef",
   "metadata": {},
   "outputs": [],
   "source": []
  },
  {
   "cell_type": "code",
   "execution_count": null,
   "id": "634e1e38",
   "metadata": {},
   "outputs": [],
   "source": []
  },
  {
   "cell_type": "code",
   "execution_count": null,
   "id": "97c07dad",
   "metadata": {},
   "outputs": [],
   "source": []
  },
  {
   "cell_type": "markdown",
   "id": "b09f32d0",
   "metadata": {},
   "source": [
    "Now, let's see the AB magnitudes of the example spectrum with myAB function. To better understand it, we can compare the AB spectrum and the example spectrum (Vega) flux amplitudes in each range of wavelengths (see plot below) "
   ]
  },
  {
   "cell_type": "code",
   "execution_count": null,
   "id": "10e8c819",
   "metadata": {},
   "outputs": [],
   "source": [
    "print(flatsp.fluxunits)\n",
    "flatsp.convert('photlam')\n",
    "example_spec.convert('photlam')\n",
    "plt.figure(figsize=(14,10))\n",
    "plt.plot(flatsp.wave,flatsp.flux)\n",
    "plt.plot(example_spec.wave,example_spec.flux)\n",
    "\n",
    "# Approximate integration limits of each total passband. Note that there is some overlap \n",
    "plt.axvline(x=3200,ls='--',color=filter_colors[0])\n",
    "plt.axvline(x=4120,ls='--',color=filter_colors[0])\n",
    "plt.fill_between(np.arange(3200,4120),np.ones(len(np.arange(3200,4120)))*2000.,color=filter_colors[0],alpha=0.1)\n",
    "\n",
    "plt.axvline(x=3820,ls='--',color=filter_colors[1])\n",
    "plt.axvline(x=5650,ls='--',color=filter_colors[1])\n",
    "plt.fill_between(np.arange(3820,5650),np.ones(len(np.arange(3820,5650)))*2000.,color=filter_colors[1],alpha=0.1)\n",
    "\n",
    "plt.axvline(x=5250,ls='--',color=filter_colors[2])\n",
    "plt.axvline(x=7110,ls='--',color=filter_colors[2])\n",
    "plt.fill_between(np.arange(5250,7110),np.ones(len(np.arange(5250,7110)))*2000.,color=filter_colors[2],alpha=0.1)\n",
    "\n",
    "plt.axvline(x=6600,ls='--',color=filter_colors[3])\n",
    "plt.axvline(x=8580,ls='--',color=filter_colors[3])\n",
    "plt.fill_between(np.arange(6600,8580),np.ones(len(np.arange(6600,8580)))*2000.,color=filter_colors[3],alpha=0.1)\n",
    "\n",
    "plt.axvline(x=7860,ls='--',color=filter_colors[4])\n",
    "plt.axvline(x=9780,ls='--',color=filter_colors[4])\n",
    "plt.fill_between(np.arange(7860,9780),np.ones(len(np.arange(7860,9780)))*2000.,color=filter_colors[4],alpha=0.1)\n",
    "\n",
    "plt.axvline(x=8720,ls='--',color=filter_colors[5])\n",
    "plt.axvline(x=12000,ls='--',color=filter_colors[5])\n",
    "plt.fill_between(np.arange(8720,12000),np.ones(len(np.arange(8720,12000)))*2000.,color=filter_colors[5],alpha=0.1)\n",
    "\n",
    "plt.xlim(2000.,12500.)\n",
    "plt.ylim(0.,2000.)\n",
    "plt.grid()\n",
    "plt.xlabel(r'$\\lambda$ [angstrom]',fontsize=16)\n",
    "plt.ylabel(r'$\\gamma / angstrom$',fontsize=16)"
   ]
  },
  {
   "cell_type": "code",
   "execution_count": null,
   "id": "676ac3b5",
   "metadata": {},
   "outputs": [],
   "source": [
    "for filter in lsst_bp:\n",
    "    myAB(example_spec,filter,filter)"
   ]
  },
  {
   "cell_type": "code",
   "execution_count": null,
   "id": "0dd548cf",
   "metadata": {},
   "outputs": [],
   "source": [
    "for fi,filter in enumerate(filters):\n",
    "    myAB(example_spec,total_passband[filter][0],lsst_bp[fi])"
   ]
  },
  {
   "cell_type": "code",
   "execution_count": null,
   "id": "2951327f",
   "metadata": {},
   "outputs": [],
   "source": []
  },
  {
   "cell_type": "code",
   "execution_count": null,
   "id": "0702de5c",
   "metadata": {},
   "outputs": [],
   "source": []
  },
  {
   "cell_type": "code",
   "execution_count": null,
   "id": "dcaf9543",
   "metadata": {},
   "outputs": [],
   "source": []
  },
  {
   "cell_type": "markdown",
   "id": "f9d111a2",
   "metadata": {},
   "source": [
    "# Calculate magnitudes and colours"
   ]
  },
  {
   "cell_type": "markdown",
   "id": "a9bf59af",
   "metadata": {},
   "source": [
    "We compute the magnitudes for the spectra of each spectral type for each atmosphere "
   ]
  },
  {
   "cell_type": "code",
   "execution_count": null,
   "id": "66775fe7",
   "metadata": {},
   "outputs": [],
   "source": [
    "calc_mag_err = True"
   ]
  },
  {
   "cell_type": "code",
   "execution_count": null,
   "id": "b1ffe603",
   "metadata": {},
   "outputs": [],
   "source": [
    "# Magnitudes of spectra passing only through throughput. We define this in case we want to use the TOA observations \n",
    "# as reference, instead of a given atmosphere \n",
    "mag_dict_t = {}\n",
    "for st in spectral_types:\n",
    "    print(st)\n",
    "    \n",
    "    mag_dict_t_st = {}\n",
    "    for si,obs_spec_ in enumerate(spec_by_type[st]):\n",
    "        \n",
    "        mag_dict_ = {}\n",
    "        for index,filter in enumerate(lsst_bp):\n",
    "            #mag_dict_[filter] = obs_spec_[filter].effstim(\"abmag\")\n",
    "            mag_ab_,mag_ab_err_ = myAB(obs_spec_,lsst_bp[index],lsst_bp[index],return_error=True)\n",
    "            mag_dict_[filters[index]] = mag_ab_\n",
    "            print(mag_ab_err_)\n",
    "            print('#############')\n",
    "        \n",
    "        mag_dict_t_st[si] = mag_dict_\n",
    "    mag_dict_t[st] = mag_dict_t_st"
   ]
  },
  {
   "cell_type": "code",
   "execution_count": null,
   "id": "36d9d779",
   "metadata": {},
   "outputs": [],
   "source": [
    "print(len(obs_dict.keys()))\n",
    "print(len(mag_dict_t.keys()))\n",
    "print(len(mag_dict_t[test_type].keys()))\n",
    "print(len(mag_dict_t[test_type][test_spec].keys()))\n",
    "print(mag_dict_t[test_type][test_spec]['u'])"
   ]
  },
  {
   "cell_type": "markdown",
   "id": "0056bc6d",
   "metadata": {},
   "source": [
    "We check the distribution of the magnitudes from TOA: "
   ]
  },
  {
   "cell_type": "code",
   "execution_count": null,
   "id": "c1638ab6",
   "metadata": {},
   "outputs": [],
   "source": [
    "fig_rows = 1\n",
    "fig_cols = 6\n",
    "fig, axs = plt.subplots(fig_rows, fig_cols, figsize=(18,8))\n",
    "\n",
    "for col,filter in enumerate(filters):\n",
    "    mags_ = []\n",
    "    for spec_type in spectral_types:\n",
    "        for si in range(len(mag_dict_t[spec_type])):\n",
    "            mags_.append(mag_dict_t[spec_type][si][filter])\n",
    "    mags_ = np.array(mags_)\n",
    "    axs[col].hist(mags_,bins=50)\n",
    "    axs[col].grid()\n",
    "    axs[col].set_xlabel('{0}-mag'.format(filter))"
   ]
  },
  {
   "cell_type": "markdown",
   "id": "cd6b80b0",
   "metadata": {},
   "source": [
    "We see that the magnitudes are too brillant, so we can add magnitudes to make them fainter: "
   ]
  },
  {
   "cell_type": "code",
   "execution_count": null,
   "id": "b0950c15",
   "metadata": {},
   "outputs": [],
   "source": [
    "add_mag = 22."
   ]
  },
  {
   "cell_type": "code",
   "execution_count": null,
   "id": "16db7a2d",
   "metadata": {},
   "outputs": [],
   "source": [
    "mag_dict_t = {}\n",
    "for st in spectral_types:\n",
    "    print(st)\n",
    "    \n",
    "    mag_dict_t_st = {}\n",
    "    for si,obs_spec_ in enumerate(spec_by_type[st]):\n",
    "        \n",
    "        mag_dict_ = {}\n",
    "        for index,filter in enumerate(lsst_bp):\n",
    "            #mag_dict_[filter] = obs_spec_[filter].effstim(\"abmag\")\n",
    "            mag_ab_,mag_ab_err_ = myAB(obs_spec_,lsst_bp[index],lsst_bp[index],renormalize=add_mag,return_error=True)\n",
    "            mag_dict_[filters[index]] = mag_ab_\n",
    "            print(mag_ab_err_)\n",
    "            print('#############')\n",
    "        \n",
    "        mag_dict_t_st[si] = mag_dict_\n",
    "    mag_dict_t[st] = mag_dict_t_st"
   ]
  },
  {
   "cell_type": "code",
   "execution_count": null,
   "id": "793d47fe",
   "metadata": {},
   "outputs": [],
   "source": [
    "fig_rows = 1\n",
    "fig_cols = 6\n",
    "fig, axs = plt.subplots(fig_rows, fig_cols, figsize=(18,8))\n",
    "\n",
    "for col,filter in enumerate(filters):\n",
    "    mags_ = []\n",
    "    for spec_type in spectral_types:\n",
    "        for si in range(len(mag_dict_t[spec_type])):\n",
    "            mags_.append(mag_dict_t[spec_type][si][filter])\n",
    "    mags_ = np.array(mags_)\n",
    "    axs[col].hist(mags_,bins=50)\n",
    "    axs[col].grid()\n",
    "    axs[col].set_xlabel('{0}-mag'.format(filter))"
   ]
  },
  {
   "cell_type": "markdown",
   "id": "df27e6b9",
   "metadata": {},
   "source": [
    "We confirm that the resulting magnitudes are shifted to a values around 25. Let's do the same for the spectra through atmosphere x throughput"
   ]
  },
  {
   "cell_type": "code",
   "execution_count": null,
   "id": "c165389c",
   "metadata": {},
   "outputs": [],
   "source": []
  },
  {
   "cell_type": "code",
   "execution_count": null,
   "id": "368b4da8",
   "metadata": {},
   "outputs": [],
   "source": []
  },
  {
   "cell_type": "code",
   "execution_count": null,
   "id": "a29350c3",
   "metadata": {},
   "outputs": [],
   "source": [
    "# Magnitudes of spectra passing through atm x throughput \n",
    "mag_dict = {}\n",
    "mag_dict_ref = {}\n",
    "mag_err_dict = {}\n",
    "mag_err_dict_ref = {}\n",
    "for st in spectral_types:\n",
    "    print(st)\n",
    "    \n",
    "    mag_dict_st = {}\n",
    "    mag_dict_ref_st = {}\n",
    "    mag_err_dict_st = {}\n",
    "    mag_err_dict_ref_st = {}\n",
    "    for si,obs_spec_ in enumerate(spec_by_type[st]):\n",
    "        mag_dict_ = {}\n",
    "        mag_dict_ref_ = {}\n",
    "        mag_err_dict_ = {}\n",
    "        mag_err_dict_ref_ = {}\n",
    "        for fi,filter in enumerate(filters):\n",
    "            mag_dict_[filter] = []\n",
    "            mag_err_dict_[filter] = []\n",
    "            for i in range(n_sim):\n",
    "                #mag_dict_[filter].append(obs_spec_[filter][i].effstim(\"abmag\"))\n",
    "                if calc_mag_err:\n",
    "                    mag_ab_, mag_ab_err_ = myAB(obs_spec_,total_passband[filter][i],lsst_bp[fi],return_error=True,renormalize=add_mag)\n",
    "                    mag_err_dict_[filter].append(mag_ab_err_)\n",
    "                    print(mag_ab_err_)\n",
    "                    print('###########')\n",
    "                else:\n",
    "                    mag_ab_ = myAB(obs_spec_,total_passband[filter][i],lsst_bp[fi],renormalize=add_mag)\n",
    "                mag_dict_[filter].append(mag_ab_)\n",
    "                \n",
    "            #mag_dict[sed_] = mag_dict_\n",
    "            \n",
    "            if calc_mag_err:\n",
    "                mag_ab_, mag_ab_err_ = myAB(obs_spec_,total_passband_ref[filter],lsst_bp[fi],return_error=True,renormalize=add_mag)\n",
    "                mag_err_dict_ref_[filter] = mag_ab_err_\n",
    "                print(mag_ab_err_)\n",
    "                print('###########')\n",
    "            else:\n",
    "                mag_ab_ = myAB(obs_spec_,total_passband_ref[filter],lsst_bp[fi],renormalize=add_mag)\n",
    "            mag_dict_ref_[filter] = mag_ab_\n",
    "        mag_dict_st[si] = mag_dict_\n",
    "        mag_dict_ref_st[si] = mag_dict_ref_\n",
    "        mag_err_dict_st[si] = mag_err_dict_\n",
    "        mag_err_dict_ref_st[si] = mag_err_dict_ref_\n",
    "    mag_dict[st] = mag_dict_st\n",
    "    mag_dict_ref[st] = mag_dict_ref_st\n",
    "    mag_err_dict[st] = mag_err_dict_st\n",
    "    mag_err_dict_ref[st] = mag_err_dict_ref_st\n",
    "        "
   ]
  },
  {
   "cell_type": "code",
   "execution_count": null,
   "id": "07b7b80b",
   "metadata": {},
   "outputs": [],
   "source": [
    "print(len(sed_dict.keys()))\n",
    "print(len(obs_dict.keys()))\n",
    "print(len(mag_dict.keys()))\n",
    "print(len(mag_dict[test_type].keys()))\n",
    "print(len(mag_dict[test_type][test_spec].keys()))\n",
    "print(len(mag_dict[test_type][test_spec]['u']))\n",
    "print(mag_dict[test_type][test_spec]['u'][test_spec])\n",
    "print(mag_err_dict[test_type][test_spec]['u'][test_spec])"
   ]
  },
  {
   "cell_type": "code",
   "execution_count": null,
   "id": "b7a855ca",
   "metadata": {},
   "outputs": [],
   "source": [
    "print(len(mag_dict_ref.keys()))\n",
    "print(len(mag_dict_ref[test_type].keys()))\n",
    "print(len(mag_dict_ref[test_type][test_spec].keys()))\n",
    "print(mag_dict_ref[test_type][test_spec]['u'])\n",
    "print(mag_err_dict_ref[test_type][test_spec]['u'])"
   ]
  },
  {
   "cell_type": "code",
   "execution_count": null,
   "id": "60272a58",
   "metadata": {},
   "outputs": [],
   "source": [
    "print(np.array(mag_err_dict[test_type][test_spec]['u'])*1000.)"
   ]
  },
  {
   "cell_type": "code",
   "execution_count": null,
   "id": "641261e9",
   "metadata": {},
   "outputs": [],
   "source": [
    "cc_ug = (np.array(mag_dict[test_type][test_spec]['u'])-np.array(mag_dict[test_type][test_spec]['g']))*1000.\n",
    "print(cc_ug)"
   ]
  },
  {
   "cell_type": "code",
   "execution_count": null,
   "id": "da5feaa9",
   "metadata": {},
   "outputs": [],
   "source": [
    "ee_ug = np.sqrt(np.array(mag_err_dict[test_type][test_spec]['u'])**2.+np.array(mag_err_dict[test_type][test_spec]['g'])**2.)*1000.\n",
    "print(ee_ug)"
   ]
  },
  {
   "cell_type": "code",
   "execution_count": null,
   "id": "9b46e0e5",
   "metadata": {},
   "outputs": [],
   "source": [
    "cc_ug_ref = (np.array(mag_dict_ref[test_type][test_spec]['u'])-np.array(mag_dict_ref[test_type][test_spec]['g']))*1000.\n",
    "print(cc_ug_ref)"
   ]
  },
  {
   "cell_type": "code",
   "execution_count": null,
   "id": "b5d2f689",
   "metadata": {},
   "outputs": [],
   "source": [
    "ee_ug_ref = np.sqrt(np.array(mag_err_dict_ref[test_type][test_spec]['u'])**2.+np.array(mag_err_dict_ref[test_type][test_spec]['g'])**2.)*1000.\n",
    "print(ee_ug_ref)"
   ]
  },
  {
   "cell_type": "code",
   "execution_count": null,
   "id": "78783e7c",
   "metadata": {},
   "outputs": [],
   "source": [
    "Delta_ = cc_ug-cc_ug_ref\n",
    "print(Delta_)"
   ]
  },
  {
   "cell_type": "code",
   "execution_count": null,
   "id": "0d3d526e",
   "metadata": {},
   "outputs": [],
   "source": [
    "Delta_err_ = np.sqrt(ee_ug**2.+ee_ug_ref**2.)\n",
    "print(Delta_err_)"
   ]
  },
  {
   "cell_type": "code",
   "execution_count": null,
   "id": "acde56ea",
   "metadata": {},
   "outputs": [],
   "source": []
  },
  {
   "cell_type": "code",
   "execution_count": null,
   "id": "976e9d86",
   "metadata": {},
   "outputs": [],
   "source": []
  },
  {
   "cell_type": "code",
   "execution_count": null,
   "id": "b0b602b3",
   "metadata": {},
   "outputs": [],
   "source": []
  },
  {
   "cell_type": "markdown",
   "id": "74e7d572",
   "metadata": {},
   "source": [
    "Now we compute the colours from the magnitudes "
   ]
  },
  {
   "cell_type": "code",
   "execution_count": null,
   "id": "e0733e66",
   "metadata": {},
   "outputs": [],
   "source": [
    "colour_dict = {}\n",
    "colour_err_dict = {}\n",
    "for st in spectral_types:\n",
    "    print(st)\n",
    "    \n",
    "    colour_dict_st = {}\n",
    "    colour_err_dict_st = {}\n",
    "    for si in mag_dict[st]:\n",
    "        c_dict = {}\n",
    "        c_err_dict = {}\n",
    "        for fi in range(len(filters)-1):\n",
    "            mag1 = np.array(mag_dict[st][si][filters[fi]])\n",
    "            mag2 = np.array(mag_dict[st][si][filters[fi+1]])\n",
    "            #print(mag1)\n",
    "            #print(mag2)\n",
    "            if calc_mag_err:\n",
    "                err_mag1 = np.array(mag_err_dict[st][si][filters[fi]])\n",
    "                err_mag2 = np.array(mag_err_dict[st][si][filters[fi+1]])\n",
    "            \n",
    "            colour_ = mag1-mag2\n",
    "            colour_name = '{0}-{1}'.format(filters[fi].lower(),filters[fi+1].lower())\n",
    "            c_dict[colour_name] = colour_\n",
    "            if calc_mag_err:\n",
    "                err_colour_ = np.sqrt(err_mag1**2.+err_mag2**2.)\n",
    "                c_err_dict[colour_name] = err_colour_\n",
    "            \n",
    "        colour_dict_st[si] = c_dict\n",
    "        colour_err_dict_st[si] = c_err_dict\n",
    "    colour_dict[st] = colour_dict_st\n",
    "    colour_err_dict[st] = colour_err_dict_st"
   ]
  },
  {
   "cell_type": "code",
   "execution_count": null,
   "id": "03b62256",
   "metadata": {},
   "outputs": [],
   "source": [
    "print(len(mag_dict.keys()))\n",
    "print(len(colour_dict.keys()))\n",
    "print(len(colour_dict[test_type].keys()))\n",
    "print(len(colour_dict[test_type][test_spec].keys()))\n",
    "print(len(colour_dict[test_type][test_spec]['u-g']))\n",
    "print(colour_dict[test_type][test_spec]['u-g'][0])\n",
    "print(colour_err_dict[test_type][test_spec]['u-g'][0])"
   ]
  },
  {
   "cell_type": "code",
   "execution_count": null,
   "id": "b19eee0b",
   "metadata": {},
   "outputs": [],
   "source": [
    "colour_dict_ref = {}\n",
    "colour_err_dict_ref = {}\n",
    "for st in spectral_types:\n",
    "    print(st)\n",
    "    \n",
    "    colour_dict_ref_st = {}\n",
    "    colour_err_dict_ref_st = {}\n",
    "    for si in mag_dict_ref[st]:\n",
    "        c_dict = {}\n",
    "        c_err_dict = {}\n",
    "        for fi in range(len(filters)-1):\n",
    "            mag1 = np.array(mag_dict_ref[st][si][filters[fi]])\n",
    "            mag2 = np.array(mag_dict_ref[st][si][filters[fi+1]])\n",
    "            #print(mag1)\n",
    "            #print(mag2)\n",
    "            if calc_mag_err:\n",
    "                err_mag1 = np.array(mag_err_dict_ref[st][si][filters[fi]])\n",
    "                err_mag2 = np.array(mag_err_dict_ref[st][si][filters[fi+1]])\n",
    "            \n",
    "            colour_ = mag1-mag2\n",
    "            colour_name = '{0}-{1}'.format(filters[fi].lower(),filters[fi+1].lower())\n",
    "            c_dict[colour_name] = colour_\n",
    "            if calc_mag_err:\n",
    "                err_colour_ = np.sqrt(err_mag1**2.+err_mag2**2.)\n",
    "                c_err_dict[colour_name] = err_colour_\n",
    "            \n",
    "        colour_dict_ref_st[si] = c_dict\n",
    "        colour_err_dict_ref_st[si] = c_err_dict\n",
    "    colour_dict_ref[st] = colour_dict_ref_st\n",
    "    colour_err_dict_ref[st] = colour_err_dict_ref_st\n",
    "    "
   ]
  },
  {
   "cell_type": "code",
   "execution_count": null,
   "id": "7ae04ed8",
   "metadata": {},
   "outputs": [],
   "source": [
    "print(len(mag_dict_ref.keys()))\n",
    "print(len(colour_dict_ref.keys()))\n",
    "print(len(colour_dict_ref[test_type].keys()))\n",
    "print(len(colour_dict_ref[test_type][test_spec].keys()))\n",
    "print(colour_dict_ref[test_type][test_spec]['u-g'])\n",
    "print(colour_err_dict_ref[test_type][test_spec]['u-g'])"
   ]
  },
  {
   "cell_type": "code",
   "execution_count": null,
   "id": "59721e62",
   "metadata": {},
   "outputs": [],
   "source": []
  },
  {
   "cell_type": "code",
   "execution_count": null,
   "id": "7b956ccc",
   "metadata": {},
   "outputs": [],
   "source": [
    "np.save('output_files/colour_dict_varying_{0}_airmass_{1}_cloud_{2}.npy'.format(variable_param,am0,cloud0),colour_dict)\n",
    "np.save('output_files/colour_dict_varying_{0}_airmass_{1}_cloud_{2}_ref.npy'.format(variable_param,am0,cloud0),colour_dict_ref)\n",
    "if calc_mag_err:\n",
    "    np.save('output_files/colour_err_dict_varying_{0}_airmass_{1}_cloud_{2}.npy'.format(variable_param,am0,cloud0),colour_err_dict)\n",
    "    np.save('output_files/colour_err_dict_varying_{0}_airmass_{1}_cloud_{2}_ref.npy'.format(variable_param,am0,cloud0),colour_err_dict_ref)"
   ]
  },
  {
   "cell_type": "code",
   "execution_count": null,
   "id": "0bb987ba",
   "metadata": {},
   "outputs": [],
   "source": []
  },
  {
   "cell_type": "markdown",
   "id": "71ec12fd",
   "metadata": {},
   "source": [
    "Let's do the same for the flat spectrum "
   ]
  },
  {
   "cell_type": "code",
   "execution_count": null,
   "id": "d5c6b523",
   "metadata": {},
   "outputs": [],
   "source": [
    "# Magnitudes of flat spectrum passing through atm x throughput \n",
    "flat_mag_dict = {}\n",
    "flat_mag_dict_ref = {}\n",
    "for fi,filter in enumerate(filters):\n",
    "    flat_mag_dict[filter] = []\n",
    "    for i in range(n_sim):\n",
    "        mag_ab_ = myAB(flatsp,total_passband[filter][i],lsst_bp[fi])\n",
    "        flat_mag_dict[filter].append(mag_ab_)\n",
    "    mag_ab_ = myAB(flatsp,total_passband_ref[filter],lsst_bp[fi])\n",
    "    flat_mag_dict_ref[filter] = mag_ab_"
   ]
  },
  {
   "cell_type": "code",
   "execution_count": null,
   "id": "94893652",
   "metadata": {},
   "outputs": [],
   "source": []
  },
  {
   "cell_type": "markdown",
   "id": "ea556f0a",
   "metadata": {},
   "source": [
    "And we compute the colours as well "
   ]
  },
  {
   "cell_type": "code",
   "execution_count": null,
   "id": "c8ed783f",
   "metadata": {},
   "outputs": [],
   "source": [
    "flat_colour_dict = {}\n",
    "\n",
    "for fi in range(len(filters)-1):\n",
    "    mag1 = np.array(flat_mag_dict[filters[fi]])\n",
    "    mag2 = np.array(flat_mag_dict[filters[fi+1]])\n",
    "    #print(mag1)\n",
    "    #print(mag2)\n",
    "    \n",
    "    colour_ = mag1-mag2\n",
    "    colour_name = '{0}-{1}'.format(filters[fi].lower(),filters[fi+1].lower())\n",
    "    flat_colour_dict[colour_name] = colour_"
   ]
  },
  {
   "cell_type": "code",
   "execution_count": null,
   "id": "a49478a3",
   "metadata": {},
   "outputs": [],
   "source": [
    "flat_colour_dict_ref = {}\n",
    "\n",
    "for fi in range(len(filters)-1):\n",
    "    mag1 = np.array(flat_mag_dict_ref[filters[fi]])\n",
    "    mag2 = np.array(flat_mag_dict_ref[filters[fi+1]])\n",
    "    #print(mag1)\n",
    "    #print(mag2)\n",
    "    \n",
    "    colour_ = mag1-mag2\n",
    "    colour_name = '{0}-{1}'.format(filters[fi].lower(),filters[fi+1].lower())\n",
    "    flat_colour_dict_ref[colour_name] = colour_\n",
    "    "
   ]
  },
  {
   "cell_type": "code",
   "execution_count": null,
   "id": "3a257082",
   "metadata": {},
   "outputs": [],
   "source": []
  },
  {
   "cell_type": "code",
   "execution_count": null,
   "id": "f90033bb",
   "metadata": {},
   "outputs": [],
   "source": []
  },
  {
   "cell_type": "code",
   "execution_count": null,
   "id": "032ddd4e",
   "metadata": {},
   "outputs": [],
   "source": []
  },
  {
   "cell_type": "markdown",
   "id": "1fff0d50",
   "metadata": {},
   "source": [
    "# Evaluate the dependency of the colours with the variable atmospheric parameter (for the example spectral type) "
   ]
  },
  {
   "cell_type": "markdown",
   "id": "8875e586",
   "metadata": {},
   "source": [
    "First, we look at the dependency of some magnitudes with the atm. parameters "
   ]
  },
  {
   "cell_type": "code",
   "execution_count": null,
   "id": "ad9ff8ea",
   "metadata": {},
   "outputs": [],
   "source": [
    "band = 'u'\n",
    "plt.figure(figsize=(14,10))\n",
    "plt.plot(atm_vals,mag_dict[test_type][test_spec][band],ls='',marker='o',color='b',label=band)\n",
    "plt.grid()\n",
    "plt.xlabel(variable_param,fontsize=18)\n",
    "plt.ylabel('Magnitude ({0})'.format(band),fontsize=18)\n",
    "#plt.legend(loc=\"best\")"
   ]
  },
  {
   "cell_type": "code",
   "execution_count": null,
   "id": "8fba0e37",
   "metadata": {},
   "outputs": [],
   "source": []
  },
  {
   "cell_type": "code",
   "execution_count": null,
   "id": "895d4af2",
   "metadata": {},
   "outputs": [],
   "source": []
  },
  {
   "cell_type": "code",
   "execution_count": null,
   "id": "4c3c7c4a",
   "metadata": {},
   "outputs": [],
   "source": [
    "fig_rows = 3\n",
    "fig_cols = 2\n",
    "fig, axs = plt.subplots(fig_rows, fig_cols, figsize=(16,18))\n",
    "i = 0\n",
    "for row in range(fig_rows):\n",
    "    for col in range(fig_cols):\n",
    "        if i<len(filters):\n",
    "            band = filters[i]\n",
    "            for si in mag_dict[test_type]:\n",
    "                axs[row,col].plot(atm_vals,mag_dict[test_type][si][band],ls='',marker='o',color=filter_colors[i])\n",
    "            axs[row,col].grid()\n",
    "            axs[row,col].set_xlabel(variable_param)\n",
    "            axs[row,col].set_ylabel('Magnitude ({0})'.format(band))\n",
    "            axs[row,col].set_title('Spectral type = {0}. Airmass = {1}, clouds = {2}'.format(test_type,am0,cloud0))\n",
    "            i += 1\n",
    "            "
   ]
  },
  {
   "cell_type": "code",
   "execution_count": null,
   "id": "3de69069",
   "metadata": {},
   "outputs": [],
   "source": []
  },
  {
   "cell_type": "code",
   "execution_count": null,
   "id": "c2f0c8fc",
   "metadata": {},
   "outputs": [],
   "source": []
  },
  {
   "cell_type": "code",
   "execution_count": null,
   "id": "b4544c40",
   "metadata": {},
   "outputs": [],
   "source": []
  },
  {
   "cell_type": "markdown",
   "id": "1cba29f7",
   "metadata": {},
   "source": [
    "Now we do the same for the colours: "
   ]
  },
  {
   "cell_type": "code",
   "execution_count": null,
   "id": "b82d3b8f",
   "metadata": {},
   "outputs": [],
   "source": [
    "plt.figure(figsize=(14,10))\n",
    "col = 'u-g'\n",
    "color_ = colour_dict[test_type][test_spec][col]\n",
    "plt.plot(atm_vals,color_,ls='',marker='o',color='orange')\n",
    "plt.grid()\n",
    "plt.xlabel(variable_param,fontsize=18)\n",
    "plt.ylabel('{0}'.format(col),fontsize=18)"
   ]
  },
  {
   "cell_type": "code",
   "execution_count": null,
   "id": "81134a72",
   "metadata": {},
   "outputs": [],
   "source": [
    "fig_rows = 3\n",
    "fig_cols = 2\n",
    "fig, axs = plt.subplots(fig_rows, fig_cols, figsize=(16,18))\n",
    "i = 0\n",
    "for row in range(fig_rows):\n",
    "    for col in range(fig_cols):\n",
    "        if i<len(filters)-1:\n",
    "            c = '{0}-{1}'.format(filters[i],filters[i+1])\n",
    "            for si in colour_dict[test_type]:\n",
    "                axs[row,col].plot(atm_vals,colour_dict[test_type][si][c.lower()],ls='',marker='o',color=filter_colors[i])\n",
    "            axs[row,col].grid()\n",
    "            axs[row,col].set_xlabel(variable_param)\n",
    "            axs[row,col].set_ylabel(c)\n",
    "            #axs[row,col].legend()\n",
    "            i += 1"
   ]
  },
  {
   "cell_type": "code",
   "execution_count": null,
   "id": "0ee3a0b0",
   "metadata": {},
   "outputs": [],
   "source": []
  },
  {
   "cell_type": "markdown",
   "id": "6cb745ee",
   "metadata": {},
   "source": [
    "Doing the same but with respect to the reference atmosphere, that is, $\\Delta c = c - c_{ref}$: "
   ]
  },
  {
   "cell_type": "code",
   "execution_count": null,
   "id": "3d17057f",
   "metadata": {},
   "outputs": [],
   "source": [
    "fig_rows = 3\n",
    "fig_cols = 2\n",
    "fig, axs = plt.subplots(fig_rows, fig_cols, figsize=(16,18))\n",
    "i = 0\n",
    "for row in range(fig_rows):\n",
    "    for col in range(fig_cols):\n",
    "        if i<len(filters)-1:\n",
    "            c = '{0}-{1}'.format(filters[i],filters[i+1])\n",
    "            for si in range(len(colour_dict[test_type])):\n",
    "                #if si not in [15,16,17,18]:\n",
    "                axs[row,col].plot(atm_vals,(colour_dict[test_type][si][c.lower()]-colour_dict_ref[test_type][si][c.lower()])*1000.,ls='',marker='o',color=filter_colors[i])\n",
    "            \n",
    "            axs[row,col].grid()\n",
    "            axs[row,col].set_ylim(-100,60)\n",
    "            axs[row,col].set_xlabel(variable_param)\n",
    "            axs[row,col].set_ylabel(r'$\\Delta$'+'('+c+') [mmag]')\n",
    "            #axs[row,col].legend()\n",
    "            i += 1"
   ]
  },
  {
   "cell_type": "code",
   "execution_count": null,
   "id": "f890c285",
   "metadata": {},
   "outputs": [],
   "source": []
  },
  {
   "cell_type": "code",
   "execution_count": null,
   "id": "c6d1b92d",
   "metadata": {},
   "outputs": [],
   "source": []
  },
  {
   "cell_type": "code",
   "execution_count": null,
   "id": "3eb06ec0",
   "metadata": {},
   "outputs": [],
   "source": []
  },
  {
   "cell_type": "markdown",
   "id": "cec06c2b",
   "metadata": {},
   "source": [
    "# Evaluate the colour - colour plot as a function of the atmospheric parameter values \n",
    "\n",
    "Let's check first with the example spectrum: "
   ]
  },
  {
   "cell_type": "code",
   "execution_count": null,
   "id": "8144498c",
   "metadata": {},
   "outputs": [],
   "source": [
    "colorx = 'i-z'\n",
    "colory = 'z-Y'\n",
    "plt.figure(figsize=(14,10))\n",
    "delta1 = (colour_dict[test_type][test_spec][colorx.lower()]-colour_dict_ref[test_type][test_spec][colorx.lower()])*1000.\n",
    "delta2 = (colour_dict[test_type][test_spec][colory.lower()]-colour_dict_ref[test_type][test_spec][colory.lower()])*1000.\n",
    "plt.scatter(delta1,delta2,c=atm_vals)\n",
    "plt.axhline(y=0.,ls='--',color='r')\n",
    "plt.axvline(x=0.,ls='--',color='r')\n",
    "plt.grid()\n",
    "plt.xlim(-110,80)\n",
    "plt.ylim(-110,80)\n",
    "#plt.xticks(fontsize=20,rotation=45,ha='right')\n",
    "plt.xticks(fontsize=20)\n",
    "plt.yticks(fontsize=20)\n",
    "plt.xlabel(r'$\\Delta$'+'('+colorx+') [mmag]',fontsize=18)\n",
    "plt.ylabel(r'$\\Delta$'+'('+colory+') [mmag]',fontsize=18)\n",
    "cbar = plt.colorbar()\n",
    "cbar.ax.tick_params(labelsize=16)\n",
    "plt.title('Varying {0}. Airmass = {1}, cloud = {2}'.format(variable_param,am0,cloud0),fontsize=18)\n",
    "plt.savefig(os.path.join(outdir_plots,'example_spectrum_colour_colour_plot_varying_{0}_airmass_{1}_cloud_{2}.png'.format(variable_param,am0,cloud0)))"
   ]
  },
  {
   "cell_type": "markdown",
   "id": "47ede45b",
   "metadata": {},
   "source": [
    "Select Delta_color ranges "
   ]
  },
  {
   "cell_type": "code",
   "execution_count": null,
   "id": "7058be15",
   "metadata": {},
   "outputs": [],
   "source": [
    "rangex = (-110,80)\n",
    "rangey = (-110,80)"
   ]
  },
  {
   "cell_type": "markdown",
   "id": "1e727ec9",
   "metadata": {},
   "source": [
    "Now we evaluate the colour - colour plot for all spectra of the example spectral type: "
   ]
  },
  {
   "cell_type": "code",
   "execution_count": null,
   "id": "41b20a5a",
   "metadata": {},
   "outputs": [],
   "source": [
    "save_plot = True"
   ]
  },
  {
   "cell_type": "code",
   "execution_count": null,
   "id": "c839ec54",
   "metadata": {},
   "outputs": [],
   "source": [
    "colorx = 'i-z'\n",
    "colory = 'z-Y'\n",
    "plt.figure(figsize=(14,10))\n",
    "for si in colour_dict[test_type]:\n",
    "    delta1 = (colour_dict[test_type][si][colorx.lower()]-colour_dict_ref[test_type][si][colorx.lower()])*1000.\n",
    "    delta2 = (colour_dict[test_type][si][colory.lower()]-colour_dict_ref[test_type][si][colory.lower()])*1000.\n",
    "    plt.plot(delta1,delta2,ls='-',marker='',color='k',alpha=0.1)\n",
    "    plt.scatter(delta1,delta2,c=atm_vals)\n",
    "plt.axhline(y=0.,ls='--',color='r')\n",
    "plt.axvline(x=0.,ls='--',color='r')\n",
    "plt.grid()\n",
    "plt.xlim(rangex)\n",
    "plt.ylim(rangey)\n",
    "#plt.xticks(fontsize=20,rotation=45,ha='right')\n",
    "plt.xticks(fontsize=20)\n",
    "plt.yticks(fontsize=20)\n",
    "plt.xlabel(r'$\\Delta$'+'('+colorx+') [mmag]',fontsize=18)\n",
    "plt.ylabel(r'$\\Delta$'+'('+colory+') [mmag]',fontsize=18)\n",
    "cbar = plt.colorbar()\n",
    "cbar.ax.tick_params(labelsize=16)\n",
    "#plt.title('Spectral type: {0}. Number of spectra = {1}'.format(test_type,len(colour_dict[test_type].keys())),fontsize=16)\n",
    "if save_plot:\n",
    "    if variable_param=='airmass' or variable_param=='cloud':\n",
    "        plt.title('Varying {0}'.format(variable_param.upper()),fontsize=18)\n",
    "    else:\n",
    "        plt.title('Varying {0}, airmass = {1}, cloud = {2}'.format(variable_param.upper(),am0,cloud0),fontsize=18)\n",
    "    if variable_param=='airmass' or variable_param=='cloud':\n",
    "        plt.savefig(os.path.join(outdir_plots,'spectral_type_{0}_colour_colour_plot_varying{1}.png'.format(test_type,variable_param)))\n",
    "    else:\n",
    "        plt.savefig(os.path.join(outdir_plots,'spectral_type_{0}_colour_colour_plot_varying_{1}_airmass_{2}_cloud_{3}.png'.format(test_type,variable_param,am0,cloud0)))\n"
   ]
  },
  {
   "cell_type": "code",
   "execution_count": null,
   "id": "3c938d66",
   "metadata": {},
   "outputs": [],
   "source": []
  },
  {
   "cell_type": "markdown",
   "id": "b8598334",
   "metadata": {},
   "source": [
    "Let's evaluate the same colour - colour plot for the different spectral types: "
   ]
  },
  {
   "cell_type": "code",
   "execution_count": null,
   "id": "26345898",
   "metadata": {
    "scrolled": false
   },
   "outputs": [],
   "source": [
    "colorx = 'i-z'\n",
    "colory = 'z-Y'\n",
    "\n",
    "fig_rows = 4\n",
    "fig_cols = 2\n",
    "fig, axs = plt.subplots(fig_rows, fig_cols, figsize=(20,28))\n",
    "i = 0\n",
    "for row in range(fig_rows):\n",
    "    for col in range(fig_cols):\n",
    "        if i<len(spectral_types):\n",
    "            spec_type = spectral_types[i]\n",
    "            print(spec_type)\n",
    "            \n",
    "            for si in colour_dict[spec_type]:\n",
    "                delta1 = (colour_dict[spec_type][si][colorx.lower()]-colour_dict_ref[spec_type][si][colorx.lower()])*1000.\n",
    "                delta2 = (colour_dict[spec_type][si][colory.lower()]-colour_dict_ref[spec_type][si][colory.lower()])*1000.\n",
    "                if si==0:\n",
    "                    im = axs[row,col].scatter(delta1,delta2,c=atm_vals)\n",
    "                else:\n",
    "                    axs[row,col].scatter(delta1,delta2,c=atm_vals)\n",
    "                axs[row,col].plot(delta1,delta2,ls='-',marker='',color='k',alpha=0.1)\n",
    "            axs[row,col].axhline(y=0.,ls='--',color='r')\n",
    "            axs[row,col].axvline(x=0.,ls='--',color='r')\n",
    "            axs[row,col].grid()\n",
    "            #axs[row,col].set_xticks(fontsize=20)\n",
    "            #axs[row,col].set_yticks(fontsize=20)\n",
    "            axs[row,col].set_xlim(rangex)\n",
    "            axs[row,col].set_ylim(rangey)\n",
    "            axs[row,col].plot([],[],ls='',label='Spec. type = {0}'.format(spec_type))\n",
    "            axs[row,col].plot([],[],ls='',label='# of spectra = {0}'.format(len(colour_dict[spec_type].keys())))\n",
    "            axs[row,col].set_xlabel(r'$\\Delta$'+'('+colorx+') [mmag]',fontsize=18)\n",
    "            axs[row,col].set_ylabel(r'$\\Delta$'+'('+colory+') [mmag]',fontsize=18)\n",
    "            axs[row,col].set_title('Airmass = {0}, clouds = {1}'.format(am0,cloud0),fontsize=14)\n",
    "            plt.colorbar(im, ax=axs[row,col])\n",
    "            axs[row,col].legend(fontsize=14)\n",
    "            i += 1\n"
   ]
  },
  {
   "cell_type": "code",
   "execution_count": null,
   "id": "be4a78fe",
   "metadata": {},
   "outputs": [],
   "source": []
  },
  {
   "cell_type": "markdown",
   "id": "651ba47c",
   "metadata": {},
   "source": [
    "Now we evaluate the different colour - colour plots for the example spectral type: "
   ]
  },
  {
   "cell_type": "code",
   "execution_count": null,
   "id": "c29b162e",
   "metadata": {},
   "outputs": [],
   "source": [
    "fig_rows = 2\n",
    "fig_cols = 2\n",
    "fig, axs = plt.subplots(fig_rows, fig_cols, figsize=(20,16))\n",
    "i = 0\n",
    "for row in range(fig_rows):\n",
    "    for col in range(fig_cols):\n",
    "        if i<len(filters)-2:\n",
    "            cx = '{0}-{1}'.format(filters[i],filters[i+1])\n",
    "            cy = '{0}-{1}'.format(filters[i+1],filters[i+2])\n",
    "            \n",
    "            for si in colour_dict[test_type]:\n",
    "                delta1 = (colour_dict[test_type][si][cx.lower()]-colour_dict_ref[test_type][si][cx.lower()])*1000.\n",
    "                delta2 = (colour_dict[test_type][si][cy.lower()]-colour_dict_ref[test_type][si][cy.lower()])*1000.\n",
    "                if si==0:\n",
    "                    im = axs[row,col].scatter(delta1,delta2,c=atm_vals)\n",
    "                else:\n",
    "                    axs[row,col].scatter(delta1,delta2,c=atm_vals)\n",
    "                axs[row,col].plot(delta1,delta2,ls='-',marker='',color='k',alpha=0.1)\n",
    "            axs[row,col].axhline(y=0.,ls='--',color='r')\n",
    "            axs[row,col].axvline(x=0.,ls='--',color='r')\n",
    "            axs[row,col].grid()\n",
    "            #axs[row,col].set_xticks(fontsize=20)\n",
    "            #axs[row,col].set_yticks(fontsize=20)\n",
    "            axs[row,col].set_xlim(rangex)\n",
    "            axs[row,col].set_ylim(rangey)\n",
    "            \n",
    "            #axs[row,col].set_xlim(-0.012,0.021)\n",
    "            #axs[row,col].set_ylim(-0.065,0.126)\n",
    "            axs[row,col].plot([],[],ls='',label='Spec. type = {0}'.format(test_type))\n",
    "            axs[row,col].plot([],[],ls='',label='# of spectra = {0}'.format(len(colour_dict[test_type].keys())))\n",
    "            axs[row,col].set_xlabel(r'$\\Delta$'+'('+cx+') [mmag]',fontsize=18)\n",
    "            axs[row,col].set_ylabel(r'$\\Delta$'+'('+cy+') [mmag]',fontsize=18)\n",
    "            axs[row,col].set_title('Airmass = {0}, clouds = {1}'.format(am0,cloud0),fontsize=14)\n",
    "            plt.colorbar(im, ax=axs[row,col])\n",
    "            axs[row,col].legend(fontsize=14)\n",
    "            i += 1"
   ]
  },
  {
   "cell_type": "code",
   "execution_count": null,
   "id": "9648e3f9",
   "metadata": {},
   "outputs": [],
   "source": []
  },
  {
   "cell_type": "code",
   "execution_count": null,
   "id": "20e51ab2",
   "metadata": {},
   "outputs": [],
   "source": []
  },
  {
   "cell_type": "markdown",
   "id": "2a7a9537",
   "metadata": {},
   "source": [
    "We also evaluate the dependency of the colours with the atmospheric parameters for each spectral type: "
   ]
  },
  {
   "cell_type": "code",
   "execution_count": null,
   "id": "d90e9442",
   "metadata": {},
   "outputs": [],
   "source": [
    "type_markers = {'O':'s','B':'x','A':'o','F':'v','G':'^','K':'P','M':'*'}"
   ]
  },
  {
   "cell_type": "code",
   "execution_count": null,
   "id": "c6eb5604",
   "metadata": {
    "scrolled": false
   },
   "outputs": [],
   "source": [
    "fig_rows = len(filters)-1\n",
    "fig_cols = 1\n",
    "fig, axs = plt.subplots(fig_rows, fig_cols, figsize=(14,38))\n",
    "for row in range(fig_rows):\n",
    "    c = '{0}-{1}'.format(filters[row],filters[row+1])\n",
    "    for spec_type in spectral_types:\n",
    "        for si in mag_dict[spec_type]:\n",
    "            delta_c_ = (colour_dict[spec_type][si][c.lower()]-colour_dict_ref[spec_type][si][c.lower()])*1000.\n",
    "            axs[row].plot(atm_vals,delta_c_,ls='',marker=type_markers[spec_type],color=type_colors[spec_type])\n",
    "        axs[row].plot([],[],ls='',marker=type_markers[spec_type],color=type_colors[spec_type],label = spec_type)\n",
    "    axs[row].set_ylim(rangey)\n",
    "    axs[row].grid()\n",
    "    axs[row].set_xlabel(variable_param,fontsize=18)\n",
    "    axs[row].set_ylabel(r'$\\Delta$'+'('+c+') [mmag]',fontsize=18)\n",
    "    axs[row].set_title('Airmass = {0}, clouds = {1}'.format(am0,cloud0),fontsize=14)\n",
    "    axs[row].legend()\n",
    "plt.savefig(os.path.join(outdir_plots,'delta_colours_vs_{0}_airmass_{1}_clouds_{2}.png'.format(variable_param,am0,cloud0)))\n",
    "    "
   ]
  },
  {
   "cell_type": "code",
   "execution_count": null,
   "id": "c4aa7935",
   "metadata": {},
   "outputs": [],
   "source": []
  },
  {
   "cell_type": "code",
   "execution_count": null,
   "id": "a96e95b3",
   "metadata": {},
   "outputs": [],
   "source": []
  },
  {
   "cell_type": "markdown",
   "id": "b95ba573",
   "metadata": {},
   "source": [
    "Let's have a look now at the colour-colour plots for all spectral types together "
   ]
  },
  {
   "cell_type": "code",
   "execution_count": null,
   "id": "f35aa56e",
   "metadata": {},
   "outputs": [],
   "source": [
    "fig_rows = 2\n",
    "fig_cols = 2\n",
    "fig, axs = plt.subplots(fig_rows, fig_cols, figsize=(22,18))\n",
    "i = 0\n",
    "for row in range(fig_rows):\n",
    "    for col in range(fig_cols):\n",
    "        if i<len(filters)-2:\n",
    "            cx = '{0}-{1}'.format(filters[i],filters[i+1])\n",
    "            cy = '{0}-{1}'.format(filters[i+1],filters[i+2])\n",
    "            \n",
    "            for spec_type in spectral_types:\n",
    "                for si in colour_dict[spec_type]:\n",
    "                    delta1 = (colour_dict[spec_type][si][cx.lower()]-colour_dict_ref[spec_type][si][cx.lower()])*1000.\n",
    "                    delta2 = (colour_dict[spec_type][si][cy.lower()]-colour_dict_ref[spec_type][si][cy.lower()])*1000.\n",
    "                    if sed_==0:\n",
    "                        im = axs[row,col].scatter(delta1,delta2,c=atm_vals,marker=type_markers[spec_type])\n",
    "                    else:\n",
    "                        axs[row,col].scatter(delta1,delta2,c=atm_vals,marker=type_markers[spec_type])\n",
    "                    #axs[row,col].plot(delta1,delta2,ls='-',marker='',color='k',alpha=0.1)\n",
    "                axs[row,col].plot([],[],c='k',ls='',marker=type_markers[spec_type],label=spec_type)\n",
    "            axs[row,col].axhline(y=0.,ls='--',color='r')\n",
    "            axs[row,col].axvline(x=0.,ls='--',color='r')\n",
    "            axs[row,col].grid()\n",
    "            #axs[row,col].set_xticks(fontsize=20)\n",
    "            #axs[row,col].set_yticks(fontsize=20)\n",
    "            #axs[row,col].set_xlim(-21.,33.)\n",
    "            axs[row,col].set_xlim(rangex)\n",
    "            axs[row,col].set_ylim(rangey)\n",
    "            \n",
    "            axs[row,col].set_xlabel(r'$\\Delta$'+'('+cx+') [mmag]',fontsize=18)\n",
    "            axs[row,col].set_ylabel(r'$\\Delta$'+'('+cy+') [mmag]',fontsize=18)\n",
    "            axs[row,col].set_title('Varying {0}. Airmass = {1}, clouds = {2}'.format(variable_param,am0,cloud0),fontsize=14)\n",
    "            plt.colorbar(im, ax=axs[row,col])\n",
    "            axs[row,col].legend(fontsize=14)\n",
    "            i += 1\n",
    "plt.savefig(os.path.join(outdir_plots,'colour_colour_plots_varying_{0}_airmass_{1}_clouds_{2}.png'.format(variable_param,am0,cloud0)))"
   ]
  },
  {
   "cell_type": "markdown",
   "id": "679a743a",
   "metadata": {},
   "source": [
    "An alternative way of plotting this: "
   ]
  },
  {
   "cell_type": "code",
   "execution_count": null,
   "id": "f3a94e1b",
   "metadata": {
    "scrolled": false
   },
   "outputs": [],
   "source": [
    "fig_rows = 2\n",
    "fig_cols = 2\n",
    "fig, axs = plt.subplots(fig_rows, fig_cols, figsize=(22,18))\n",
    "i = 0\n",
    "for row in range(fig_rows):\n",
    "    for col in range(fig_cols):\n",
    "        if i<len(filters)-2:\n",
    "            cx = '{0}-{1}'.format(filters[i],filters[i+1])\n",
    "            cy = '{0}-{1}'.format(filters[i+1],filters[i+2])\n",
    "            \n",
    "            iso_vals1 = []\n",
    "            iso_vals2 = []\n",
    "            for spec_type in spectral_types[::-1]:\n",
    "                for si in colour_dict[spec_type]:\n",
    "                    delta1 = (colour_dict[spec_type][si][cx.lower()]-colour_dict_ref[spec_type][si][cx.lower()])*1000.\n",
    "                    delta2 = (colour_dict[spec_type][si][cy.lower()]-colour_dict_ref[spec_type][si][cy.lower()])*1000.\n",
    "                    msize = [10.]\n",
    "                    msize = msize+[40.]*(len(delta1)-2)\n",
    "                    msize.append(110.)\n",
    "                    \n",
    "                    iso_vals1.append(delta1)\n",
    "                    iso_vals2.append(delta2)\n",
    "                    \n",
    "                    axs[row,col].scatter(delta1,delta2,c=type_colors[spec_type],marker='o',s=msize,alpha=1.0,zorder=1)\n",
    "                    axs[row,col].plot(delta1,delta2,ls='-',marker='',color='grey',alpha=0.2,zorder=-1)\n",
    "            for spec_type in spectral_types:\n",
    "                axs[row,col].plot([],[],c=type_colors[spec_type],ls='',marker='o',label=spec_type)\n",
    "                \n",
    "            iso_vals1 = np.array(iso_vals1)\n",
    "            iso_vals2 = np.array(iso_vals2)\n",
    "            for val in range(iso_vals1.shape[1]):\n",
    "                #print(iso_vals1[:,val])\n",
    "                sort_index = np.argsort(iso_vals1[:,val])\n",
    "                axs[row,col].plot(iso_vals1[:,val][sort_index],iso_vals2[:,val][sort_index],ls='-',marker='',color='k',zorder=-1)\n",
    "            \n",
    "            axs[row,col].axhline(y=0.,ls='--',color='r')\n",
    "            axs[row,col].axvline(x=0.,ls='--',color='r')\n",
    "            axs[row,col].grid()\n",
    "            #axs[row,col].set_xticks(fontsize=20)\n",
    "            #axs[row,col].set_yticks(fontsize=20)\n",
    "            #axs[row,col].set_xlim(-21.,33.)\n",
    "            axs[row,col].set_xlim(rangex)\n",
    "            axs[row,col].set_ylim(rangey)\n",
    "            \n",
    "            axs[row,col].set_xlabel(r'$\\Delta$'+'('+cx+') [mmag]',fontsize=18)\n",
    "            axs[row,col].set_ylabel(r'$\\Delta$'+'('+cy+') [mmag]',fontsize=18)\n",
    "            axs[row,col].set_title('Varying {0}. Airmass = {1}, clouds = {2}'.format(variable_param,am0,cloud0),fontsize=14)\n",
    "            axs[row,col].legend(fontsize=16)\n",
    "            i += 1\n",
    "            \n",
    "plt.savefig(os.path.join(outdir_plots,'colour_colour_plots_varying_{0}_airmass_{1}_clouds_{2}_v2.png'.format(variable_param,am0,cloud0)))"
   ]
  },
  {
   "cell_type": "markdown",
   "id": "712e8003",
   "metadata": {},
   "source": [
    "Plot and save them individually: "
   ]
  },
  {
   "cell_type": "code",
   "execution_count": null,
   "id": "f1d057e6",
   "metadata": {
    "scrolled": false
   },
   "outputs": [],
   "source": [
    "fig_rows = len(filters)-2\n",
    "i = 0\n",
    "for row in range(fig_rows):\n",
    "    fig, axs = plt.subplots(1, 1, figsize=(23,8))\n",
    "    if i<len(filters)-2:\n",
    "        cx = '{0}-{1}'.format(filters[i],filters[i+1])\n",
    "        cy = '{0}-{1}'.format(filters[i+1],filters[i+2])\n",
    "        \n",
    "        iso_vals1 = []\n",
    "        iso_vals2 = []\n",
    "        for spec_type in spectral_types[::-1]:\n",
    "            for si in colour_dict[spec_type]:\n",
    "                delta1 = (colour_dict[spec_type][si][cx.lower()]-colour_dict_ref[spec_type][si][cx.lower()])*1000.\n",
    "                delta2 = (colour_dict[spec_type][si][cy.lower()]-colour_dict_ref[spec_type][si][cy.lower()])*1000.\n",
    "                msize = [10.]\n",
    "                msize = msize+[40.]*(len(delta1)-2)\n",
    "                msize.append(110.)\n",
    "                \n",
    "                iso_vals1.append(delta1)\n",
    "                iso_vals2.append(delta2)\n",
    "                    \n",
    "                axs.scatter(delta1,delta2,c=type_colors[spec_type],marker='o',s=msize,alpha=1.0,zorder=1)\n",
    "                axs.plot(delta1,delta2,ls='-',linewidth=0.6,marker='',color='grey',alpha=0.4,zorder=-1)\n",
    "        for spec_type in spectral_types:\n",
    "            axs.plot([],[],c=type_colors[spec_type],ls='',marker='o',label=spec_type)\n",
    "            \n",
    "        iso_vals1 = np.array(iso_vals1)\n",
    "        iso_vals2 = np.array(iso_vals2)\n",
    "        for val in range(iso_vals1.shape[1]):\n",
    "            #print(iso_vals1[:,val])\n",
    "            sort_index = np.argsort(iso_vals1[:,val])\n",
    "            axs.plot(iso_vals1[:,val][sort_index],iso_vals2[:,val][sort_index],ls='-',marker='',color='k',zorder=-1)\n",
    "            \n",
    "        axs.axhline(y=0.,ls='--',color='r')\n",
    "        axs.axvline(x=0.,ls='--',color='r')\n",
    "        axs.grid()\n",
    "        #axs.set_xticks(fontsize=20)\n",
    "        #axs.set_yticks(fontsize=20)\n",
    "        axs.set_xlim(rangex)\n",
    "        #axs.set_xlim(-50,30)\n",
    "        axs.set_ylim(rangey)\n",
    "        #axs.set_ylim(-140,90)\n",
    "        \n",
    "        axs.set_xlabel(r'$\\Delta$'+'('+cx+') [mmag]',fontsize=18)\n",
    "        axs.set_ylabel(r'$\\Delta$'+'('+cy+') [mmag]',fontsize=18)\n",
    "        axs.set_title('Varying {0}. Airmass = {1}, clouds = {2}'.format(variable_param,am0,cloud0),fontsize=16)\n",
    "        axs.legend(fontsize=16)\n",
    "        i += 1\n",
    "    plt.savefig(os.path.join(outdir_plots,'{3}_{4}_plot_varying_{0}_airmass_{1}_clouds_{2}.png'.format(variable_param,am0,cloud0,cx,cy)))"
   ]
  },
  {
   "cell_type": "code",
   "execution_count": null,
   "id": "2fb4ed99",
   "metadata": {},
   "outputs": [],
   "source": []
  },
  {
   "cell_type": "code",
   "execution_count": null,
   "id": "5b91cded",
   "metadata": {},
   "outputs": [],
   "source": []
  },
  {
   "cell_type": "markdown",
   "id": "497a268b",
   "metadata": {},
   "source": [
    "Now we look at the same information but restricted to the most extreme atmospheric parameter values: "
   ]
  },
  {
   "cell_type": "code",
   "execution_count": null,
   "id": "d228c94e",
   "metadata": {},
   "outputs": [],
   "source": [
    "fig=plt.figure(figsize=(16,5))\n",
    "ax = fig.add_subplot(111)\n",
    "\n",
    "for index,filter in enumerate(obstotal_dict.keys()):\n",
    "    print(filter)\n",
    "    for obs in obstotal_dict[filter]:\n",
    "        ax.plot(obs.binwave,obs.binflux*Seff*exptime,ls='-',color=filter_colors[index],alpha=0.05)\n",
    "    ax.plot(obstotal_dict[filter][min_ind_].binwave,obstotal_dict[filter][min_ind_].binflux*Seff*exptime,ls=':',color='orange')\n",
    "    ax.plot(obstotal_dict[filter][max_ind_].binwave,obstotal_dict[filter][max_ind_].binflux*Seff*exptime,ls=':',color='purple')\n",
    "plt.xlim(WLMIN,WLMAX)\n",
    "plt.xlabel('$\\\\lambda \\, [$'+str(obs.waveunits)+']',fontsize=15)\n",
    "plt.ylabel('$\\gamma \\, \\cdot angstrom^{-1}$',fontsize=15)\n",
    "plt.grid()\n",
    "plt.plot([],[],ls='-',color='g',label='Spec. through atm. x LSST')\n",
    "plt.plot([],[],ls=':',color='orange',label='Minimum passband')\n",
    "plt.plot([],[],ls=':',color='purple',label='Maximum passband')\n",
    "plt.xticks(fontsize=15)\n",
    "plt.yticks(fontsize=15)\n",
    "plt.legend(fontsize=15)\n",
    "plt.title('Varying {0}. Airmass = {1}, clouds = {2}'.format(variable_param,am0,cloud0),fontsize=14)\n",
    "plt.savefig(os.path.join(outdir_plots,'example_spectrum_min_max_total_passband_varying_{0}_airmass_{1}_cloud_{2}.png'.format(variable_param,am0,cloud0)))\n",
    "print(spec.fluxunits)"
   ]
  },
  {
   "cell_type": "code",
   "execution_count": null,
   "id": "67ad137e",
   "metadata": {},
   "outputs": [],
   "source": [
    "fig=plt.figure(figsize=(16,10))\n",
    "ax = fig.add_subplot(111)\n",
    "legend_lines1 = []\n",
    "for index,bp in enumerate(lsst_bp):\n",
    "    line_, = ax.plot(bp.wave,bp.throughput,label=filter_names[index],color=filter_colors[index])\n",
    "    legend_lines1.append(line_)\n",
    "\n",
    "ax.plot(atm_transp[min_ind_].wave,atm_transp[min_ind_].throughput,ls='--',alpha=1.0,color='b')\n",
    "ax.plot(atm_transp[max_ind_].wave,atm_transp[max_ind_].throughput,ls=':',alpha=1.0,color='r')\n",
    "\n",
    "for index,bpname in enumerate(filters):\n",
    "    ax.plot(total_passband[bpname][min_ind_].wave,total_passband[bpname][min_ind_].throughput,ls='--',color=filter_colors[index],alpha=0.7)\n",
    "    ax.plot(total_passband[bpname][max_ind_].wave,total_passband[bpname][max_ind_].throughput,ls=':',color=filter_colors[index],alpha=0.7)        \n",
    "line1, = plt.plot([],[],ls='--',color='k',label='{0} = {1}'.format(variable_param,min_val_))\n",
    "line2, = plt.plot([],[],ls=':',color='k',label='{0} = {1}'.format(variable_param,max_val_))\n",
    "legend_lines2 = [line1,line2]\n",
    "plt.xlim(3000.,10800.)\n",
    "plt.grid()\n",
    "plt.xlabel('$\\\\lambda \\, [$'+str(atm_transp_ref.waveunits)+']',fontsize=15)\n",
    "plt.ylabel('Passband',fontsize=15)\n",
    "plt.title('Varying {0}. Airmass = {1}, clouds = {2}'.format(variable_param,am0,cloud0),fontsize=14)\n",
    "legend1 = plt.legend(handles=legend_lines1,fontsize=16,loc=\"upper left\")\n",
    "plt.gca().add_artist(legend1)\n",
    "plt.legend(handles=legend_lines2,fontsize=16,loc=\"center right\")\n",
    "plt.savefig(os.path.join(outdir_plots,'total_passbands_min_max_varying_{0}_airmass_{1}_cloud_{2}.png'.format(variable_param,am0,cloud0)))"
   ]
  },
  {
   "cell_type": "code",
   "execution_count": null,
   "id": "1aa21e18",
   "metadata": {},
   "outputs": [],
   "source": [
    "fig_rows = 2\n",
    "fig_cols = 2\n",
    "fig, axs = plt.subplots(fig_rows, fig_cols, figsize=(20,16))\n",
    "i = 0\n",
    "for row in range(fig_rows):\n",
    "    for col in range(fig_cols):\n",
    "        if i<len(filters)-2:\n",
    "            cx = '{0}-{1}'.format(filters[i],filters[i+1])\n",
    "            cy = '{0}-{1}'.format(filters[i+1],filters[i+2])\n",
    "            \n",
    "            for spec_type in spectral_types:\n",
    "                for si in colour_dict[spec_type]:\n",
    "                    delta1 = (colour_dict[spec_type][si][cx.lower()]-colour_dict_ref[spec_type][si][cx.lower()])*1000.\n",
    "                    delta2 = (colour_dict[spec_type][si][cy.lower()]-colour_dict_ref[spec_type][si][cy.lower()])*1000.\n",
    "                    \n",
    "                    delta1_min = (colour_dict[spec_type][si][cx.lower()][min_ind_]-colour_dict_ref[spec_type][si][cx.lower()])*1000.\n",
    "                    delta2_min = (colour_dict[spec_type][si][cy.lower()][min_ind_]-colour_dict_ref[spec_type][si][cy.lower()])*1000.\n",
    "                    \n",
    "                    delta1_max = (colour_dict[spec_type][si][cx.lower()][max_ind_]-colour_dict_ref[spec_type][si][cx.lower()])*1000.\n",
    "                    delta2_max = (colour_dict[spec_type][si][cy.lower()][max_ind_]-colour_dict_ref[spec_type][si][cy.lower()])*1000.\n",
    "                    \n",
    "                    axs[row,col].scatter(delta1_min,delta2_min,c=type_colors[spec_type],marker='^')\n",
    "                    axs[row,col].scatter(delta1_max,delta2_max,c=type_colors[spec_type],marker='s')\n",
    "                    axs[row,col].plot(delta1,delta2,ls='-',marker='',color='k',alpha=0.1)\n",
    "                axs[row,col].plot([],[],c=type_colors[spec_type],ls='',marker='o',label=spec_type)\n",
    "            axs[row,col].plot([],[],ls='',marker='^',color='k',label='{0} = {1}'.format(variable_param,atm_vals[min_ind_]))\n",
    "            axs[row,col].plot([],[],ls='',marker='s',color='k',label='{0} = {1}'.format(variable_param,atm_vals[max_ind_]))\n",
    "            #axs[row,col].axhline(y=0.,ls='--',color='r')\n",
    "            #axs[row,col].axvline(x=0.,ls='--',color='r')\n",
    "            axs[row,col].grid()\n",
    "            #axs[row,col].set_xticks(fontsize=20)\n",
    "            #axs[row,col].set_yticks(fontsize=20)\n",
    "            #axs[row,col].set_xlim(-21.,33.)\n",
    "            axs[row,col].set_xlim(rangex)\n",
    "            axs[row,col].set_ylim(rangey)\n",
    "            \n",
    "            \n",
    "            axs[row,col].set_xlabel(r'$\\Delta$'+'('+cx+') [mmag]',fontsize=18)\n",
    "            axs[row,col].set_ylabel(r'$\\Delta$'+'('+cy+') [mmag]',fontsize=18)\n",
    "            axs[row,col].set_title('Varying {0}. Airmass = {1}, clouds = {2}'.format(variable_param,am0,cloud0),fontsize=14)\n",
    "            axs[row,col].legend(fontsize=14)\n",
    "    \n",
    "            i += 1\n",
    "\n",
    "plt.savefig(os.path.join(outdir_plots,'colour_colour_plots_min_max_varying_{0}_airmass_{1}_clouds_{2}.png'.format(variable_param,am0,cloud0)))"
   ]
  },
  {
   "cell_type": "code",
   "execution_count": null,
   "id": "d6b65d82",
   "metadata": {},
   "outputs": [],
   "source": [
    "fig_rows = 2\n",
    "fig_cols = 2\n",
    "fig, axs = plt.subplots(fig_rows, fig_cols, figsize=(20,16))\n",
    "i = 0\n",
    "for row in range(fig_rows):\n",
    "    for col in range(fig_cols):\n",
    "        if i<len(filters)-2:\n",
    "            cx = '{0}-{1}'.format(filters[i],filters[i+1])\n",
    "            cy = '{0}-{1}'.format(filters[i+1],filters[i+2])\n",
    "            \n",
    "            for spec_type in spectral_types:\n",
    "                for si in colour_dict[spec_type]:\n",
    "                    delta1_max = (colour_dict[spec_type][si][cx.lower()][max_ind_]-colour_dict_ref[spec_type][si][cx.lower()])*1000.\n",
    "                    delta2_max = (colour_dict[spec_type][si][cy.lower()][max_ind_]-colour_dict_ref[spec_type][si][cy.lower()])*1000.\n",
    "                    \n",
    "                    axs[row,col].scatter(delta1_max,delta2_max,c=type_colors[spec_type],marker=type_markers[spec_type])\n",
    "                axs[row,col].plot([],[],c=type_colors[spec_type],ls='',marker=type_markers[spec_type],label=spec_type)\n",
    "            axs[row,col].axhline(y=0.,ls='--',color='r')\n",
    "            axs[row,col].axvline(x=0.,ls='--',color='r')\n",
    "            axs[row,col].grid()\n",
    "            #axs[row,col].set_xticks(fontsize=20)\n",
    "            #axs[row,col].set_yticks(fontsize=20)\n",
    "            \n",
    "            axs[row,col].set_xlabel(r'$\\Delta$'+'('+cx+') [mmag]',fontsize=18)\n",
    "            axs[row,col].set_ylabel(r'$\\Delta$'+'('+cy+') [mmag]',fontsize=18)\n",
    "            axs[row,col].set_title('Airmass = {0}, clouds = {1}'.format(am0,cloud0),fontsize=14)\n",
    "            axs[row,col].legend(fontsize=14)\n",
    "            \n",
    "            i += 1"
   ]
  },
  {
   "cell_type": "markdown",
   "id": "f56b16e0",
   "metadata": {},
   "source": [
    "We exclude the M type spectra for more clarity: "
   ]
  },
  {
   "cell_type": "code",
   "execution_count": null,
   "id": "b5986322",
   "metadata": {},
   "outputs": [],
   "source": [
    "fig_rows = 2\n",
    "fig_cols = 2\n",
    "fig, axs = plt.subplots(fig_rows, fig_cols, figsize=(20,16))\n",
    "i = 0\n",
    "for row in range(fig_rows):\n",
    "    for col in range(fig_cols):\n",
    "        if i<len(filters)-2:\n",
    "            cx = '{0}-{1}'.format(filters[i],filters[i+1])\n",
    "            cy = '{0}-{1}'.format(filters[i+1],filters[i+2])\n",
    "            \n",
    "            for spec_type in spectral_types[:-1]:\n",
    "                for si in colour_dict[spec_type]:\n",
    "                    delta1_max = colour_dict[spec_type][si][cx.lower()][max_ind_]-colour_dict_ref[spec_type][si][cx.lower()]\n",
    "                    delta2_max = colour_dict[spec_type][si][cy.lower()][max_ind_]-colour_dict_ref[spec_type][si][cy.lower()]\n",
    "                    \n",
    "                    axs[row,col].scatter(delta1_max,delta2_max,c=type_colors[spec_type],marker=type_markers[spec_type])\n",
    "                axs[row,col].plot([],[],c=type_colors[spec_type],ls='',marker=type_markers[spec_type],label=spec_type)\n",
    "            axs[row,col].axhline(y=0.,ls='--',color='r')\n",
    "            axs[row,col].axvline(x=0.,ls='--',color='r')\n",
    "            axs[row,col].grid()\n",
    "            #axs[row,col].set_xticks(fontsize=20)\n",
    "            #axs[row,col].set_yticks(fontsize=20)\n",
    "            \n",
    "            axs[row,col].set_xlabel(r'$\\Delta$'+'('+cx+')',fontsize=18)\n",
    "            axs[row,col].set_ylabel(r'$\\Delta$'+'('+cy+')',fontsize=18)\n",
    "            axs[row,col].set_title('Airmass = {0}, clouds = {1}'.format(am0,cloud0),fontsize=14)\n",
    "            axs[row,col].legend(fontsize=14)\n",
    "            \n",
    "            i += 1"
   ]
  },
  {
   "cell_type": "code",
   "execution_count": null,
   "id": "caa7c373",
   "metadata": {},
   "outputs": [],
   "source": []
  },
  {
   "cell_type": "markdown",
   "id": "27effc63",
   "metadata": {},
   "source": [
    "# Make 3D colour plot \n",
    "\n",
    "To see an interactive version of the following plot, see notebook \"03_spectrum_ThroughAtmLSST_3Dcolor_plot.ipynb\" "
   ]
  },
  {
   "cell_type": "code",
   "execution_count": null,
   "id": "d50feee5",
   "metadata": {},
   "outputs": [],
   "source": [
    "colorx = 'i-z'\n",
    "colory = 'z-Y'\n",
    "colorz = 'r-i'\n",
    "\n",
    "fig = plt.figure(figsize=(20,16))\n",
    "ax = fig.add_subplot(projection='3d')\n",
    "\n",
    "minx, maxx = [], []\n",
    "miny, maxy = [], []\n",
    "minz, maxz = [], []\n",
    "for spec_type in spectral_types:\n",
    "    for si in colour_dict[spec_type]:\n",
    "        delta1 = (colour_dict[spec_type][si][colorx.lower()]-colour_dict_ref[spec_type][si][colorx.lower()])*1000.\n",
    "        delta2 = (colour_dict[spec_type][si][colory.lower()]-colour_dict_ref[spec_type][si][colory.lower()])*1000.\n",
    "        delta3 = (colour_dict[spec_type][si][colorz.lower()]-colour_dict_ref[spec_type][si][colorz.lower()])*1000.\n",
    "\n",
    "        ax.scatter(delta1,delta2,delta3,c=atm_vals,marker=type_markers[spec_type])\n",
    "        minx.append(np.min(delta1))\n",
    "        miny.append(np.min(delta2))\n",
    "        minz.append(np.min(delta3))\n",
    "        maxx.append(np.max(delta1))\n",
    "        maxy.append(np.max(delta2))\n",
    "        maxz.append(np.max(delta3))\n",
    "\n",
    "ax.set_xlabel(r'$\\Delta$'+'('+colorx+') [mmag]',fontsize=18)\n",
    "ax.set_ylabel(r'$\\Delta$'+'('+colory+') [mmag]',fontsize=18)\n",
    "ax.set_zlabel(r'$\\Delta$'+'('+colorz+') [mmag]',fontsize=18)\n",
    "\n",
    "xrange = np.linspace(np.min(minx),np.max(maxx),100)\n",
    "yrange = np.linspace(np.min(miny),np.max(maxy),100)\n",
    "zrange = np.linspace(np.min(minz),np.max(maxz),100)\n",
    "\n",
    "ax.plot(xrange,np.zeros(len(yrange)),np.zeros(len(zrange)),'r--')\n",
    "ax.plot(np.zeros(len(xrange)),yrange,np.zeros(len(zrange)),'r--')\n",
    "ax.plot(np.zeros(len(xrange)),np.zeros(len(yrange)),zrange,'r--')\n"
   ]
  },
  {
   "cell_type": "code",
   "execution_count": null,
   "id": "f76809e5",
   "metadata": {},
   "outputs": [],
   "source": []
  },
  {
   "cell_type": "code",
   "execution_count": null,
   "id": "2fb7d72b",
   "metadata": {},
   "outputs": [],
   "source": []
  },
  {
   "cell_type": "markdown",
   "id": "78018907",
   "metadata": {},
   "source": [
    "# Calculate colour evolution for SNe Ia spectra \n",
    "\n",
    "We use the SNe Ia spectra from https://github.com/rhiannonlynne/photometry_sample/tree/main/sn "
   ]
  },
  {
   "cell_type": "code",
   "execution_count": null,
   "id": "fdfee86a",
   "metadata": {},
   "outputs": [],
   "source": [
    "sne_path = 'data/SNIa_spectra/'\n",
    "sn1_data = np.loadtxt(os.path.join(sne_path,'sn1a_10.0.dat'))\n",
    "sn2_data = np.loadtxt(os.path.join(sne_path,'sn1a_15.0.dat'))\n",
    "sn3_data = np.loadtxt(os.path.join(sne_path,'sn1a_20.0.dat'))"
   ]
  },
  {
   "cell_type": "markdown",
   "id": "4e5fb583",
   "metadata": {},
   "source": [
    "The wavelengths are in nm and the fluxes in erg/s/cm2/nm, so we need to change the units to angstrom and photlam = #photons/s/cm2/angstrom (pysynphot assumes that the input fluxes are in photlam). For this, we need to remember that the conversion between flam (erg/s/cm2/angstrom) and photlam is given by \n",
    "\n",
    "$$ photlam = \\frac{\\lambda}{h \\cdot c} flam $$"
   ]
  },
  {
   "cell_type": "code",
   "execution_count": null,
   "id": "da366997",
   "metadata": {},
   "outputs": [],
   "source": [
    "sn1wave = sn1_data[:,0]*10.\n",
    "sn2wave = sn2_data[:,0]*10.\n",
    "sn3wave = sn3_data[:,0]*10.\n",
    "\n",
    "sn1flux = sn1_data[:,1]*sn1wave/(h_planck*c_light)\n",
    "sn2flux = sn2_data[:,1]*sn2wave/(h_planck*c_light)\n",
    "sn3flux = sn3_data[:,1]*sn3wave/(h_planck*c_light)"
   ]
  },
  {
   "cell_type": "code",
   "execution_count": null,
   "id": "eeefa746",
   "metadata": {},
   "outputs": [],
   "source": [
    "sn1 = S.ArraySpectrum(sn1wave,sn1flux,name='sn1a_10.0')\n",
    "sn2 = S.ArraySpectrum(sn2wave,sn2flux,name='sn1a_15.0')\n",
    "sn3 = S.ArraySpectrum(sn3wave,sn3flux,name='sn1a_20.0')"
   ]
  },
  {
   "cell_type": "code",
   "execution_count": null,
   "id": "ee3640be",
   "metadata": {},
   "outputs": [],
   "source": [
    "sn1.waveunits, sn1.fluxunits"
   ]
  },
  {
   "cell_type": "code",
   "execution_count": null,
   "id": "291916ab",
   "metadata": {},
   "outputs": [],
   "source": [
    "fig=plt.figure(figsize=(16,5))\n",
    "plt.plot(sn1.wave,sn1.flux,color='r',label=sn1.name)\n",
    "plt.plot(sn2.wave,sn2.flux,color='k',label=sn2.name)\n",
    "plt.plot(sn3.wave,sn3.flux,color='b',label=sn3.name)\n",
    "plt.xlim(WLMIN,WLMAX)\n",
    "plt.grid()\n",
    "plt.xlabel('$\\\\lambda \\, [$'+str(obs.waveunits)+']',fontsize=15)\n",
    "plt.ylabel('$\\gamma \\, \\cdot s^{-1} \\, \\cdot cm^{-2} \\cdot angstrom^{-1}$',fontsize=15)\n",
    "plt.legend(fontsize=15)"
   ]
  },
  {
   "cell_type": "markdown",
   "id": "36769481",
   "metadata": {},
   "source": [
    "Now we pass the SNIa spectra through the total passbands, as with the calibration spectra "
   ]
  },
  {
   "cell_type": "code",
   "execution_count": null,
   "id": "1479ae7d",
   "metadata": {},
   "outputs": [],
   "source": [
    "sn_list = [sn1,sn2,sn3]"
   ]
  },
  {
   "cell_type": "code",
   "execution_count": null,
   "id": "7aca67d6",
   "metadata": {},
   "outputs": [],
   "source": [
    "# SNe Ia through atm x throughput \n",
    "sn_obs_dict = {}\n",
    "for si,spec in enumerate(sn_list):\n",
    "    filter_dict_ = {}\n",
    "    for filter in filters:\n",
    "        filter_dict_[filter] = []\n",
    "        for i in range(n_sim):\n",
    "            obs_spec = S.Observation(spec,total_passband[filter][i],force='taper')\n",
    "            filter_dict_[filter].append(obs_spec)\n",
    "    sn_obs_dict[si] = filter_dict_ \n"
   ]
  },
  {
   "cell_type": "code",
   "execution_count": null,
   "id": "0e91c810",
   "metadata": {},
   "outputs": [],
   "source": [
    "print(len(sn_obs_dict.keys()))\n",
    "print(len(sn_obs_dict[0].keys()))\n",
    "print(len(sn_obs_dict[0]['u']))"
   ]
  },
  {
   "cell_type": "code",
   "execution_count": null,
   "id": "53d563f0",
   "metadata": {},
   "outputs": [],
   "source": [
    "# SNe Ia only through throughput (as if telescope was in space) \n",
    "sn_obs_dict_t = {}\n",
    "for si,spec in enumerate(sn_list):\n",
    "    filter_dict_ = {}\n",
    "    for filter in lsst_bp:\n",
    "        obs_spec_t = S.Observation(spec,filter,force='taper')\n",
    "        filter_dict_[filter.name] = obs_spec_t\n",
    "    sn_obs_dict_t[si] = filter_dict_ \n",
    "    "
   ]
  },
  {
   "cell_type": "code",
   "execution_count": null,
   "id": "3ef786d8",
   "metadata": {},
   "outputs": [],
   "source": [
    "print(len(sn_obs_dict_t.keys()))\n",
    "print(len(sn_obs_dict_t[0].keys()))\n",
    "print(sn_obs_dict_t[0]['u'].flux)"
   ]
  },
  {
   "cell_type": "code",
   "execution_count": null,
   "id": "83096692",
   "metadata": {},
   "outputs": [],
   "source": [
    "fig=plt.figure(figsize=(16,5))\n",
    "ax = fig.add_subplot(111)\n",
    "plt.plot(sn_list[0].wave,sn_list[0].flux*Seff*exptime,ls='--',color='k',label='TOA spectrum')\n",
    "\n",
    "for index,filter in enumerate(filters):\n",
    "    #plt.plot(obs_dict_t[example_spec][filter].wave,obs_dict_t[example_spec][filter].flux*Seff*exptime,ls=':',color=filter_colors[index])\n",
    "    plt.plot(sn_obs_dict_t[0][filter].wave,sn_obs_dict_t[0][filter].flux*Seff*exptime,ls=':',color=filter_colors[index])\n",
    "    \n",
    "    for i in range(n_sim):\n",
    "        #obs_ = obs_dict[example_spec][filter][i]\n",
    "        obs_ = sn_obs_dict[0][filter][i]\n",
    "        #plt.plot(obs_.wave,obs_.flux*Seff*exptime,ls='-',color=filter_colors[index],alpha=0.02)\n",
    "        plt.plot(obs_.wave,obs_.flux*Seff*exptime,ls='-',color=filter_colors[index],alpha=0.04)\n",
    "    \n",
    "plt.plot([],[],ls=':',label='Spectrum through LSST')\n",
    "plt.plot([],[],ls='-',label='Spectrum through atm x LSST')\n",
    "plt.xlim(2600.,11000.)\n",
    "plt.grid()\n",
    "plt.xlabel('$\\\\lambda \\, [$'+str(obs.waveunits)+']',fontsize=15)\n",
    "plt.ylabel('$\\gamma \\, \\cdot angstrom^{-1}$',fontsize=15)\n",
    "plt.legend(fontsize=14)\n",
    "plt.title('Varying {0}. Airmass = {1}, clouds = {2}'.format(variable_param,am0,cloud0),fontsize=16)"
   ]
  },
  {
   "cell_type": "markdown",
   "id": "f9defb76",
   "metadata": {},
   "source": [
    "We zoom in to see the effect of the different atmospheric transparencies "
   ]
  },
  {
   "cell_type": "code",
   "execution_count": null,
   "id": "af0f09ff",
   "metadata": {},
   "outputs": [],
   "source": [
    "fig=plt.figure(figsize=(16,5))\n",
    "ax = fig.add_subplot(111)\n",
    "plt.plot(sn_list[0].wave,sn_list[0].flux*Seff*exptime,ls='--',color='k',label='TOA spectrum')\n",
    "\n",
    "for index,filter in enumerate(filters):\n",
    "    #plt.plot(obs_dict_t[example_spec][filter].wave,obs_dict_t[example_spec][filter].flux*Seff*exptime,ls=':',color=filter_colors[index])\n",
    "    plt.plot(sn_obs_dict_t[0][filter].wave,sn_obs_dict_t[0][filter].flux*Seff*exptime,ls=':',color=filter_colors[index])\n",
    "    \n",
    "    for i in range(n_sim):\n",
    "        #obs_ = obs_dict[example_spec][filter][i]\n",
    "        obs_ = sn_obs_dict[0][filter][i]\n",
    "        #plt.plot(obs_.wave,obs_.flux*Seff*exptime,ls='-',color=filter_colors[index],alpha=0.02)\n",
    "        plt.plot(obs_.wave,obs_.flux*Seff*exptime,ls='-',color=filter_colors[index],alpha=0.07)\n",
    "    \n",
    "plt.plot([],[],ls=':',label='Spectrum through LSST')\n",
    "plt.plot([],[],ls='-',label='Spectrum through atm x LSST')\n",
    "plt.xlim(8000.,11000.)\n",
    "plt.ylim(0,1e18)\n",
    "plt.grid()\n",
    "plt.xlabel('$\\\\lambda \\, [$'+str(obs.waveunits)+']',fontsize=15)\n",
    "plt.ylabel('$\\gamma \\, \\cdot angstrom^{-1}$',fontsize=15)\n",
    "plt.legend(fontsize=14)\n",
    "plt.title('Varying {0}. Airmass = {1}, clouds = {2}'.format(variable_param,am0,cloud0),fontsize=16)"
   ]
  },
  {
   "cell_type": "markdown",
   "id": "90481651",
   "metadata": {},
   "source": [
    "We can now calculate the magnitudes and colours "
   ]
  },
  {
   "cell_type": "code",
   "execution_count": null,
   "id": "cf4c16c2",
   "metadata": {},
   "outputs": [],
   "source": [
    "# Magnitudes of spectra passing through atm x throughput \n",
    "sn_mag_dict = {}\n",
    "sn_mag_dict_ref = {}\n",
    "sn_mag_err_dict = {}\n",
    "sn_mag_err_dict_ref = {}\n",
    "for si,obs_spec_ in enumerate(sn_list):\n",
    "    mag_dict_ = {}\n",
    "    mag_dict_ref_ = {}\n",
    "    mag_err_dict_ = {}\n",
    "    mag_err_dict_ref_ = {}\n",
    "    for fi,filter in enumerate(filters):\n",
    "        mag_dict_[filter] = []\n",
    "        mag_err_dict_[filter] = []\n",
    "        for i in range(n_sim):\n",
    "            #mag_dict_[filter].append(obs_spec_[filter][i].effstim(\"abmag\"))\n",
    "            if calc_mag_err:\n",
    "                mag_ab_, mag_err_ab_ = myAB(obs_spec_,total_passband[filter][i],lsst_bp[fi],return_error=True)\n",
    "                mag_err_dict_[filter].append(mag_err_ab_)\n",
    "            else:\n",
    "                mag_ab_ = myAB(obs_spec_,total_passband[filter][i],lsst_bp[fi])\n",
    "            mag_dict_[filter].append(mag_ab_)\n",
    "            \n",
    "        #mag_dict[sed_] = mag_dict_\n",
    "        \n",
    "        if calc_mag_err:\n",
    "            mag_ab_, mag_err_ab_ = myAB(obs_spec_,total_passband_ref[filter],lsst_bp[fi],return_error=True)\n",
    "            mag_err_dict_ref_[filter] = mag_err_ab_\n",
    "        else:\n",
    "            mag_ab_ = myAB(obs_spec_,total_passband_ref[filter],lsst_bp[fi])\n",
    "        mag_dict_ref_[filter] = mag_ab_\n",
    "    sn_mag_dict[si] = mag_dict_\n",
    "    sn_mag_dict_ref[si] = mag_dict_ref_\n",
    "    sn_mag_err_dict[si] = mag_err_dict_\n",
    "    sn_mag_err_dict_ref[si] = mag_err_dict_ref_"
   ]
  },
  {
   "cell_type": "code",
   "execution_count": null,
   "id": "4b4b0de5",
   "metadata": {},
   "outputs": [],
   "source": [
    "print(len(sn_mag_dict.keys()))\n",
    "print(len(sn_mag_dict[0].keys()))\n",
    "print(len(sn_mag_dict[0]['u']))"
   ]
  },
  {
   "cell_type": "code",
   "execution_count": null,
   "id": "56fdc3a7",
   "metadata": {},
   "outputs": [],
   "source": [
    "sn_colour_dict = {}\n",
    "sn_colour_err_dict = {}\n",
    "for sn in sn_mag_dict.keys():\n",
    "    c_dict = {}\n",
    "    c_err_dict = {}\n",
    "    for fi in range(len(filters)-1):\n",
    "        mag1 = np.array(sn_mag_dict[sn][filters[fi]])\n",
    "        mag2 = np.array(sn_mag_dict[sn][filters[fi+1]])\n",
    "        #print(mag1)\n",
    "        #print(mag2)\n",
    "        if calc_mag_err:\n",
    "            err_mag1 = np.array(sn_mag_err_dict[sn][filters[fi]])\n",
    "            err_mag2 = np.array(sn_mag_err_dict[sn][filters[fi+1]])\n",
    "        \n",
    "        colour_ = mag1-mag2\n",
    "        colour_name = '{0}-{1}'.format(filters[fi].lower(),filters[fi+1].lower())\n",
    "        c_dict[colour_name] = colour_\n",
    "        if calc_mag_err:\n",
    "            err_colour_ = np.sqrt(err_mag1**2.+err_mag2**2.)\n",
    "            c_err_dict[colour_name] = err_colour_\n",
    "    sn_colour_dict[sn] = c_dict\n",
    "    sn_colour_err_dict[sn] = c_err_dict\n"
   ]
  },
  {
   "cell_type": "code",
   "execution_count": null,
   "id": "95d02939",
   "metadata": {},
   "outputs": [],
   "source": [
    "print(len(sn_mag_dict.keys()))\n",
    "print(len(sn_colour_dict.keys()))\n",
    "print(len(sn_colour_dict[0].keys()))\n",
    "print(len(sn_colour_dict[0]['u-g']))"
   ]
  },
  {
   "cell_type": "code",
   "execution_count": null,
   "id": "9a7c5a26",
   "metadata": {},
   "outputs": [],
   "source": [
    "sn_colour_dict_ref = {}\n",
    "sn_colour_err_dict_ref = {}\n",
    "for sn in sn_mag_dict_ref.keys():\n",
    "    c_dict = {}\n",
    "    c_err_dict = {}\n",
    "    for fi in range(len(filters)-1):\n",
    "        mag1 = np.array(sn_mag_dict_ref[sn][filters[fi]])\n",
    "        mag2 = np.array(sn_mag_dict_ref[sn][filters[fi+1]])\n",
    "        #print(mag1)\n",
    "        #print(mag2)\n",
    "        if calc_mag_err:\n",
    "            err_mag1 = np.array(sn_mag_err_dict_ref[sn][filters[fi]])\n",
    "            err_mag2 = np.array(sn_mag_err_dict_ref[sn][filters[fi+1]])\n",
    "        \n",
    "        colour_ = mag1-mag2\n",
    "        colour_name = '{0}-{1}'.format(filters[fi].lower(),filters[fi+1].lower())\n",
    "        c_dict[colour_name] = colour_\n",
    "        if calc_mag_err:\n",
    "            err_colour_ = np.sqrt(err_mag1**2.+err_mag2**2.)\n",
    "            c_err_dict[colour_name] = err_colour_\n",
    "    sn_colour_dict_ref[sn] = c_dict\n",
    "    sn_colour_err_dict_ref[sn] = c_err_dict\n",
    "    "
   ]
  },
  {
   "cell_type": "code",
   "execution_count": null,
   "id": "9e0a6bec",
   "metadata": {},
   "outputs": [],
   "source": [
    "print(len(sn_mag_dict_ref.keys()))\n",
    "print(len(sn_colour_dict_ref.keys()))\n",
    "print(len(sn_colour_dict_ref[0].keys()))\n",
    "print(sn_colour_dict_ref[0]['u-g'])"
   ]
  },
  {
   "cell_type": "code",
   "execution_count": null,
   "id": "d3246d03",
   "metadata": {},
   "outputs": [],
   "source": [
    "np.save('output_files/sn_colour_dict_varying_{0}_airmass_{1}_cloud_{2}.npy'.format(variable_param,am0,cloud0),sn_colour_dict)\n",
    "np.save('output_files/sn_colour_dict_varying_{0}_airmass_{1}_cloud_{2}_ref.npy'.format(variable_param,am0,cloud0),sn_colour_dict_ref)\n",
    "if calc_mag_err:\n",
    "    np.save('output_files/sn_colour_err_dict_varying_{0}_airmass_{1}_cloud_{2}.npy'.format(variable_param,am0,cloud0),sn_colour_err_dict)\n",
    "    np.save('output_files/sn_colour_err_dict_varying_{0}_airmass_{1}_cloud_{2}_ref.npy'.format(variable_param,am0,cloud0),sn_colour_err_dict_ref)"
   ]
  },
  {
   "cell_type": "code",
   "execution_count": null,
   "id": "7ff07d4a",
   "metadata": {},
   "outputs": [],
   "source": []
  },
  {
   "cell_type": "code",
   "execution_count": null,
   "id": "8fe999e3",
   "metadata": {},
   "outputs": [],
   "source": [
    "colorx = 'i-z'\n",
    "colory = 'z-Y'\n",
    "colorz = 'r-i'\n",
    "\n",
    "fig = plt.figure(figsize=(20,16))\n",
    "ax = fig.add_subplot(projection='3d')\n",
    "\n",
    "minx, maxx = [], []\n",
    "miny, maxy = [], []\n",
    "minz, maxz = [], []\n",
    "for spec_type in spectral_types:\n",
    "    for si in colour_dict[spec_type]:\n",
    "        delta1 = (colour_dict[spec_type][si][colorx.lower()]-colour_dict_ref[spec_type][si][colorx.lower()])*1000.\n",
    "        delta2 = (colour_dict[spec_type][si][colory.lower()]-colour_dict_ref[spec_type][si][colory.lower()])*1000.\n",
    "        delta3 = (colour_dict[spec_type][si][colorz.lower()]-colour_dict_ref[spec_type][si][colorz.lower()])*1000.\n",
    "\n",
    "        ax.scatter(delta1,delta2,delta3,c=atm_vals,marker=type_markers[spec_type])\n",
    "        minx.append(np.min(delta1))\n",
    "        miny.append(np.min(delta2))\n",
    "        minz.append(np.min(delta3))\n",
    "        maxx.append(np.max(delta1))\n",
    "        maxy.append(np.max(delta2))\n",
    "        maxz.append(np.max(delta3))\n",
    "        \n",
    "for sn in sn_colour_dict.keys():\n",
    "    delta1_sn = (sn_colour_dict[sn][colorx.lower()]-sn_colour_dict_ref[sn][colorx.lower()])*1000.\n",
    "    delta2_sn = (sn_colour_dict[sn][colory.lower()]-sn_colour_dict_ref[sn][colory.lower()])*1000.\n",
    "    delta3_sn = (sn_colour_dict[sn][colorz.lower()]-sn_colour_dict_ref[sn][colorz.lower()])*1000.\n",
    "    \n",
    "    ax.scatter(delta1_sn,delta2_sn,delta3_sn,c=atm_vals,marker='o',s=250.0)\n",
    "\n",
    "ax.set_xlabel(r'$\\Delta$'+'('+colorx+') [mmag]',fontsize=18)\n",
    "ax.set_ylabel(r'$\\Delta$'+'('+colory+') [mmag]',fontsize=18)\n",
    "ax.set_zlabel(r'$\\Delta$'+'('+colorz+') [mmag]',fontsize=18)\n",
    "\n",
    "xrange = np.linspace(np.min(minx),np.max(maxx),100)\n",
    "yrange = np.linspace(np.min(miny),np.max(maxy),100)\n",
    "zrange = np.linspace(np.min(minz),np.max(maxz),100)\n",
    "\n",
    "ax.plot(xrange,np.zeros(len(yrange)),np.zeros(len(zrange)),'r--')\n",
    "ax.plot(np.zeros(len(xrange)),yrange,np.zeros(len(zrange)),'r--')\n",
    "ax.plot(np.zeros(len(xrange)),np.zeros(len(yrange)),zrange,'r--')\n"
   ]
  },
  {
   "cell_type": "code",
   "execution_count": null,
   "id": "16becbf9",
   "metadata": {},
   "outputs": [],
   "source": [
    "fig_rows = 2\n",
    "fig_cols = 2\n",
    "fig, axs = plt.subplots(fig_rows, fig_cols, figsize=(22,18))\n",
    "i = 0\n",
    "for row in range(fig_rows):\n",
    "    for col in range(fig_cols):\n",
    "        if i<len(filters)-2:\n",
    "            cx = '{0}-{1}'.format(filters[i],filters[i+1])\n",
    "            cy = '{0}-{1}'.format(filters[i+1],filters[i+2])\n",
    "            \n",
    "            iso_vals1 = []\n",
    "            iso_vals2 = []\n",
    "            for spec_type in spectral_types[::-1]:\n",
    "                for si in colour_dict[spec_type]:\n",
    "                    delta1 = (colour_dict[spec_type][si][cx.lower()]-colour_dict_ref[spec_type][si][cx.lower()])*1000.\n",
    "                    delta2 = (colour_dict[spec_type][si][cy.lower()]-colour_dict_ref[spec_type][si][cy.lower()])*1000.\n",
    "                    msize = [10.]\n",
    "                    msize = msize+[40.]*(len(delta1)-2)\n",
    "                    msize.append(110.)\n",
    "                    \n",
    "                    iso_vals1.append(delta1)\n",
    "                    iso_vals2.append(delta2)\n",
    "                    \n",
    "                    axs[row,col].scatter(delta1,delta2,c=type_colors[spec_type],marker='o',s=msize,alpha=1.0)\n",
    "                    axs[row,col].plot(delta1,delta2,ls='-',marker='',color='grey',alpha=0.2,zorder=-1)\n",
    "            for spec_type in spectral_types:\n",
    "                axs[row,col].plot([],[],c=type_colors[spec_type],ls='',marker='o',label=spec_type)\n",
    "                \n",
    "                \n",
    "            for sn in sn_colour_dict.keys():\n",
    "                delta1_sn = (sn_colour_dict[sn][cx.lower()]-sn_colour_dict_ref[sn][cx.lower()])*1000.\n",
    "                delta2_sn = (sn_colour_dict[sn][cy.lower()]-sn_colour_dict_ref[sn][cy.lower()])*1000.\n",
    "                msize = [10.]\n",
    "                msize = msize+[40.]*(len(delta1)-2)\n",
    "                msize.append(110.)\n",
    "                \n",
    "                iso_vals1.append(delta1_sn)\n",
    "                iso_vals2.append(delta2_sn)\n",
    "                \n",
    "                axs[row,col].scatter(delta1_sn,delta2_sn,c='k',marker='o',s=msize)\n",
    "                axs[row,col].plot(delta1_sn,delta2_sn,ls='-',marker='',color='grey',alpha=0.2,zorder=-1)\n",
    "            axs[row,col].plot([],[],c='k',ls='',marker='o',label='SNe Ia')\n",
    "            \n",
    "            iso_vals1 = np.array(iso_vals1)\n",
    "            iso_vals2 = np.array(iso_vals2)\n",
    "            for val in range(iso_vals1.shape[1]):\n",
    "                #print(iso_vals1[:,val])\n",
    "                sort_index = np.argsort(iso_vals1[:,val])\n",
    "                axs[row,col].plot(iso_vals1[:,val][sort_index],iso_vals2[:,val][sort_index],ls='-',marker='',color='k',zorder=-1)\n",
    "            \n",
    "            axs[row,col].axhline(y=0.,ls='--',color='r')\n",
    "            axs[row,col].axvline(x=0.,ls='--',color='r')\n",
    "            axs[row,col].grid()\n",
    "            #axs[row,col].set_xticks(fontsize=20)\n",
    "            #axs[row,col].set_yticks(fontsize=20)\n",
    "            #axs[row,col].set_xlim(-21.,33.)\n",
    "            axs[row,col].set_xlim(-100,90)\n",
    "            axs[row,col].set_ylim(-140,90)\n",
    "            \n",
    "            axs[row,col].set_xlabel(r'$\\Delta$'+'('+cx+') [mmag]',fontsize=18)\n",
    "            axs[row,col].set_ylabel(r'$\\Delta$'+'('+cy+') [mmag]',fontsize=18)\n",
    "            axs[row,col].set_title('Varying {0}. Airmass = {1}, clouds = {2}'.format(variable_param,am0,cloud0),fontsize=14)\n",
    "            axs[row,col].legend(fontsize=16)\n",
    "            \n",
    "            i += 1\n",
    "plt.savefig(os.path.join(outdir_plots,'colour_colour_plots_varying_{0}_airmass_{1}_clouds_{2}_v2_sn.png'.format(variable_param,am0,cloud0)))"
   ]
  },
  {
   "cell_type": "code",
   "execution_count": null,
   "id": "7cf818e5",
   "metadata": {},
   "outputs": [],
   "source": [
    "rangex2 = (-35,20)\n",
    "rangey2 = (-120,80)"
   ]
  },
  {
   "cell_type": "code",
   "execution_count": null,
   "id": "f2ed6ab7",
   "metadata": {
    "scrolled": false
   },
   "outputs": [],
   "source": [
    "fig_rows = len(filters)-2\n",
    "i = 0\n",
    "for row in range(fig_rows):\n",
    "    fig, axs = plt.subplots(1, 1, figsize=(19,5))\n",
    "    if i<len(filters)-2:\n",
    "        cx = '{0}-{1}'.format(filters[i],filters[i+1])\n",
    "        cy = '{0}-{1}'.format(filters[i+1],filters[i+2])\n",
    "        \n",
    "        iso_vals1 = []\n",
    "        iso_vals2 = []\n",
    "        for spec_type in spectral_types[::-1]:\n",
    "            for si in colour_dict[spec_type]:\n",
    "                delta1 = (colour_dict[spec_type][si][cx.lower()]-colour_dict_ref[spec_type][si][cx.lower()])*1000.\n",
    "                delta2 = (colour_dict[spec_type][si][cy.lower()]-colour_dict_ref[spec_type][si][cy.lower()])*1000.\n",
    "                msize = [10.]\n",
    "                msize = msize+[40.]*(len(delta1)-2)\n",
    "                msize.append(110.)\n",
    "                \n",
    "                iso_vals1.append(delta1)\n",
    "                iso_vals2.append(delta2)\n",
    "                    \n",
    "                axs.scatter(delta1,delta2,c=type_colors[spec_type],marker='o',s=msize,alpha=1.0,zorder=1)\n",
    "                axs.plot(delta1,delta2,ls='-',linewidth=0.6,marker='',color='grey',alpha=0.4,zorder=-1)\n",
    "        for spec_type in spectral_types:\n",
    "            axs.plot([],[],c=type_colors[spec_type],ls='',marker='o',label=spec_type)\n",
    "            \n",
    "        for sn in sn_colour_dict.keys():\n",
    "                delta1_sn = (sn_colour_dict[sn][cx.lower()]-sn_colour_dict_ref[sn][cx.lower()])*1000.\n",
    "                delta2_sn = (sn_colour_dict[sn][cy.lower()]-sn_colour_dict_ref[sn][cy.lower()])*1000.\n",
    "                msize = [10.]\n",
    "                msize = msize+[40.]*(len(delta1)-2)\n",
    "                msize.append(110.)\n",
    "                \n",
    "                iso_vals1.append(delta1_sn)\n",
    "                iso_vals2.append(delta2_sn)\n",
    "                \n",
    "                axs.scatter(delta1_sn,delta2_sn,c='k',marker='o',s=msize)\n",
    "                axs.plot(delta1_sn,delta2_sn,ls='-',linewidth=0.6,marker='',color='grey',alpha=0.4,zorder=-1)\n",
    "        axs.plot([],[],c='k',ls='',marker='o',label='SNe Ia')    \n",
    "        \n",
    "        \n",
    "        iso_vals1 = np.array(iso_vals1)\n",
    "        iso_vals2 = np.array(iso_vals2)\n",
    "        for val in range(iso_vals1.shape[1]):\n",
    "            #print(iso_vals1[:,val])\n",
    "            sort_index = np.argsort(iso_vals1[:,val])\n",
    "            axs.plot(iso_vals1[:,val][sort_index],iso_vals2[:,val][sort_index],ls='-',marker='',color='k',zorder=-1)\n",
    "            \n",
    "        axs.axhline(y=0.,ls='--',color='r')\n",
    "        axs.axvline(x=0.,ls='--',color='r')\n",
    "        axs.grid()\n",
    "        #axs.set_xticks(fontsize=20)\n",
    "        #axs.set_yticks(fontsize=20)\n",
    "        axs.set_xlim(rangex2)\n",
    "        axs.set_ylim(rangey2)\n",
    "        \n",
    "        axs.set_xlabel(r'$\\Delta$'+'('+cx+') [mmag]',fontsize=18)\n",
    "        axs.set_ylabel(r'$\\Delta$'+'('+cy+') [mmag]',fontsize=18)\n",
    "        axs.set_title('Varying {0}. Airmass = {1}, clouds = {2}'.format(variable_param,am0,cloud0),fontsize=16)\n",
    "        axs.legend(fontsize=14)\n",
    "        i += 1\n",
    "    plt.savefig(os.path.join(outdir_plots,'{3}_{4}_plot_varying_{0}_airmass_{1}_clouds_{2}_sn.png'.format(variable_param,am0,cloud0,cx,cy)))"
   ]
  },
  {
   "cell_type": "markdown",
   "id": "19a629d3",
   "metadata": {},
   "source": [
    "This is just the same but interchanging the axes "
   ]
  },
  {
   "cell_type": "code",
   "execution_count": null,
   "id": "06bc7f71",
   "metadata": {},
   "outputs": [],
   "source": [
    "fig_rows = len(filters)-2\n",
    "i = 0\n",
    "for row in range(fig_rows):\n",
    "    fig, axs = plt.subplots(1, 1, figsize=(19,5))\n",
    "    if i<len(filters)-2:\n",
    "        cy = '{0}-{1}'.format(filters[i],filters[i+1])#################\n",
    "        cx = '{0}-{1}'.format(filters[i+1],filters[i+2])#################\n",
    "        \n",
    "        iso_vals1 = []\n",
    "        iso_vals2 = []\n",
    "        for spec_type in spectral_types[::-1]:\n",
    "            for si in colour_dict[spec_type]:\n",
    "                delta1 = (colour_dict[spec_type][si][cx.lower()]-colour_dict_ref[spec_type][si][cx.lower()])*1000.\n",
    "                delta2 = (colour_dict[spec_type][si][cy.lower()]-colour_dict_ref[spec_type][si][cy.lower()])*1000.\n",
    "                msize = [10.]\n",
    "                msize = msize+[40.]*(len(delta1)-2)\n",
    "                msize.append(110.)\n",
    "                \n",
    "                iso_vals1.append(delta1)\n",
    "                iso_vals2.append(delta2)\n",
    "                    \n",
    "                axs.scatter(delta1,delta2,c=type_colors[spec_type],marker='o',s=msize,alpha=1.0,zorder=1)\n",
    "                axs.plot(delta1,delta2,ls='-',linewidth=0.6,marker='',color='grey',alpha=0.4,zorder=-1)\n",
    "        for spec_type in spectral_types:\n",
    "            axs.plot([],[],c=type_colors[spec_type],ls='',marker='o',label=spec_type)\n",
    "            \n",
    "        for sn in sn_colour_dict.keys():\n",
    "                delta1_sn = (sn_colour_dict[sn][cx.lower()]-sn_colour_dict_ref[sn][cx.lower()])*1000.\n",
    "                delta2_sn = (sn_colour_dict[sn][cy.lower()]-sn_colour_dict_ref[sn][cy.lower()])*1000.\n",
    "                msize = [10.]\n",
    "                msize = msize+[40.]*(len(delta1)-2)\n",
    "                msize.append(110.)\n",
    "                \n",
    "                iso_vals1.append(delta1_sn)\n",
    "                iso_vals2.append(delta2_sn)\n",
    "                \n",
    "                axs.scatter(delta1_sn,delta2_sn,c='k',marker='o',s=msize)\n",
    "                axs.plot(delta1_sn,delta2_sn,ls='-',linewidth=0.6,marker='',color='grey',alpha=0.4,zorder=-1)\n",
    "        axs.plot([],[],c='k',ls='',marker='o',label='SNe Ia')    \n",
    "        \n",
    "        \n",
    "        iso_vals1 = np.array(iso_vals1)\n",
    "        iso_vals2 = np.array(iso_vals2)\n",
    "        for val in range(iso_vals1.shape[1]):\n",
    "            #print(iso_vals1[:,val])\n",
    "            sort_index = np.argsort(iso_vals1[:,val])\n",
    "            axs.plot(iso_vals1[:,val][sort_index],iso_vals2[:,val][sort_index],ls='-',marker='',color='k',zorder=-1)\n",
    "            \n",
    "        axs.axhline(y=0.,ls='--',color='r')\n",
    "        axs.axvline(x=0.,ls='--',color='r')\n",
    "        axs.grid()\n",
    "        #axs.set_xticks(fontsize=20)\n",
    "        #axs.set_yticks(fontsize=20)\n",
    "        axs.set_xlim(rangey2)#################\n",
    "        axs.set_ylim(rangex2)#################\n",
    "        \n",
    "        axs.set_xlabel(r'$\\Delta$'+'('+cx+') [mmag]',fontsize=18)\n",
    "        axs.set_ylabel(r'$\\Delta$'+'('+cy+') [mmag]',fontsize=18)\n",
    "        axs.set_title('Varying {0}. Airmass = {1}, clouds = {2}'.format(variable_param,am0,cloud0),fontsize=16)\n",
    "        axs.legend(fontsize=14)\n",
    "        i += 1\n",
    "    plt.savefig(os.path.join(outdir_plots,'{3}_{4}_plot_varying_{0}_airmass_{1}_clouds_{2}_sn.png'.format(variable_param,am0,cloud0,cx,cy)))"
   ]
  },
  {
   "cell_type": "code",
   "execution_count": null,
   "id": "e557111c",
   "metadata": {},
   "outputs": [],
   "source": []
  },
  {
   "cell_type": "markdown",
   "id": "abc9bdbd",
   "metadata": {},
   "source": [
    "Now we add the evolution of the flat spectrum, for reference "
   ]
  },
  {
   "cell_type": "code",
   "execution_count": null,
   "id": "eee52b41",
   "metadata": {},
   "outputs": [],
   "source": [
    "fig_rows = len(filters)-2\n",
    "i = 0\n",
    "for row in range(fig_rows):\n",
    "    fig, axs = plt.subplots(1, 1, figsize=(19,5))\n",
    "    if i<len(filters)-2:\n",
    "        cy = '{0}-{1}'.format(filters[i],filters[i+1])#################\n",
    "        cx = '{0}-{1}'.format(filters[i+1],filters[i+2])#################\n",
    "        \n",
    "        iso_vals1 = []\n",
    "        iso_vals2 = []\n",
    "        for spec_type in spectral_types[::-1]:\n",
    "            for si in colour_dict[spec_type]:\n",
    "                delta1 = (colour_dict[spec_type][si][cx.lower()]-colour_dict_ref[spec_type][si][cx.lower()])*1000.\n",
    "                delta2 = (colour_dict[spec_type][si][cy.lower()]-colour_dict_ref[spec_type][si][cy.lower()])*1000.\n",
    "                msize = [10.]\n",
    "                msize = msize+[40.]*(len(delta1)-2)\n",
    "                msize.append(110.)\n",
    "                \n",
    "                iso_vals1.append(delta1)\n",
    "                iso_vals2.append(delta2)\n",
    "                    \n",
    "                axs.scatter(delta1,delta2,c=type_colors[spec_type],marker='o',s=msize,alpha=1.0,zorder=1)\n",
    "                axs.plot(delta1,delta2,ls='-',linewidth=0.6,marker='',color='grey',alpha=0.4,zorder=-1)\n",
    "        for spec_type in spectral_types:\n",
    "            axs.plot([],[],c=type_colors[spec_type],ls='',marker='o',label=spec_type)\n",
    "            \n",
    "        for sn in sn_colour_dict.keys():\n",
    "                delta1_sn = (sn_colour_dict[sn][cx.lower()]-sn_colour_dict_ref[sn][cx.lower()])*1000.\n",
    "                delta2_sn = (sn_colour_dict[sn][cy.lower()]-sn_colour_dict_ref[sn][cy.lower()])*1000.\n",
    "                msize = [10.]\n",
    "                msize = msize+[40.]*(len(delta1)-2)\n",
    "                msize.append(110.)\n",
    "                \n",
    "                iso_vals1.append(delta1_sn)\n",
    "                iso_vals2.append(delta2_sn)\n",
    "                \n",
    "                axs.scatter(delta1_sn,delta2_sn,c='k',marker='o',s=msize)\n",
    "                axs.plot(delta1_sn,delta2_sn,ls='-',linewidth=0.6,marker='',color='grey',alpha=0.4,zorder=-1)\n",
    "        axs.plot([],[],c='k',ls='',marker='o',label='SNe Ia')    \n",
    "        \n",
    "        delta1_flat = (flat_colour_dict[cx.lower()]-flat_colour_dict_ref[cx.lower()])*1000.\n",
    "        delta2_flat = (flat_colour_dict[cy.lower()]-flat_colour_dict_ref[cy.lower()])*1000.\n",
    "        axs.scatter(delta1_flat,delta2_flat,c='k',marker='s',s=msize)\n",
    "        axs.plot(delta1_flat,delta2_flat,ls='-',linewidth=2.0,marker='',color='k',alpha=1.0,zorder=1)\n",
    "        axs.plot([],[],c='k',ls='-',marker='s',label='AB spec')\n",
    "        \n",
    "        \n",
    "        iso_vals1 = np.array(iso_vals1)\n",
    "        iso_vals2 = np.array(iso_vals2)\n",
    "        for val in range(iso_vals1.shape[1]):\n",
    "            #print(iso_vals1[:,val])\n",
    "            sort_index = np.argsort(iso_vals1[:,val])\n",
    "            axs.plot(iso_vals1[:,val][sort_index],iso_vals2[:,val][sort_index],ls='-',marker='',color='k',zorder=-1)\n",
    "            \n",
    "        axs.axhline(y=0.,ls='--',color='r')\n",
    "        axs.axvline(x=0.,ls='--',color='r')\n",
    "        axs.grid()\n",
    "        #axs.set_xticks(fontsize=20)\n",
    "        #axs.set_yticks(fontsize=20)\n",
    "        axs.set_xlim(rangey2)#################\n",
    "        axs.set_ylim(rangex2)#################\n",
    "        \n",
    "        axs.set_xlabel(r'$\\Delta$'+'('+cx+') [mmag]',fontsize=18)\n",
    "        axs.set_ylabel(r'$\\Delta$'+'('+cy+') [mmag]',fontsize=18)\n",
    "        axs.set_title('Varying {0}. Airmass = {1}, clouds = {2}'.format(variable_param,am0,cloud0),fontsize=16)\n",
    "        axs.legend(fontsize=14)\n",
    "        i += 1\n",
    "    plt.savefig(os.path.join(outdir_plots,'{3}_{4}_plot_varying_{0}_airmass_{1}_clouds_{2}_sn_flat_spectrum.png'.format(variable_param,am0,cloud0,cx,cy)))"
   ]
  },
  {
   "cell_type": "code",
   "execution_count": null,
   "id": "719ba696",
   "metadata": {},
   "outputs": [],
   "source": []
  },
  {
   "cell_type": "code",
   "execution_count": null,
   "id": "2e2dc376",
   "metadata": {},
   "outputs": [],
   "source": []
  },
  {
   "cell_type": "code",
   "execution_count": null,
   "id": "a0d0d26c",
   "metadata": {},
   "outputs": [],
   "source": []
  },
  {
   "cell_type": "markdown",
   "id": "36129d08",
   "metadata": {},
   "source": [
    "# Redshift the SN Ia spectra "
   ]
  },
  {
   "cell_type": "code",
   "execution_count": null,
   "id": "b6e06661",
   "metadata": {},
   "outputs": [],
   "source": [
    "redshifts = np.linspace(0.1,1.0,10)\n",
    "print(redshifts)"
   ]
  },
  {
   "cell_type": "code",
   "execution_count": null,
   "id": "47dae032",
   "metadata": {},
   "outputs": [],
   "source": [
    "redshift_colors = {0.1:'b',0.2:'dodgerblue',0.3:'cyan',0.4:'g',0.5:'gold',0.6:'r',0.7:'brown',0.8:'grey',0.9:'darkgrey',1.0:'k'}"
   ]
  },
  {
   "cell_type": "code",
   "execution_count": null,
   "id": "0eea0ef6",
   "metadata": {},
   "outputs": [],
   "source": [
    "fig=plt.figure(figsize=(18,7))\n",
    "ax = fig.add_subplot(111)\n",
    "rs_dict = {}\n",
    "plt.plot(sn1.wave,sn1.flux*Seff*exptime,ls='--',color='k',label='z = 0.0')\n",
    "for redshift in redshifts:\n",
    "    sn1_z = sn1.redshift(redshift)\n",
    "    plt.plot(sn1_z.wave,sn1_z.flux*Seff*exptime,color=redshift_colors[np.round(redshift,1)],label='z = {0:.1f}'.format(redshift))\n",
    "    rs_dict[round(redshift,1)] = sn1_z\n",
    "    \n",
    "\n",
    "# Approximate integration limits of each total passband. Note that there is some overlap \n",
    "plt.axvline(x=3200,ls='--',color=filter_colors[0])\n",
    "plt.axvline(x=4120,ls='--',color=filter_colors[0])\n",
    "plt.fill_between(np.arange(3200,4120),np.ones(len(np.arange(3200,4120)))*7e18,color=filter_colors[0],alpha=0.1)\n",
    "\n",
    "plt.axvline(x=3820,ls='--',color=filter_colors[1])\n",
    "plt.axvline(x=5650,ls='--',color=filter_colors[1])\n",
    "plt.fill_between(np.arange(3820,5650),np.ones(len(np.arange(3820,5650)))*7e18,color=filter_colors[1],alpha=0.1)\n",
    "\n",
    "plt.axvline(x=5250,ls='--',color=filter_colors[2])\n",
    "plt.axvline(x=7110,ls='--',color=filter_colors[2])\n",
    "plt.fill_between(np.arange(5250,7110),np.ones(len(np.arange(5250,7110)))*7e18,color=filter_colors[2],alpha=0.1)\n",
    "\n",
    "plt.axvline(x=6600,ls='--',color=filter_colors[3])\n",
    "plt.axvline(x=8580,ls='--',color=filter_colors[3])\n",
    "plt.fill_between(np.arange(6600,8580),np.ones(len(np.arange(6600,8580)))*7e18,color=filter_colors[3],alpha=0.1)\n",
    "\n",
    "plt.axvline(x=7860,ls='--',color=filter_colors[4])\n",
    "plt.axvline(x=9780,ls='--',color=filter_colors[4])\n",
    "plt.fill_between(np.arange(7860,9780),np.ones(len(np.arange(7860,9780)))*7e18,color=filter_colors[4],alpha=0.1)\n",
    "\n",
    "plt.axvline(x=8720,ls='--',color=filter_colors[5])\n",
    "plt.axvline(x=12000,ls='--',color=filter_colors[5])\n",
    "plt.fill_between(np.arange(8720,12000),np.ones(len(np.arange(8720,12000)))*7e18,color=filter_colors[5],alpha=0.1)\n",
    "\n",
    "\n",
    "plt.xlim(2600.,11000.)\n",
    "plt.grid()\n",
    "plt.xlabel('$\\\\lambda \\, [$'+str(obs.waveunits)+']',fontsize=15)\n",
    "plt.ylabel('$\\gamma \\, \\cdot angstrom^{-1}$',fontsize=15)\n",
    "plt.legend(fontsize=12)"
   ]
  },
  {
   "cell_type": "code",
   "execution_count": null,
   "id": "a4ed88f9",
   "metadata": {},
   "outputs": [],
   "source": [
    "fig=plt.figure(figsize=(18,7))\n",
    "ax = fig.add_subplot(111)\n",
    "plt.plot(sn1.wave,sn1.flux*Seff*exptime,ls='--',color='k',label='z = 0.0')\n",
    "for redshift in redshifts[:4]:\n",
    "    sn1_z = sn1.redshift(redshift)\n",
    "    plt.plot(sn1_z.wave,sn1_z.flux*Seff*exptime,color=redshift_colors[np.round(redshift,1)],label='z = {0:.1f}'.format(redshift))\n",
    "    \n",
    "\n",
    "# Approximate integration limits of each total passband. Note that there is some overlap \n",
    "plt.axvline(x=3200,ls='--',color=filter_colors[0])\n",
    "plt.axvline(x=4120,ls='--',color=filter_colors[0])\n",
    "plt.fill_between(np.arange(3200,4120),np.ones(len(np.arange(3200,4120)))*7e18,color=filter_colors[0],alpha=0.1)\n",
    "\n",
    "plt.axvline(x=3820,ls='--',color=filter_colors[1])\n",
    "plt.axvline(x=5650,ls='--',color=filter_colors[1])\n",
    "plt.fill_between(np.arange(3820,5650),np.ones(len(np.arange(3820,5650)))*7e18,color=filter_colors[1],alpha=0.1)\n",
    "\n",
    "plt.axvline(x=5250,ls='--',color=filter_colors[2])\n",
    "plt.axvline(x=7110,ls='--',color=filter_colors[2])\n",
    "plt.fill_between(np.arange(5250,7110),np.ones(len(np.arange(5250,7110)))*7e18,color=filter_colors[2],alpha=0.1)\n",
    "\n",
    "plt.axvline(x=6600,ls='--',color=filter_colors[3])\n",
    "plt.axvline(x=8580,ls='--',color=filter_colors[3])\n",
    "plt.fill_between(np.arange(6600,8580),np.ones(len(np.arange(6600,8580)))*7e18,color=filter_colors[3],alpha=0.1)\n",
    "\n",
    "plt.axvline(x=7860,ls='--',color=filter_colors[4])\n",
    "plt.axvline(x=9780,ls='--',color=filter_colors[4])\n",
    "plt.fill_between(np.arange(7860,9780),np.ones(len(np.arange(7860,9780)))*7e18,color=filter_colors[4],alpha=0.1)\n",
    "\n",
    "plt.axvline(x=8720,ls='--',color=filter_colors[5])\n",
    "plt.axvline(x=12000,ls='--',color=filter_colors[5])\n",
    "plt.fill_between(np.arange(8720,12000),np.ones(len(np.arange(8720,12000)))*7e18,color=filter_colors[5],alpha=0.1)\n",
    "\n",
    "\n",
    "plt.xlim(2600.,11000.)\n",
    "plt.grid()\n",
    "plt.xlabel('$\\\\lambda \\, [$'+str(obs.waveunits)+']',fontsize=15)\n",
    "plt.ylabel('$\\gamma \\, \\cdot angstrom^{-1}$',fontsize=15)\n",
    "plt.legend(fontsize=12)"
   ]
  },
  {
   "cell_type": "code",
   "execution_count": null,
   "id": "9a4c55aa",
   "metadata": {},
   "outputs": [],
   "source": [
    "fig=plt.figure(figsize=(18,7))\n",
    "ax = fig.add_subplot(111)\n",
    "plt.plot(sn1.wave,sn1.flux*Seff*exptime,ls='--',color='k',label='z = 0.0')\n",
    "for redshift in redshifts[6:]:\n",
    "    sn1_z = sn1.redshift(redshift)\n",
    "    plt.plot(sn1_z.wave,sn1_z.flux*Seff*exptime,color=redshift_colors[np.round(redshift,1)],label='z = {0:.1f}'.format(redshift))\n",
    "    \n",
    "\n",
    "# Approximate integration limits of each total passband. Note that there is some overlap \n",
    "plt.axvline(x=3200,ls='--',color=filter_colors[0])\n",
    "plt.axvline(x=4120,ls='--',color=filter_colors[0])\n",
    "plt.fill_between(np.arange(3200,4120),np.ones(len(np.arange(3200,4120)))*7e18,color=filter_colors[0],alpha=0.1)\n",
    "\n",
    "plt.axvline(x=3820,ls='--',color=filter_colors[1])\n",
    "plt.axvline(x=5650,ls='--',color=filter_colors[1])\n",
    "plt.fill_between(np.arange(3820,5650),np.ones(len(np.arange(3820,5650)))*7e18,color=filter_colors[1],alpha=0.1)\n",
    "\n",
    "plt.axvline(x=5250,ls='--',color=filter_colors[2])\n",
    "plt.axvline(x=7110,ls='--',color=filter_colors[2])\n",
    "plt.fill_between(np.arange(5250,7110),np.ones(len(np.arange(5250,7110)))*7e18,color=filter_colors[2],alpha=0.1)\n",
    "\n",
    "plt.axvline(x=6600,ls='--',color=filter_colors[3])\n",
    "plt.axvline(x=8580,ls='--',color=filter_colors[3])\n",
    "plt.fill_between(np.arange(6600,8580),np.ones(len(np.arange(6600,8580)))*7e18,color=filter_colors[3],alpha=0.1)\n",
    "\n",
    "plt.axvline(x=7860,ls='--',color=filter_colors[4])\n",
    "plt.axvline(x=9780,ls='--',color=filter_colors[4])\n",
    "plt.fill_between(np.arange(7860,9780),np.ones(len(np.arange(7860,9780)))*7e18,color=filter_colors[4],alpha=0.1)\n",
    "\n",
    "plt.axvline(x=8720,ls='--',color=filter_colors[5])\n",
    "plt.axvline(x=12000,ls='--',color=filter_colors[5])\n",
    "plt.fill_between(np.arange(8720,12000),np.ones(len(np.arange(8720,12000)))*7e18,color=filter_colors[5],alpha=0.1)\n",
    "\n",
    "\n",
    "plt.xlim(2600.,11000.)\n",
    "plt.grid()\n",
    "plt.xlabel('$\\\\lambda \\, [$'+str(obs.waveunits)+']',fontsize=15)\n",
    "plt.ylabel('$\\gamma \\, \\cdot angstrom^{-1}$',fontsize=15)\n",
    "plt.legend(fontsize=12)"
   ]
  },
  {
   "cell_type": "code",
   "execution_count": null,
   "id": "98b5771b",
   "metadata": {},
   "outputs": [],
   "source": []
  },
  {
   "cell_type": "code",
   "execution_count": null,
   "id": "db88922d",
   "metadata": {},
   "outputs": [],
   "source": []
  },
  {
   "cell_type": "code",
   "execution_count": null,
   "id": "63d3f73e",
   "metadata": {},
   "outputs": [],
   "source": []
  },
  {
   "cell_type": "code",
   "execution_count": null,
   "id": "3a66eb61",
   "metadata": {},
   "outputs": [],
   "source": []
  },
  {
   "cell_type": "code",
   "execution_count": null,
   "id": "be97947f",
   "metadata": {},
   "outputs": [],
   "source": []
  },
  {
   "cell_type": "markdown",
   "id": "875f44f1",
   "metadata": {},
   "source": [
    "Compute fluxes through atm x throughput "
   ]
  },
  {
   "cell_type": "code",
   "execution_count": null,
   "id": "b64502e0",
   "metadata": {},
   "outputs": [],
   "source": [
    "# redshifted SN Ia through atm x throughput \n",
    "rs_sn_obs_dict = {}\n",
    "for key in rs_dict.keys():\n",
    "    spec = rs_dict[key]\n",
    "    filter_dict_ = {}\n",
    "    for filter in filters:\n",
    "        filter_dict_[filter] = []\n",
    "        for i in range(n_sim):\n",
    "            obs_spec = S.Observation(spec,total_passband[filter][i],force='taper')\n",
    "            filter_dict_[filter].append(obs_spec)\n",
    "    rs_sn_obs_dict[key] = filter_dict_ \n"
   ]
  },
  {
   "cell_type": "code",
   "execution_count": null,
   "id": "50ef6bf3",
   "metadata": {},
   "outputs": [],
   "source": [
    "# redshifted SN Ia only through throughput (as if telescope was in space) \n",
    "rs_sn_obs_dict_t = {}\n",
    "for key in rs_dict.keys():\n",
    "    spec = rs_dict[key]\n",
    "    filter_dict_ = {}\n",
    "    for filter in lsst_bp:\n",
    "        obs_spec_t = S.Observation(spec,filter,force='taper')\n",
    "        filter_dict_[filter.name] = obs_spec_t\n",
    "    rs_sn_obs_dict_t[key] = filter_dict_ \n",
    "    "
   ]
  },
  {
   "cell_type": "code",
   "execution_count": null,
   "id": "012e7448",
   "metadata": {
    "scrolled": true
   },
   "outputs": [],
   "source": []
  },
  {
   "cell_type": "code",
   "execution_count": null,
   "id": "fdf0897d",
   "metadata": {},
   "outputs": [],
   "source": [
    "test_rs = 0.2\n",
    "fig=plt.figure(figsize=(16,5))\n",
    "ax = fig.add_subplot(111)\n",
    "plt.plot(sn1.wave,sn1.flux*Seff*exptime,ls='-.',color='k',label='TOA spectrum (z = 0.0)')\n",
    "plt.plot(rs_dict[np.round(test_rs,1)].wave,rs_dict[np.round(test_rs,1)].flux*Seff*exptime,ls='--',color='grey',label='TOA spectrum (z = {0})'.format(test_rs))\n",
    "\n",
    "for index,filter in enumerate(filters):\n",
    "    #plt.plot(sn_obs_dict_t[0][filter].wave,sn_obs_dict_t[0][filter].flux*Seff*exptime,ls=':',color='k')\n",
    "    #plt.plot(rs_sn_obs_dict_t[test_rs][filter].wave,rs_sn_obs_dict_t[test_rs][filter].flux*Seff*exptime,ls=':',color=filter_colors[index])\n",
    "    \n",
    "    for i in range(n_sim):\n",
    "        obs_0 = sn_obs_dict[0][filter][i]\n",
    "        obs_ = rs_sn_obs_dict[test_rs][filter][i]\n",
    "        plt.plot(obs_0.wave,obs_0.flux*Seff*exptime,ls='-',color='k',alpha=0.04)\n",
    "        plt.plot(obs_.wave,obs_.flux*Seff*exptime,ls='-',color=filter_colors[index],alpha=0.04)\n",
    "    \n",
    "plt.plot([],[],ls=':',label='Spectrum through LSST')\n",
    "plt.plot([],[],ls='-',label='Spectrum through atm x LSST')\n",
    "plt.xlim(2600.,11000.)\n",
    "plt.grid()\n",
    "plt.xlabel('$\\\\lambda \\, [$'+str(obs.waveunits)+']',fontsize=15)\n",
    "plt.ylabel('$\\gamma \\, \\cdot angstrom^{-1}$',fontsize=15)\n",
    "plt.legend(fontsize=14)\n",
    "plt.title('Varying {0}. Airmass = {1}, clouds = {2}'.format(variable_param,am0,cloud0),fontsize=16)"
   ]
  },
  {
   "cell_type": "markdown",
   "id": "094ce79b",
   "metadata": {},
   "source": [
    "Now we calculate the magnitudes and colours "
   ]
  },
  {
   "cell_type": "code",
   "execution_count": null,
   "id": "25917574",
   "metadata": {},
   "outputs": [],
   "source": [
    "# Magnitudes of spectra passing through atm x throughput \n",
    "rs_sn_mag_dict = {}\n",
    "rs_sn_mag_dict_ref = {}\n",
    "for key in rs_dict.keys():\n",
    "    obs_spec_ = rs_dict[key]\n",
    "    mag_dict_ = {}\n",
    "    mag_dict_ref_ = {}\n",
    "    for fi,filter in enumerate(filters):\n",
    "        mag_dict_[filter] = []\n",
    "        for i in range(n_sim):\n",
    "            #mag_dict_[filter].append(obs_spec_[filter][i].effstim(\"abmag\"))\n",
    "            mag_ab_ = myAB(obs_spec_,total_passband[filter][i],lsst_bp[fi])\n",
    "            mag_dict_[filter].append(mag_ab_)\n",
    "            \n",
    "        #mag_dict[sed_] = mag_dict_\n",
    "        \n",
    "        mag_ab_ = myAB(obs_spec_,total_passband_ref[filter],lsst_bp[fi])\n",
    "        mag_dict_ref_[filter] = mag_ab_\n",
    "    rs_sn_mag_dict[key] = mag_dict_\n",
    "    rs_sn_mag_dict_ref[key] = mag_dict_ref_"
   ]
  },
  {
   "cell_type": "code",
   "execution_count": null,
   "id": "0efcb7fc",
   "metadata": {},
   "outputs": [],
   "source": [
    "rs_sn_colour_dict = {}\n",
    "for rs in rs_sn_mag_dict.keys():\n",
    "    c_dict = {}\n",
    "    for fi in range(len(filters)-1):\n",
    "        mag1 = np.array(rs_sn_mag_dict[rs][filters[fi]])\n",
    "        mag2 = np.array(rs_sn_mag_dict[rs][filters[fi+1]])\n",
    "        #print(mag1)\n",
    "        #print(mag2)\n",
    "        \n",
    "        colour_ = mag1-mag2\n",
    "        colour_name = '{0}-{1}'.format(filters[fi].lower(),filters[fi+1].lower())\n",
    "        c_dict[colour_name] = colour_\n",
    "    rs_sn_colour_dict[rs] = c_dict\n",
    "\n",
    "rs_sn_colour_dict_ref = {}\n",
    "for rs in rs_sn_mag_dict_ref.keys():\n",
    "    c_dict = {}\n",
    "    for fi in range(len(filters)-1):\n",
    "        mag1 = np.array(rs_sn_mag_dict_ref[rs][filters[fi]])\n",
    "        mag2 = np.array(rs_sn_mag_dict_ref[rs][filters[fi+1]])\n",
    "        #print(mag1)\n",
    "        #print(mag2)\n",
    "        \n",
    "        colour_ = mag1-mag2\n",
    "        colour_name = '{0}-{1}'.format(filters[fi].lower(),filters[fi+1].lower())\n",
    "        c_dict[colour_name] = colour_\n",
    "    rs_sn_colour_dict_ref[rs] = c_dict\n",
    "    "
   ]
  },
  {
   "cell_type": "code",
   "execution_count": null,
   "id": "7405401f",
   "metadata": {},
   "outputs": [],
   "source": [
    "np.save('output_files/rs_sn_colour_dict_varying_{0}_airmass_{1}_cloud_{2}.npy'.format(variable_param,am0,cloud0),rs_sn_colour_dict)\n",
    "np.save('output_files/rs_sn_colour_dict_varying_{0}_airmass_{1}_cloud_{2}_ref.npy'.format(variable_param,am0,cloud0),rs_sn_colour_dict_ref)"
   ]
  },
  {
   "cell_type": "code",
   "execution_count": null,
   "id": "8053d2e1",
   "metadata": {},
   "outputs": [],
   "source": []
  },
  {
   "cell_type": "code",
   "execution_count": null,
   "id": "cf095dfe",
   "metadata": {},
   "outputs": [],
   "source": [
    "fig_rows = 2\n",
    "fig_cols = 2\n",
    "fig, axs = plt.subplots(fig_rows, fig_cols, figsize=(22,18))\n",
    "i = 0\n",
    "for row in range(fig_rows):\n",
    "    for col in range(fig_cols):\n",
    "        if i<len(filters)-2:\n",
    "            cx = '{0}-{1}'.format(filters[i],filters[i+1])\n",
    "            cy = '{0}-{1}'.format(filters[i+1],filters[i+2])\n",
    "            \n",
    "            iso_vals1 = []\n",
    "            iso_vals2 = []\n",
    "            \n",
    "            for spec_type in spectral_types[::-1]:\n",
    "                for si in colour_dict[spec_type]:\n",
    "                    delta1 = (colour_dict[spec_type][si][cx.lower()]-colour_dict_ref[spec_type][si][cx.lower()])*1000.\n",
    "                    delta2 = (colour_dict[spec_type][si][cy.lower()]-colour_dict_ref[spec_type][si][cy.lower()])*1000.\n",
    "                    msize = [10.]\n",
    "                    msize = msize+[40.]*(len(delta1)-2)\n",
    "                    msize.append(110.)\n",
    "                    \n",
    "                    #iso_vals1.append(delta1)\n",
    "                    #iso_vals2.append(delta2)\n",
    "                    \n",
    "                    #axs[row,col].scatter(delta1,delta2,c=type_colors[spec_type],marker='o',s=msize,alpha=1.0)\n",
    "                    axs[row,col].plot(delta1,delta2,ls='-',marker='',color='grey',alpha=0.2,zorder=-1)\n",
    "                    \n",
    "            #for spec_type in spectral_types:\n",
    "            #    axs[row,col].plot([],[],c=type_colors[spec_type],ls='',marker='o',label=spec_type)\n",
    "            axs[row,col].plot([],[],c='grey',ls='-',marker='',alpha=0.6,label='stars')\n",
    "                    \n",
    "            for si,sn in enumerate(sn_colour_dict.keys()):\n",
    "                delta1_sn = (sn_colour_dict[sn][cx.lower()]-sn_colour_dict_ref[sn][cx.lower()])*1000.\n",
    "                delta2_sn = (sn_colour_dict[sn][cy.lower()]-sn_colour_dict_ref[sn][cy.lower()])*1000.\n",
    "                msize = [10.]\n",
    "                msize = msize+[40.]*(len(delta1)-2)\n",
    "                msize.append(110.)\n",
    "                \n",
    "                iso_vals1.append(delta1_sn)\n",
    "                iso_vals2.append(delta2_sn)\n",
    "                \n",
    "                if si==0:\n",
    "                    axs[row,col].scatter(delta1_sn,delta2_sn,c='yellow',marker='o',s=msize)\n",
    "                else:\n",
    "                    axs[row,col].scatter(delta1_sn,delta2_sn,c='k',marker='o',s=msize)\n",
    "                axs[row,col].plot(delta1_sn,delta2_sn,ls='-',marker='',color='grey',alpha=0.2,zorder=-1)\n",
    "            axs[row,col].plot([],[],c='k',ls='',marker='o',label='SNe Ia (z = 0.0)')\n",
    "            \n",
    "            for rs in rs_sn_colour_dict.keys():\n",
    "                delta1_rs_sn = (rs_sn_colour_dict[rs][cx.lower()]-rs_sn_colour_dict_ref[rs][cx.lower()])*1000.\n",
    "                delta2_rs_sn = (rs_sn_colour_dict[rs][cy.lower()]-rs_sn_colour_dict_ref[rs][cy.lower()])*1000.\n",
    "                msize = [10.]\n",
    "                msize = msize+[40.]*(len(delta1)-2)\n",
    "                msize.append(110.)\n",
    "                \n",
    "                iso_vals1.append(delta1_rs_sn)\n",
    "                iso_vals2.append(delta2_rs_sn)\n",
    "                \n",
    "                axs[row,col].scatter(delta1_rs_sn,delta2_rs_sn,c=redshift_colors[rs],marker='+',s=msize,label='SN Ia (z = {0})'.format(rs))\n",
    "                axs[row,col].plot(delta1_rs_sn,delta2_rs_sn,ls='-',marker='',color='grey',alpha=0.2,zorder=-1)\n",
    "            \n",
    "            \n",
    "            iso_vals1 = np.array(iso_vals1)\n",
    "            iso_vals2 = np.array(iso_vals2)\n",
    "            for val in range(iso_vals1.shape[1]):\n",
    "                #print(iso_vals1[:,val])\n",
    "                sort_index = np.argsort(iso_vals1[:,val])\n",
    "                axs[row,col].plot(iso_vals1[:,val][sort_index],iso_vals2[:,val][sort_index],ls='-',marker='',color='k',zorder=-1)\n",
    "            \n",
    "            axs[row,col].axhline(y=0.,ls='--',color='r')\n",
    "            axs[row,col].axvline(x=0.,ls='--',color='r')\n",
    "            axs[row,col].grid()\n",
    "            #axs[row,col].set_xticks(fontsize=20)\n",
    "            #axs[row,col].set_yticks(fontsize=20)\n",
    "            #axs[row,col].set_xlim(-21.,33.)\n",
    "            axs[row,col].set_xlim(-25,30)\n",
    "            axs[row,col].set_ylim(-25,30)\n",
    "            \n",
    "            axs[row,col].set_xlabel(r'$\\Delta$'+'('+cx+') [mmag]',fontsize=18)\n",
    "            axs[row,col].set_ylabel(r'$\\Delta$'+'('+cy+') [mmag]',fontsize=18)\n",
    "            axs[row,col].set_title('Varying {0}. Airmass = {1}, clouds = {2}'.format(variable_param,am0,cloud0),fontsize=14)\n",
    "            axs[row,col].legend(fontsize=16)\n",
    "            \n",
    "            i += 1"
   ]
  },
  {
   "cell_type": "code",
   "execution_count": null,
   "id": "46dfb9e9",
   "metadata": {
    "scrolled": false
   },
   "outputs": [],
   "source": [
    "fig_rows = len(filters)-2\n",
    "\n",
    "sel_sn = 0\n",
    "\n",
    "redshifts_ = [0.2,0.4,0.6,0.8,1.0]\n",
    "rs_colors = {0.2:'b',0.4:'cyan',0.6:'g',0.8:'orange',1.0:'r'}\n",
    "\n",
    "i = 0\n",
    "for row in range(fig_rows):\n",
    "    if i<len(filters)-2:\n",
    "        fig, axs = plt.subplots(1, 1, figsize=(18,8))\n",
    "        cy = '{0}-{1}'.format(filters[i],filters[i+1])\n",
    "        cx = '{0}-{1}'.format(filters[i+1],filters[i+2])\n",
    "        \n",
    "        iso_vals1 = []\n",
    "        iso_vals2 = []\n",
    "        for spec_type in spectral_types[::-1]:\n",
    "            for si in colour_dict[spec_type]:\n",
    "                delta1 = (colour_dict[spec_type][si][cx.lower()]-colour_dict_ref[spec_type][si][cx.lower()])*1000.\n",
    "                delta2 = (colour_dict[spec_type][si][cy.lower()]-colour_dict_ref[spec_type][si][cy.lower()])*1000.\n",
    "                msize = [10.]\n",
    "                msize = msize+[40.]*(len(delta1)-2)\n",
    "                msize.append(110.)\n",
    "                \n",
    "                #iso_vals1.append(delta1)\n",
    "                #iso_vals2.append(delta2)\n",
    "                    \n",
    "                #axs.scatter(delta1,delta2,c=type_colors[spec_type],marker='o',s=msize,alpha=1.0,zorder=1)\n",
    "                axs.plot(delta1,delta2,ls='-',linewidth=0.6,marker='',color='grey',alpha=0.4,zorder=-1)\n",
    "                \n",
    "        #for spec_type in spectral_types:\n",
    "        #    axs.plot([],[],c=type_colors[spec_type],ls='',marker='o',label=spec_type)\n",
    "        axs.plot([],[],c='grey',ls='-',marker='',alpha=0.6,label='stars')\n",
    "            \n",
    "        for si,sn in enumerate(sn_colour_dict.keys()):\n",
    "            if si==sel_sn:\n",
    "                delta1_sn = (sn_colour_dict[sn][cx.lower()]-sn_colour_dict_ref[sn][cx.lower()])*1000.\n",
    "                delta2_sn = (sn_colour_dict[sn][cy.lower()]-sn_colour_dict_ref[sn][cy.lower()])*1000.\n",
    "                msize = [10.]\n",
    "                msize = msize+[40.]*(len(delta1)-2)\n",
    "                msize.append(110.)\n",
    "                \n",
    "                #iso_vals1.append(delta1_sn)\n",
    "                #iso_vals2.append(delta2_sn)\n",
    "                \n",
    "                axs.scatter(delta1_sn,delta2_sn,facecolors='none', edgecolors='k',s=msize)\n",
    "                    \n",
    "            #else:\n",
    "                #axs.scatter(delta1_sn,delta2_sn,c='k',marker='o',s=msize)\n",
    "                \n",
    "                axs.plot(delta1_sn,delta2_sn,ls='-',linewidth=0.6,marker='',color='grey',alpha=0.4,zorder=-1)\n",
    "        axs.plot([],[],c='k',ls='',marker='o',fillstyle='none',label='SN Ia (z = 0.0)')    \n",
    "        \n",
    "        \n",
    "        #for rs in rs_sn_colour_dict.keys():\n",
    "        for rs in redshifts_:\n",
    "            delta1_rs_sn = (rs_sn_colour_dict[rs][cx.lower()]-rs_sn_colour_dict_ref[rs][cx.lower()])*1000.\n",
    "            delta2_rs_sn = (rs_sn_colour_dict[rs][cy.lower()]-rs_sn_colour_dict_ref[rs][cy.lower()])*1000.\n",
    "            msize = [10.]\n",
    "            msize = msize+[40.]*(len(delta1)-2)\n",
    "            msize.append(110.)\n",
    "            \n",
    "            iso_vals1.append(delta1_rs_sn)\n",
    "            iso_vals2.append(delta2_rs_sn)\n",
    "            \n",
    "            axs.scatter(delta1_rs_sn,delta2_rs_sn,c=rs_colors[rs],marker='o',s=msize,label='SN Ia (z = {0})'.format(rs))\n",
    "            axs.plot(delta1_rs_sn,delta2_rs_sn,ls='-',marker='',color='grey',alpha=0.2,zorder=-1)\n",
    "        \n",
    "        \n",
    "        iso_vals1 = np.array(iso_vals1)\n",
    "        iso_vals2 = np.array(iso_vals2)\n",
    "        for val in range(iso_vals1.shape[1]):\n",
    "            #print(iso_vals1[:,val])\n",
    "            sort_index = np.argsort(iso_vals1[:,val])\n",
    "            axs.plot(iso_vals1[:,val][sort_index],iso_vals2[:,val][sort_index],ls='-',marker='',color='k',zorder=-1)\n",
    "            \n",
    "        axs.axhline(y=0.,ls='--',color='r')\n",
    "        axs.axvline(x=0.,ls='--',color='r')\n",
    "        axs.grid()\n",
    "        axs.tick_params(axis='x', labelsize=16)\n",
    "        axs.tick_params(axis='y', labelsize=16)\n",
    "        axs.set_xlim(rangey2)\n",
    "        axs.set_ylim(rangex2)\n",
    "        axs.set_aspect('equal')\n",
    "        \n",
    "        axs.set_xlabel(r'$\\Delta$'+'('+cx+') [mmag]',fontsize=18)\n",
    "        axs.set_ylabel(r'$\\Delta$'+'('+cy+') [mmag]',fontsize=18)\n",
    "        axs.set_title('Varying {0}. Airmass = {1}, clouds = {2}'.format(variable_param,am0,cloud0),fontsize=16)\n",
    "        axs.legend(fontsize=14)\n",
    "        plt.savefig('ANR_pwv_{0}_vs_{1}.png'.format(cx,cy))\n",
    "        i += 1"
   ]
  },
  {
   "cell_type": "code",
   "execution_count": null,
   "id": "cf0fcc11",
   "metadata": {},
   "outputs": [],
   "source": [
    "fig_rows = 1\n",
    "\n",
    "sel_sn = 0\n",
    "\n",
    "redshifts_ = [0.2,0.4,0.6,0.8,1.0]\n",
    "rs_colors = {0.2:'b',0.4:'cyan',0.6:'g',0.8:'orange',1.0:'r'}\n",
    "\n",
    "i = 0\n",
    "if True:\n",
    "    if True:\n",
    "        fig, axs = plt.subplots(1, 1, figsize=(18,8))\n",
    "        cy = 'i-z'\n",
    "        cx = 'z-y'\n",
    "        \n",
    "        iso_vals1 = []\n",
    "        iso_vals2 = []\n",
    "        for spec_type in spectral_types[::-1]:\n",
    "            for si in colour_dict[spec_type]:\n",
    "                delta1 = (colour_dict[spec_type][si][cx.lower()]-colour_dict_ref[spec_type][si][cx.lower()])*1000.\n",
    "                delta2 = (colour_dict[spec_type][si][cy.lower()]-colour_dict_ref[spec_type][si][cy.lower()])*1000.\n",
    "                \n",
    "                axs.plot(delta1,delta2,ls='-',linewidth=0.6,marker='',color='grey',alpha=0.4,zorder=-1)\n",
    "                \n",
    "        axs.plot([],[],c='grey',ls='-',marker='',alpha=0.6,label='stars')\n",
    "            \n",
    "        for si,sn in enumerate(sn_colour_dict.keys()):\n",
    "            if si==sel_sn:\n",
    "                delta1_sn = (sn_colour_dict[sn][cx.lower()]-sn_colour_dict_ref[sn][cx.lower()])*1000.\n",
    "                delta2_sn = (sn_colour_dict[sn][cy.lower()]-sn_colour_dict_ref[sn][cy.lower()])*1000.\n",
    "                msize = [10.]\n",
    "                msize = msize+[40.]*(len(delta1)-2)\n",
    "                msize.append(110.)\n",
    "                \n",
    "                iso_vals1.append(delta1_sn)\n",
    "                iso_vals2.append(delta2_sn)\n",
    "                \n",
    "                axs.scatter(delta1_sn,delta2_sn,facecolors='none', edgecolors='k',s=80.)\n",
    "                \n",
    "                for i in range(len(delta1_sn)):\n",
    "                    if i<=1:\n",
    "                        xshift = 3.\n",
    "                    else:\n",
    "                        xshift = -4.\n",
    "                    yshift = 0.01\n",
    "                    axs.text(delta1_sn[i]+xshift,delta2_sn[i]+yshift,'PWV = {0}'.format(atm_vals[i]),color='b',rotation=45,size=14)\n",
    "                \n",
    "                axs.plot(delta1_sn,delta2_sn,ls='-',linewidth=0.8,marker='',color='k',alpha=0.5,zorder=-1)\n",
    "        axs.plot([],[],c='k',ls='',marker='o',fillstyle='none',label='SN Ia (z = 0.0)')    \n",
    "        \n",
    "        \n",
    "        for rs in redshifts_:\n",
    "            delta1_rs_sn = (rs_sn_colour_dict[rs][cx.lower()]-rs_sn_colour_dict_ref[rs][cx.lower()])*1000.\n",
    "            delta2_rs_sn = (rs_sn_colour_dict[rs][cy.lower()]-rs_sn_colour_dict_ref[rs][cy.lower()])*1000.\n",
    "            msize = [10.]\n",
    "            msize = msize+[40.]*(len(delta1)-2)\n",
    "            msize.append(110.)\n",
    "            \n",
    "            iso_vals1.append(delta1_rs_sn)\n",
    "            iso_vals2.append(delta2_rs_sn)\n",
    "            \n",
    "            axs.scatter(delta1_rs_sn,delta2_rs_sn,c=rs_colors[rs],marker='o',s=80.,label='SN Ia (z = {0})'.format(rs))\n",
    "            axs.plot(delta1_rs_sn,delta2_rs_sn,ls='-',linewidth=0.8,marker='',color='k',alpha=0.5,zorder=-1)\n",
    "        \n",
    "        \n",
    "        iso_vals1 = np.array(iso_vals1)\n",
    "        iso_vals2 = np.array(iso_vals2)\n",
    "        \n",
    "        #axs.plot(iso_vals1[:,0],iso_vals2[:,0],ls='-',marker='',color='k',zorder=-1)\n",
    "        #axs.plot(iso_vals1[:,-1],iso_vals2[:,-1],ls='-',marker='',color='k',zorder=-1)\n",
    "        \n",
    "        iso_vals1_min = iso_vals1[:,0]\n",
    "        iso_vals1_max = iso_vals1[:,-1]\n",
    "        iso_vals2_min = iso_vals2[:,0]\n",
    "        iso_vals2_max = iso_vals2[:,-1]\n",
    "        \n",
    "        axs.quiver(iso_vals1_min[:-1],iso_vals2_min[:-1],iso_vals1_min[1:]-iso_vals1_min[:-1],iso_vals2_min[1:]-iso_vals2_min[:-1],scale_units='xy',angles='xy',scale=1,width=0.002)\n",
    "        axs.quiver(iso_vals1_max[:-1],iso_vals2_max[:-1],iso_vals1_max[1:]-iso_vals1_max[:-1],iso_vals2_max[1:]-iso_vals2_max[:-1],scale_units='xy',angles='xy',scale=1,width=0.002)\n",
    "            \n",
    "        axs.axhline(y=0.,ls='--',color='r')\n",
    "        axs.axvline(x=0.,ls='--',color='r')\n",
    "        axs.grid()\n",
    "        axs.tick_params(axis='x', labelsize=16)\n",
    "        axs.tick_params(axis='y', labelsize=16)\n",
    "        axs.set_xlim(rangey2)\n",
    "        axs.set_ylim(rangex2)\n",
    "        axs.set_aspect('equal')\n",
    "        \n",
    "        axs.set_xlabel(r'$\\Delta$'+'('+cx+') [mmag]',fontsize=18)\n",
    "        axs.set_ylabel(r'$\\Delta$'+'('+cy+') [mmag]',fontsize=18)\n",
    "        axs.set_title('Varying {0}. Airmass = {1}, clouds = {2}'.format(variable_param,am0,cloud0),fontsize=16)\n",
    "        axs.legend(fontsize=14)\n",
    "        plt.savefig('ANR_pwv_{0}_vs_{1}_v2.png'.format(cx,cy))\n",
    "        i += 1"
   ]
  },
  {
   "cell_type": "code",
   "execution_count": null,
   "id": "797c2007",
   "metadata": {
    "scrolled": false
   },
   "outputs": [],
   "source": [
    "fig_rows = len(filters)-2\n",
    "\n",
    "sel_sn = 0\n",
    "\n",
    "redshifts_ = [0.2,0.4,0.6,0.8,1.0]\n",
    "rs_colors = {0.2:'b',0.4:'cyan',0.6:'g',0.8:'orange',1.0:'r'}\n",
    "\n",
    "i = 0\n",
    "for row in range(fig_rows):\n",
    "    if i<len(filters)-2:\n",
    "        print(i)\n",
    "        fig, axs = plt.subplots(1, 1, figsize=(18,8))\n",
    "        cy = '{0}-{1}'.format(filters[i],filters[i+1])\n",
    "        cx = '{0}-{1}'.format(filters[i+1],filters[i+2])\n",
    "        \n",
    "        iso_vals1 = []\n",
    "        iso_vals2 = []\n",
    "        for spec_type in spectral_types[::-1]:\n",
    "            for si in colour_dict[spec_type]:\n",
    "                delta1 = (colour_dict[spec_type][si][cx.lower()]-colour_dict_ref[spec_type][si][cx.lower()])*1000.\n",
    "                delta2 = (colour_dict[spec_type][si][cy.lower()]-colour_dict_ref[spec_type][si][cy.lower()])*1000.\n",
    "                \n",
    "                axs.plot(delta1,delta2,ls='-',linewidth=0.6,marker='',color='grey',alpha=0.4,zorder=-1)\n",
    "                \n",
    "        axs.plot([],[],c='grey',ls='-',marker='',alpha=0.6,label='stars')\n",
    "            \n",
    "        for si,sn in enumerate(sn_colour_dict.keys()):\n",
    "            if si==sel_sn:\n",
    "                delta1_sn = (sn_colour_dict[sn][cx.lower()]-sn_colour_dict_ref[sn][cx.lower()])*1000.\n",
    "                delta2_sn = (sn_colour_dict[sn][cy.lower()]-sn_colour_dict_ref[sn][cy.lower()])*1000.\n",
    "                msize = [10.]\n",
    "                msize = msize+[40.]*(len(delta1)-2)\n",
    "                msize.append(110.)\n",
    "                \n",
    "                iso_vals1.append(delta1_sn)\n",
    "                iso_vals2.append(delta2_sn)\n",
    "                \n",
    "                axs.scatter(delta1_sn,delta2_sn,facecolors='none', edgecolors='k',s=80.)\n",
    "                \n",
    "                for j in range(len(delta1_sn)):\n",
    "                    if j<=1:\n",
    "                        xshift = 3.\n",
    "                    else:\n",
    "                        xshift = -4.\n",
    "                    yshift = 0.01\n",
    "                    axs.text(delta1_sn[j]+xshift,delta2_sn[j]+yshift,'PWV = {0}'.format(atm_vals[j]),color='b',rotation=45,size=14)\n",
    "                \n",
    "                axs.plot(delta1_sn,delta2_sn,ls='-',linewidth=0.8,marker='',color='k',alpha=0.5,zorder=-1)\n",
    "        axs.plot([],[],c='k',ls='',marker='o',fillstyle='none',label='SN Ia (z = 0.0)')    \n",
    "        \n",
    "        \n",
    "        for rs in redshifts_:\n",
    "            delta1_rs_sn = (rs_sn_colour_dict[rs][cx.lower()]-rs_sn_colour_dict_ref[rs][cx.lower()])*1000.\n",
    "            delta2_rs_sn = (rs_sn_colour_dict[rs][cy.lower()]-rs_sn_colour_dict_ref[rs][cy.lower()])*1000.\n",
    "            msize = [10.]\n",
    "            msize = msize+[40.]*(len(delta1)-2)\n",
    "            msize.append(110.)\n",
    "            \n",
    "            iso_vals1.append(delta1_rs_sn)\n",
    "            iso_vals2.append(delta2_rs_sn)\n",
    "            \n",
    "            axs.scatter(delta1_rs_sn,delta2_rs_sn,c=rs_colors[rs],marker='o',s=80.,label='SN Ia (z = {0})'.format(rs))\n",
    "            axs.plot(delta1_rs_sn,delta2_rs_sn,ls='-',linewidth=0.8,marker='',color='k',alpha=0.5,zorder=-1)\n",
    "        \n",
    "        \n",
    "        iso_vals1 = np.array(iso_vals1)\n",
    "        iso_vals2 = np.array(iso_vals2)\n",
    "        \n",
    "        #axs.plot(iso_vals1[:,0],iso_vals2[:,0],ls='-',marker='',color='k',zorder=-1)\n",
    "        #axs.plot(iso_vals1[:,-1],iso_vals2[:,-1],ls='-',marker='',color='k',zorder=-1)\n",
    "        \n",
    "        iso_vals1_min = iso_vals1[:,0]\n",
    "        iso_vals1_max = iso_vals1[:,-1]\n",
    "        iso_vals2_min = iso_vals2[:,0]\n",
    "        iso_vals2_max = iso_vals2[:,-1]\n",
    "        \n",
    "        axs.quiver(iso_vals1_min[:-1],iso_vals2_min[:-1],iso_vals1_min[1:]-iso_vals1_min[:-1],iso_vals2_min[1:]-iso_vals2_min[:-1],scale_units='xy',angles='xy',scale=1,width=0.002)\n",
    "        axs.quiver(iso_vals1_max[:-1],iso_vals2_max[:-1],iso_vals1_max[1:]-iso_vals1_max[:-1],iso_vals2_max[1:]-iso_vals2_max[:-1],scale_units='xy',angles='xy',scale=1,width=0.002)\n",
    "            \n",
    "        axs.axhline(y=0.,ls='--',color='r')\n",
    "        axs.axvline(x=0.,ls='--',color='r')\n",
    "        axs.grid()\n",
    "        axs.tick_params(axis='x', labelsize=16)\n",
    "        axs.tick_params(axis='y', labelsize=16)\n",
    "        axs.set_xlim(rangey2)\n",
    "        axs.set_ylim(rangex2)\n",
    "        axs.set_aspect('equal')\n",
    "        \n",
    "        axs.set_xlabel(r'$\\Delta$'+'('+cx+') [mmag]',fontsize=18)\n",
    "        axs.set_ylabel(r'$\\Delta$'+'('+cy+') [mmag]',fontsize=18)\n",
    "        axs.set_title('Varying {0}. Airmass = {1}, clouds = {2}'.format(variable_param,am0,cloud0),fontsize=16)\n",
    "        axs.legend(fontsize=14)\n",
    "        i += 1"
   ]
  },
  {
   "cell_type": "code",
   "execution_count": null,
   "id": "b1e55778",
   "metadata": {},
   "outputs": [],
   "source": []
  },
  {
   "cell_type": "code",
   "execution_count": null,
   "id": "9040906e",
   "metadata": {},
   "outputs": [],
   "source": []
  }
 ],
 "metadata": {
  "kernelspec": {
   "display_name": "Python 3 (ipykernel)",
   "language": "python",
   "name": "python3"
  },
  "language_info": {
   "codemirror_mode": {
    "name": "ipython",
    "version": 3
   },
   "file_extension": ".py",
   "mimetype": "text/x-python",
   "name": "python",
   "nbconvert_exporter": "python",
   "pygments_lexer": "ipython3",
   "version": "3.8.12"
  }
 },
 "nbformat": 4,
 "nbformat_minor": 5
}
